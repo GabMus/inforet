{
 "cells": [
  {
   "cell_type": "markdown",
   "metadata": {},
   "source": [
    "# Short tutorial on gensim for topic modeling"
   ]
  },
  {
   "cell_type": "code",
   "execution_count": 1,
   "metadata": {},
   "outputs": [
    {
     "name": "stdout",
     "output_type": "stream",
     "text": [
      "importing Jupyter notebook from benchmark.ipynb\n",
      "importing Jupyter notebook from classifiers.ipynb\n"
     ]
    }
   ],
   "source": [
    "import nbimporter\n",
    "from benchmark import ImageTags\n",
    "import numpy as np\n",
    "from IPython.core.display import display, HTML, Image\n",
    "import matplotlib.pyplot as plt\n",
    "from mpl_toolkits.axes_grid1 import make_axes_locatable\n",
    "import itertools\n",
    "from sklearn import metrics\n",
    "from gensim import corpora, models\n",
    "from classifiers import Classifier"
   ]
  },
  {
   "cell_type": "code",
   "execution_count": 2,
   "metadata": {},
   "outputs": [],
   "source": [
    "def cm_plot(ax, classes, CM, title, figure):\n",
    "    im = ax.imshow(CM, interpolation='nearest', cmap=plt.cm.Blues)\n",
    "    divider = make_axes_locatable(ax)\n",
    "    cax = divider.append_axes('right', size='5%', pad=0.05)\n",
    "    figure.colorbar(im, cax=cax, orientation='vertical')\n",
    "    tick_marks = np.arange(len(classes))\n",
    "    ax.set_xticks(tick_marks)\n",
    "    ax.set_xticklabels(classes, rotation=90, fontsize=12)\n",
    "    ax.set_yticks(tick_marks)\n",
    "    ax.set_yticklabels(classes, rotation=0, fontsize=12)\n",
    "    ax.set_title(title, fontsize=16)\n",
    "    thresh = CM.max() / 2.\n",
    "    for i, j in itertools.product(range(CM.shape[0]), range(CM.shape[1])):\n",
    "        ax.text(j, i, CM[i, j], horizontalalignment=\"center\",\n",
    "                 color=\"white\" if CM[i, j] > thresh else \"black\", fontsize=12)\n",
    "    ax.set_ylabel('True label', fontsize=16)\n",
    "    ax.set_xlabel('Predicted label', fontsize=16)"
   ]
  },
  {
   "cell_type": "code",
   "execution_count": 3,
   "metadata": {},
   "outputs": [],
   "source": [
    "I = ImageTags('inforet', 'googleimages', url='image_thumbnail_url', \n",
    "              selection=None)\n",
    "C = Classifier(I, 'category')"
   ]
  },
  {
   "cell_type": "markdown",
   "metadata": {},
   "source": [
    "## 1. Create dictionary"
   ]
  },
  {
   "cell_type": "code",
   "execution_count": 4,
   "metadata": {},
   "outputs": [],
   "source": [
    "dictionary = corpora.Dictionary(I.tag_stream())"
   ]
  },
  {
   "cell_type": "code",
   "execution_count": null,
   "metadata": {},
   "outputs": [],
   "source": [
    "print dictionary\n",
    "print dictionary.token2id.items()[:10]"
   ]
  },
  {
   "cell_type": "markdown",
   "metadata": {},
   "source": [
    "### Gensim bag of words"
   ]
  },
  {
   "cell_type": "code",
   "execution_count": null,
   "metadata": {},
   "outputs": [],
   "source": [
    "doc = [I.tags[j] for j, x in enumerate(I.M[0]) if x > 0]\n",
    "print doc\n",
    "print dictionary.doc2bow(doc)"
   ]
  },
  {
   "cell_type": "markdown",
   "metadata": {},
   "source": [
    "## 2. Create a corpus"
   ]
  },
  {
   "cell_type": "code",
   "execution_count": 24,
   "metadata": {},
   "outputs": [],
   "source": [
    "class IMG(object):\n",
    "    \n",
    "    def __init__(self, imagetags, dictionary):\n",
    "        self.I, self.D = imagetags, dictionary\n",
    "    \n",
    "    def __iter__(self):\n",
    "        for doc in self.I.tag_stream():\n",
    "            yield self.D.doc2bow(doc)\n",
    "    \n",
    "    def __len__(self):\n",
    "        return self.I.M.shape[0]"
   ]
  },
  {
   "cell_type": "code",
   "execution_count": 25,
   "metadata": {},
   "outputs": [],
   "source": [
    "corpus = IMG(I, dictionary)"
   ]
  },
  {
   "cell_type": "markdown",
   "metadata": {},
   "source": [
    "## 3. Apply transformations"
   ]
  },
  {
   "cell_type": "code",
   "execution_count": 26,
   "metadata": {},
   "outputs": [],
   "source": [
    "tfidf = models.TfidfModel(corpus) # Model trained by corpus"
   ]
  },
  {
   "cell_type": "code",
   "execution_count": 27,
   "metadata": {},
   "outputs": [],
   "source": [
    "corpus_tfidf = tfidf[corpus] # New corpus transformed"
   ]
  },
  {
   "cell_type": "markdown",
   "metadata": {},
   "source": [
    "## 4. Create models"
   ]
  },
  {
   "cell_type": "markdown",
   "metadata": {},
   "source": [
    "### LSI"
   ]
  },
  {
   "cell_type": "code",
   "execution_count": 28,
   "metadata": {},
   "outputs": [],
   "source": [
    "lsi = models.LsiModel(corpus_tfidf, id2word=corpus.D, num_topics=4)\n",
    "lsi_corpus = lsi[corpus_tfidf]"
   ]
  },
  {
   "cell_type": "markdown",
   "metadata": {},
   "source": [
    "Term topic matrix with shape (num_topics, vocabulary_size)"
   ]
  },
  {
   "cell_type": "code",
   "execution_count": 29,
   "metadata": {},
   "outputs": [
    {
     "data": {
      "text/plain": [
       "array([[ -1.69941776e-01,  -1.17329690e-03,  -1.64761776e-01, ...,\n",
       "         -5.25552514e-04,  -2.81119205e-04,  -5.28990705e-04],\n",
       "       [ -1.75132826e-01,  -1.25554721e-03,  -1.73434011e-01, ...,\n",
       "          1.24944331e-04,   6.05062660e-05,   3.29446833e-04],\n",
       "       [  6.17300526e-02,   4.57329943e-04,   6.27342346e-02, ...,\n",
       "         -1.00821391e-03,  -5.90353513e-04,  -9.60073818e-04],\n",
       "       [  3.13567981e-02,   2.66717898e-04,   3.23121518e-02, ...,\n",
       "         -1.19995424e-03,  -7.89869900e-04,   4.75069981e-04]])"
      ]
     },
     "execution_count": 29,
     "metadata": {},
     "output_type": "execute_result"
    }
   ],
   "source": [
    "lsi.get_topics()"
   ]
  },
  {
   "cell_type": "code",
   "execution_count": null,
   "metadata": {},
   "outputs": [],
   "source": [
    "print lsi.show_topic(0)\n",
    "print lsi.show_topic(1)"
   ]
  },
  {
   "cell_type": "markdown",
   "metadata": {},
   "source": [
    "Document to topics"
   ]
  },
  {
   "cell_type": "code",
   "execution_count": 30,
   "metadata": {},
   "outputs": [],
   "source": [
    "lsi_predicted = []\n",
    "for lsi_vec in lsi_corpus:\n",
    "    values = np.array([np.abs(x) for i, x in lsi_vec])\n",
    "    lsi_predicted.append(np.argmax(values))"
   ]
  },
  {
   "cell_type": "markdown",
   "metadata": {},
   "source": [
    "### LDA"
   ]
  },
  {
   "cell_type": "code",
   "execution_count": 31,
   "metadata": {},
   "outputs": [],
   "source": [
    "lda = models.LdaModel(corpus_tfidf, id2word=corpus.D, num_topics=4)\n",
    "lda_corpus = lda[corpus_tfidf]"
   ]
  },
  {
   "cell_type": "code",
   "execution_count": null,
   "metadata": {},
   "outputs": [],
   "source": [
    "print lda.show_topic(0)\n",
    "print lda.show_topic(1)"
   ]
  },
  {
   "cell_type": "code",
   "execution_count": 32,
   "metadata": {},
   "outputs": [],
   "source": [
    "lda_predicted = []\n",
    "for lda_vec in lda_corpus:\n",
    "    values = np.array([x for i, x in lda_vec])\n",
    "    lda_predicted.append(np.argmax(values))"
   ]
  },
  {
   "cell_type": "markdown",
   "metadata": {},
   "source": [
    "### HDP"
   ]
  },
  {
   "cell_type": "code",
   "execution_count": 33,
   "metadata": {},
   "outputs": [],
   "source": [
    "hdp = models.HdpModel(corpus_tfidf, id2word=corpus.D)\n",
    "hdp_corpus = hdp[corpus_tfidf]"
   ]
  },
  {
   "cell_type": "code",
   "execution_count": 34,
   "metadata": {},
   "outputs": [
    {
     "name": "stdout",
     "output_type": "stream",
     "text": [
      "[(u'bungalow', 0.0044005352246404604), (u'etching', 0.0041877364635602076), (u'boxer', 0.0038920237975361757), (u'purse', 0.0033773252087090132), (u'cozy', 0.0033431603392006255), (u'departure', 0.0032750789529845206), (u'badge', 0.0030124071616789675), (u'batch', 0.0029556911073749912), (u'skyscraper', 0.0029470456268494045), (u'bill', 0.0029436477515863216), (u'water', 0.0029284407475684443), (u'closeup', 0.0029013830459323087), (u'merry', 0.0028318259530757169), (u'Venetian', 0.0028017365707845559), (u'tie', 0.0027531114972588035), (u'thirst', 0.002732921375695657), (u'royalty', 0.0027054147215845991), (u'wildlife', 0.0026413111029540441), (u'rice', 0.0026245225450399917), (u'rainforest', 0.0026090503407302295)]\n",
      "[(u'pot', 0.0037253360575587964), (u'purse', 0.003638235498818948), (u'status badge', 0.0034510398788701714), (u'joy', 0.0033468015820072119), (u'prayer', 0.0031570528233270242), (u'fashion', 0.0031420561307019847), (u'document', 0.0030059262265220237), (u'gradient', 0.0029964662671853751), (u'panoramic', 0.0028142171755052192), (u'arched', 0.0027902142299538746), (u'handle', 0.0027223468510677827), (u'mascot', 0.0026960890016792501), (u'football stadium', 0.0026785141248613017), (u'special', 0.0026300303992893262), (u'relaxation', 0.0026105695329264452), (u'spherical', 0.0026098313732977785), (u'graphic', 0.0025305242401687245), (u'branch', 0.0024790370899752611), (u'card', 0.0024692216900370182), (u'friendship', 0.0024275432743916239)]\n"
     ]
    }
   ],
   "source": [
    "print hdp.show_topic(0)\n",
    "print hdp.show_topic(1)"
   ]
  },
  {
   "cell_type": "code",
   "execution_count": 35,
   "metadata": {},
   "outputs": [],
   "source": [
    "hdp_predicted = []\n",
    "for hdp_vec in hdp_corpus:\n",
    "    values = np.array([x for i, x in hdp_vec])\n",
    "    hdp_predicted.append(np.argmax(values))"
   ]
  },
  {
   "cell_type": "markdown",
   "metadata": {},
   "source": [
    "# EVALUATION"
   ]
  },
  {
   "cell_type": "code",
   "execution_count": 37,
   "metadata": {},
   "outputs": [
    {
     "data": {
      "text/html": [
       "<table><tr><td>LSI</td><td>0.217</td><td>0.19</td><td>0.218</td></tr><tr><td>LDA</td><td>0.155</td><td>0.118</td><td>0.158</td></tr><tr><td>HDP</td><td>0.0</td><td>0.004</td><td>0.001</td></tr></table>"
      ],
      "text/plain": [
       "<IPython.core.display.HTML object>"
      ]
     },
     "metadata": {},
     "output_type": "display_data"
    }
   ],
   "source": [
    "experiments = ['LSI', 'LDA', 'HDP']\n",
    "clusters = [lsi_predicted, lda_predicted, hdp_predicted]\n",
    "\n",
    "rows = []\n",
    "for i, e in enumerate(experiments):\n",
    "    data = [\n",
    "        e, \n",
    "        round(metrics.adjusted_mutual_info_score(C.categories, clusters[i]), 3),\n",
    "        round(metrics.adjusted_rand_score(C.categories, clusters[i]), 3),\n",
    "        round(metrics.homogeneity_score(C.categories, clusters[i]), 3)\n",
    "    ]\n",
    "    row = \"<tr>\" + \"\".join([\"<td>{}</td>\".format(x) for x in data]) + \"</tr>\"\n",
    "    rows.append(row)\n",
    "table = \"<table>{}</table>\".format(\"\".join(rows))\n",
    "display(HTML(table))"
   ]
  },
  {
   "cell_type": "code",
   "execution_count": null,
   "metadata": {},
   "outputs": [],
   "source": []
  }
 ],
 "metadata": {
  "kernelspec": {
   "display_name": "Python 2",
   "language": "python",
   "name": "python2"
  },
  "language_info": {
   "codemirror_mode": {
    "name": "ipython",
    "version": 2
   },
   "file_extension": ".py",
   "mimetype": "text/x-python",
   "name": "python",
   "nbconvert_exporter": "python",
   "pygments_lexer": "ipython2",
   "version": "2.7.14"
  }
 },
 "nbformat": 4,
 "nbformat_minor": 2
}
