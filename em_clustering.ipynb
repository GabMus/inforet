{
 "cells": [
  {
   "cell_type": "markdown",
   "metadata": {},
   "source": [
    "# Expectation-Maximization Clustering\n",
    "\n",
    "### Maximization\n",
    "$$\n",
    "q_{mk} = \\frac{\\sum\\limits_{n=1}^{N} r_{nk}I(t_m \\in d_n)}{\\sum\\limits_{n=1}^{N}r_{nk}};\n",
    "\\alpha_{k} = \\frac{1}{N} \\sum\\limits_{n=1}^{N} r_{nk}\n",
    "$$\n",
    "\n",
    "### Expectation\n",
    "$$\n",
    "r_{nk} = \\frac{\\alpha_k\\left(\\prod_{t_m \\in d_n}q_{mk}\\right)\n",
    "\\left(\\prod_{t_m \\not\\in d_n}(1-q_{mk})\\right)}\n",
    "{\\sum\\limits_{k=1}^{K}\\alpha_k\\left(\\prod_{t_m \\in d_n}q_{mk}\\right)\n",
    "\\left(\\prod_{t_m \\not\\in d_n}(1-q_{mk})\\right)}\n",
    "$$\n",
    "\n",
    "### Example\n",
    "<table>\n",
    "    <tr>\n",
    "        <th>DocID</th>\n",
    "        <th>Tokens</th>\n",
    "        <th>Class</th>\n",
    "    </tr>\n",
    "    <tr>\n",
    "        <td>0</td>\n",
    "        <td>apple ios mac book fruit</td>\n",
    "        <td>A</td>\n",
    "    </tr>\n",
    "    <tr>\n",
    "        <td>1</td>\n",
    "        <td>apple mac book apple store fruit</td>\n",
    "        <td>A</td>\n",
    "    </tr>\n",
    "    <tr>\n",
    "        <td>2</td>\n",
    "        <td>microsoft ibm apple oracle</td>\n",
    "        <td>A</td>\n",
    "    </tr>\n",
    "    <tr>\n",
    "        <td>3</td>\n",
    "        <td>apple banana mango fruit</td>\n",
    "        <td>B</td>\n",
    "    </tr>\n",
    "    <tr>\n",
    "        <td>4</td>\n",
    "        <td>apple fruit</td>\n",
    "        <td>B</td>\n",
    "    </tr>\n",
    "</table>"
   ]
  },
  {
   "cell_type": "code",
   "execution_count": 8,
   "metadata": {},
   "outputs": [],
   "source": [
    "import numpy as np\n",
    "from IPython.core.display import display, HTML, Image\n",
    "\n",
    "docs = [\n",
    "    ['apple', 'ios', 'mac', 'book', 'fruit'],\n",
    "    ['apple', 'mac', 'book', 'apple', 'store'],\n",
    "    ['microsoft', 'ibm', 'apple', 'oracle'],\n",
    "    ['apple', 'banana', 'mango', 'fruit'],\n",
    "    ['apple', 'fruit', 'mango']\n",
    "]\n",
    "terms = list(set([x for y in docs for x in y]))\n",
    "M = np.array([[1 if x in y else 0 for x in terms] for y in docs])\n",
    "N, K, m = len(docs), 2, len(terms)\n",
    "A = np.zeros(K)\n",
    "Q = np.zeros((m, K))"
   ]
  },
  {
   "cell_type": "markdown",
   "metadata": {},
   "source": [
    "## Random init $r_{nk}$"
   ]
  },
  {
   "cell_type": "code",
   "execution_count": 9,
   "metadata": {},
   "outputs": [],
   "source": [
    "R = np.zeros((N, K))\n",
    "for doc in range(N):\n",
    "    a = np.random.uniform()\n",
    "    R[doc] = [a, 1-a]"
   ]
  },
  {
   "cell_type": "markdown",
   "metadata": {},
   "source": [
    "## Functions"
   ]
  },
  {
   "cell_type": "code",
   "execution_count": 10,
   "metadata": {},
   "outputs": [],
   "source": [
    "def maximization(K, R):\n",
    "    for k in range(K):\n",
    "        A[k] = R[:,k].sum() / N\n",
    "        for word in range(m):\n",
    "            sigma_doc = 0.0\n",
    "            for doc in range(N):\n",
    "                sigma_doc += R[doc,k] * M[doc,word]\n",
    "            Q[word][k] = sigma_doc / R[:,k].sum()"
   ]
  },
  {
   "cell_type": "code",
   "execution_count": 11,
   "metadata": {},
   "outputs": [],
   "source": [
    "def estimate(doc, k, Q, A):\n",
    "    q_doc = np.zeros(m)\n",
    "    for word in range(m):\n",
    "        if M[doc,word] > 0:\n",
    "            q_doc[word] = Q[word,k]\n",
    "        else:\n",
    "            q_doc[word] = 1 - Q[word,k]\n",
    "    return A[k] * q_doc.prod()\n",
    "    \n",
    "def expectation(K, Q, A):\n",
    "    for doc in range(N):\n",
    "        k_estimation = np.array([estimate(doc, k, Q, A) for k in range(K)])\n",
    "        for k in range(K):\n",
    "            R[doc][k] = k_estimation[k] / k_estimation.sum()"
   ]
  },
  {
   "cell_type": "code",
   "execution_count": 12,
   "metadata": {},
   "outputs": [],
   "source": [
    "def to_table(title, data, cols, rows):\n",
    "    header = \"<tr>\" + \"\".join([\"<th>{}</th>\".format(x) for x in [''] + cols]) + \"</tr>\"\n",
    "    trs = []\n",
    "    for i, c in enumerate(rows):\n",
    "        tr = \"<tr>\" + \"<td>{}</td>\".format(c)\n",
    "        tr += \"\".join([\"<td>{}</td>\".format(round(x, 3)) for x in data[i]])\n",
    "        tr += \"</tr>\"\n",
    "        trs.append(tr)\n",
    "    table = \"<h3>{}</h3><table>{}{}</table>\".format(\n",
    "        title,\n",
    "        header,\n",
    "        \"\".join(trs)\n",
    "    )\n",
    "    return table\n",
    "\n",
    "def show(r, q, a):\n",
    "    table = \"<table><tr><td style='vertical-align: top;'>{}</td><td style='vertical-align: top;'>{}</td><td style='vertical-align: top;'>{}</td></tr></table>\".format(\n",
    "        r, q, a\n",
    "    )\n",
    "    display(HTML(table))"
   ]
  },
  {
   "cell_type": "markdown",
   "metadata": {},
   "source": [
    "## Start"
   ]
  },
  {
   "cell_type": "code",
   "execution_count": 13,
   "metadata": {},
   "outputs": [
    {
     "data": {
      "text/html": [
       "<table><tr><td style='vertical-align: top;'><h3>$r_{nk}$</h3><table><tr><th></th><th>0</th><th>1</th></tr><tr><td>0</td><td>0.496</td><td>0.504</td></tr><tr><td>1</td><td>0.93</td><td>0.07</td></tr><tr><td>2</td><td>0.849</td><td>0.151</td></tr><tr><td>3</td><td>0.976</td><td>0.024</td></tr><tr><td>4</td><td>0.055</td><td>0.945</td></tr></table></td><td style='vertical-align: top;'><h3>$q_{mk}$</h3><table><tr><th></th><th>0</th><th>1</th></tr><tr><td>mango</td><td>0.0</td><td>0.0</td></tr><tr><td>apple</td><td>0.0</td><td>0.0</td></tr><tr><td>ios</td><td>0.0</td><td>0.0</td></tr><tr><td>fruit</td><td>0.0</td><td>0.0</td></tr><tr><td>banana</td><td>0.0</td><td>0.0</td></tr><tr><td>mac</td><td>0.0</td><td>0.0</td></tr><tr><td>book</td><td>0.0</td><td>0.0</td></tr><tr><td>oracle</td><td>0.0</td><td>0.0</td></tr><tr><td>microsoft</td><td>0.0</td><td>0.0</td></tr><tr><td>store</td><td>0.0</td><td>0.0</td></tr><tr><td>ibm</td><td>0.0</td><td>0.0</td></tr></table></td><td style='vertical-align: top;'><h3>$a_{k}$</h3><table><tr><th></th><th>0</th><th>1</th></tr><tr><td>priors</td><td>0.0</td><td>0.0</td></tr></table></td></tr></table>"
      ],
      "text/plain": [
       "<IPython.core.display.HTML object>"
      ]
     },
     "metadata": {},
     "output_type": "display_data"
    }
   ],
   "source": [
    "TR = to_table('$r_{nk}$', R, range(K), range(N))\n",
    "TQ = to_table('$q_{mk}$', Q, range(K), terms)\n",
    "TA = to_table('$a_{k}$', [A], range(K), ['priors'])\n",
    "show(TR, TQ, TA)"
   ]
  },
  {
   "cell_type": "markdown",
   "metadata": {},
   "source": [
    "## Iterate"
   ]
  },
  {
   "cell_type": "code",
   "execution_count": 14,
   "metadata": {},
   "outputs": [
    {
     "data": {
      "text/html": [
       "<h2>ITERATION 1</h2>"
      ],
      "text/plain": [
       "<IPython.core.display.HTML object>"
      ]
     },
     "metadata": {},
     "output_type": "display_data"
    },
    {
     "data": {
      "text/html": [
       "<table><tr><td style='vertical-align: top;'><h3>$r_{nk}$</h3><table><tr><th></th><th>0</th><th>1</th></tr><tr><td>0</td><td>0.285</td><td>0.715</td></tr><tr><td>1</td><td>0.985</td><td>0.015</td></tr><tr><td>2</td><td>0.993</td><td>0.007</td></tr><tr><td>3</td><td>0.81</td><td>0.19</td></tr><tr><td>4</td><td>0.128</td><td>0.872</td></tr></table></td><td style='vertical-align: top;'><h3>$q_{mk}$</h3><table><tr><th></th><th>0</th><th>1</th></tr><tr><td>mango</td><td>0.312</td><td>0.572</td></tr><tr><td>apple</td><td>1.0</td><td>1.0</td></tr><tr><td>ios</td><td>0.15</td><td>0.297</td></tr><tr><td>fruit</td><td>0.462</td><td>0.87</td></tr><tr><td>banana</td><td>0.295</td><td>0.014</td></tr><tr><td>mac</td><td>0.431</td><td>0.339</td></tr><tr><td>book</td><td>0.431</td><td>0.339</td></tr><tr><td>oracle</td><td>0.257</td><td>0.089</td></tr><tr><td>microsoft</td><td>0.257</td><td>0.089</td></tr><tr><td>store</td><td>0.281</td><td>0.041</td></tr><tr><td>ibm</td><td>0.257</td><td>0.089</td></tr></table></td><td style='vertical-align: top;'><h3>$a_{k}$</h3><table><tr><th></th><th>0</th><th>1</th></tr><tr><td>priors</td><td>0.661</td><td>0.339</td></tr></table></td></tr></table>"
      ],
      "text/plain": [
       "<IPython.core.display.HTML object>"
      ]
     },
     "metadata": {},
     "output_type": "display_data"
    },
    {
     "data": {
      "text/html": [
       "<h2>ITERATION 2</h2>"
      ],
      "text/plain": [
       "<IPython.core.display.HTML object>"
      ]
     },
     "metadata": {},
     "output_type": "display_data"
    },
    {
     "data": {
      "text/html": [
       "<table><tr><td style='vertical-align: top;'><h3>$r_{nk}$</h3><table><tr><th></th><th>0</th><th>1</th></tr><tr><td>0</td><td>0.047</td><td>0.953</td></tr><tr><td>1</td><td>1.0</td><td>0.0</td></tr><tr><td>2</td><td>1.0</td><td>0.0</td></tr><tr><td>3</td><td>0.228</td><td>0.772</td></tr><tr><td>4</td><td>0.093</td><td>0.907</td></tr></table></td><td style='vertical-align: top;'><h3>$q_{mk}$</h3><table><tr><th></th><th>0</th><th>1</th></tr><tr><td>mango</td><td>0.293</td><td>0.591</td></tr><tr><td>apple</td><td>1.0</td><td>1.0</td></tr><tr><td>ios</td><td>0.089</td><td>0.398</td></tr><tr><td>fruit</td><td>0.382</td><td>0.988</td></tr><tr><td>banana</td><td>0.253</td><td>0.106</td></tr><tr><td>mac</td><td>0.397</td><td>0.406</td></tr><tr><td>book</td><td>0.397</td><td>0.406</td></tr><tr><td>oracle</td><td>0.31</td><td>0.004</td></tr><tr><td>microsoft</td><td>0.31</td><td>0.004</td></tr><tr><td>store</td><td>0.308</td><td>0.008</td></tr><tr><td>ibm</td><td>0.31</td><td>0.004</td></tr></table></td><td style='vertical-align: top;'><h3>$a_{k}$</h3><table><tr><th></th><th>0</th><th>1</th></tr><tr><td>priors</td><td>0.64</td><td>0.36</td></tr></table></td></tr></table>"
      ],
      "text/plain": [
       "<IPython.core.display.HTML object>"
      ]
     },
     "metadata": {},
     "output_type": "display_data"
    },
    {
     "data": {
      "text/html": [
       "<h2>ITERATION 3</h2>"
      ],
      "text/plain": [
       "<IPython.core.display.HTML object>"
      ]
     },
     "metadata": {},
     "output_type": "display_data"
    },
    {
     "data": {
      "text/html": [
       "<table><tr><td style='vertical-align: top;'><h3>$r_{nk}$</h3><table><tr><th></th><th>0</th><th>1</th></tr><tr><td>0</td><td>0.004</td><td>0.996</td></tr><tr><td>1</td><td>1.0</td><td>0.0</td></tr><tr><td>2</td><td>1.0</td><td>0.0</td></tr><tr><td>3</td><td>0.001</td><td>0.999</td></tr><tr><td>4</td><td>0.005</td><td>0.995</td></tr></table></td><td style='vertical-align: top;'><h3>$q_{mk}$</h3><table><tr><th></th><th>0</th><th>1</th></tr><tr><td>mango</td><td>0.136</td><td>0.638</td></tr><tr><td>apple</td><td>1.0</td><td>1.0</td></tr><tr><td>ios</td><td>0.02</td><td>0.362</td></tr><tr><td>fruit</td><td>0.156</td><td>1.0</td></tr><tr><td>banana</td><td>0.096</td><td>0.293</td></tr><tr><td>mac</td><td>0.442</td><td>0.362</td></tr><tr><td>book</td><td>0.442</td><td>0.362</td></tr><tr><td>oracle</td><td>0.422</td><td>0.0</td></tr><tr><td>microsoft</td><td>0.422</td><td>0.0</td></tr><tr><td>store</td><td>0.422</td><td>0.0</td></tr><tr><td>ibm</td><td>0.422</td><td>0.0</td></tr></table></td><td style='vertical-align: top;'><h3>$a_{k}$</h3><table><tr><th></th><th>0</th><th>1</th></tr><tr><td>priors</td><td>0.474</td><td>0.526</td></tr></table></td></tr></table>"
      ],
      "text/plain": [
       "<IPython.core.display.HTML object>"
      ]
     },
     "metadata": {},
     "output_type": "display_data"
    },
    {
     "data": {
      "text/html": [
       "<h2>ITERATION 4</h2>"
      ],
      "text/plain": [
       "<IPython.core.display.HTML object>"
      ]
     },
     "metadata": {},
     "output_type": "display_data"
    },
    {
     "data": {
      "text/html": [
       "<table><tr><td style='vertical-align: top;'><h3>$r_{nk}$</h3><table><tr><th></th><th>0</th><th>1</th></tr><tr><td>0</td><td>0.0</td><td>1.0</td></tr><tr><td>1</td><td>1.0</td><td>0.0</td></tr><tr><td>2</td><td>1.0</td><td>0.0</td></tr><tr><td>3</td><td>0.0</td><td>1.0</td></tr><tr><td>4</td><td>0.0</td><td>1.0</td></tr></table></td><td style='vertical-align: top;'><h3>$q_{mk}$</h3><table><tr><th></th><th>0</th><th>1</th></tr><tr><td>mango</td><td>0.003</td><td>0.667</td></tr><tr><td>apple</td><td>1.0</td><td>1.0</td></tr><tr><td>ios</td><td>0.002</td><td>0.333</td></tr><tr><td>fruit</td><td>0.005</td><td>1.0</td></tr><tr><td>banana</td><td>0.001</td><td>0.334</td></tr><tr><td>mac</td><td>0.499</td><td>0.333</td></tr><tr><td>book</td><td>0.499</td><td>0.333</td></tr><tr><td>oracle</td><td>0.497</td><td>0.0</td></tr><tr><td>microsoft</td><td>0.497</td><td>0.0</td></tr><tr><td>store</td><td>0.497</td><td>0.0</td></tr><tr><td>ibm</td><td>0.497</td><td>0.0</td></tr></table></td><td style='vertical-align: top;'><h3>$a_{k}$</h3><table><tr><th></th><th>0</th><th>1</th></tr><tr><td>priors</td><td>0.402</td><td>0.598</td></tr></table></td></tr></table>"
      ],
      "text/plain": [
       "<IPython.core.display.HTML object>"
      ]
     },
     "metadata": {},
     "output_type": "display_data"
    },
    {
     "data": {
      "text/html": [
       "<h2>ITERATION 5</h2>"
      ],
      "text/plain": [
       "<IPython.core.display.HTML object>"
      ]
     },
     "metadata": {},
     "output_type": "display_data"
    },
    {
     "data": {
      "text/html": [
       "<table><tr><td style='vertical-align: top;'><h3>$r_{nk}$</h3><table><tr><th></th><th>0</th><th>1</th></tr><tr><td>0</td><td>0.0</td><td>1.0</td></tr><tr><td>1</td><td>1.0</td><td>0.0</td></tr><tr><td>2</td><td>1.0</td><td>0.0</td></tr><tr><td>3</td><td>0.0</td><td>1.0</td></tr><tr><td>4</td><td>0.0</td><td>1.0</td></tr></table></td><td style='vertical-align: top;'><h3>$q_{mk}$</h3><table><tr><th></th><th>0</th><th>1</th></tr><tr><td>mango</td><td>0.0</td><td>0.667</td></tr><tr><td>apple</td><td>1.0</td><td>1.0</td></tr><tr><td>ios</td><td>0.0</td><td>0.333</td></tr><tr><td>fruit</td><td>0.0</td><td>1.0</td></tr><tr><td>banana</td><td>0.0</td><td>0.333</td></tr><tr><td>mac</td><td>0.5</td><td>0.333</td></tr><tr><td>book</td><td>0.5</td><td>0.333</td></tr><tr><td>oracle</td><td>0.5</td><td>0.0</td></tr><tr><td>microsoft</td><td>0.5</td><td>0.0</td></tr><tr><td>store</td><td>0.5</td><td>0.0</td></tr><tr><td>ibm</td><td>0.5</td><td>0.0</td></tr></table></td><td style='vertical-align: top;'><h3>$a_{k}$</h3><table><tr><th></th><th>0</th><th>1</th></tr><tr><td>priors</td><td>0.4</td><td>0.6</td></tr></table></td></tr></table>"
      ],
      "text/plain": [
       "<IPython.core.display.HTML object>"
      ]
     },
     "metadata": {},
     "output_type": "display_data"
    },
    {
     "data": {
      "text/html": [
       "<h2>ITERATION 6</h2>"
      ],
      "text/plain": [
       "<IPython.core.display.HTML object>"
      ]
     },
     "metadata": {},
     "output_type": "display_data"
    },
    {
     "data": {
      "text/html": [
       "<table><tr><td style='vertical-align: top;'><h3>$r_{nk}$</h3><table><tr><th></th><th>0</th><th>1</th></tr><tr><td>0</td><td>0.0</td><td>1.0</td></tr><tr><td>1</td><td>1.0</td><td>0.0</td></tr><tr><td>2</td><td>1.0</td><td>0.0</td></tr><tr><td>3</td><td>0.0</td><td>1.0</td></tr><tr><td>4</td><td>0.0</td><td>1.0</td></tr></table></td><td style='vertical-align: top;'><h3>$q_{mk}$</h3><table><tr><th></th><th>0</th><th>1</th></tr><tr><td>mango</td><td>0.0</td><td>0.667</td></tr><tr><td>apple</td><td>1.0</td><td>1.0</td></tr><tr><td>ios</td><td>0.0</td><td>0.333</td></tr><tr><td>fruit</td><td>0.0</td><td>1.0</td></tr><tr><td>banana</td><td>0.0</td><td>0.333</td></tr><tr><td>mac</td><td>0.5</td><td>0.333</td></tr><tr><td>book</td><td>0.5</td><td>0.333</td></tr><tr><td>oracle</td><td>0.5</td><td>0.0</td></tr><tr><td>microsoft</td><td>0.5</td><td>0.0</td></tr><tr><td>store</td><td>0.5</td><td>0.0</td></tr><tr><td>ibm</td><td>0.5</td><td>0.0</td></tr></table></td><td style='vertical-align: top;'><h3>$a_{k}$</h3><table><tr><th></th><th>0</th><th>1</th></tr><tr><td>priors</td><td>0.4</td><td>0.6</td></tr></table></td></tr></table>"
      ],
      "text/plain": [
       "<IPython.core.display.HTML object>"
      ]
     },
     "metadata": {},
     "output_type": "display_data"
    },
    {
     "data": {
      "text/html": [
       "<h2>ITERATION 7</h2>"
      ],
      "text/plain": [
       "<IPython.core.display.HTML object>"
      ]
     },
     "metadata": {},
     "output_type": "display_data"
    },
    {
     "data": {
      "text/html": [
       "<table><tr><td style='vertical-align: top;'><h3>$r_{nk}$</h3><table><tr><th></th><th>0</th><th>1</th></tr><tr><td>0</td><td>0.0</td><td>1.0</td></tr><tr><td>1</td><td>1.0</td><td>0.0</td></tr><tr><td>2</td><td>1.0</td><td>0.0</td></tr><tr><td>3</td><td>0.0</td><td>1.0</td></tr><tr><td>4</td><td>0.0</td><td>1.0</td></tr></table></td><td style='vertical-align: top;'><h3>$q_{mk}$</h3><table><tr><th></th><th>0</th><th>1</th></tr><tr><td>mango</td><td>0.0</td><td>0.667</td></tr><tr><td>apple</td><td>1.0</td><td>1.0</td></tr><tr><td>ios</td><td>0.0</td><td>0.333</td></tr><tr><td>fruit</td><td>0.0</td><td>1.0</td></tr><tr><td>banana</td><td>0.0</td><td>0.333</td></tr><tr><td>mac</td><td>0.5</td><td>0.333</td></tr><tr><td>book</td><td>0.5</td><td>0.333</td></tr><tr><td>oracle</td><td>0.5</td><td>0.0</td></tr><tr><td>microsoft</td><td>0.5</td><td>0.0</td></tr><tr><td>store</td><td>0.5</td><td>0.0</td></tr><tr><td>ibm</td><td>0.5</td><td>0.0</td></tr></table></td><td style='vertical-align: top;'><h3>$a_{k}$</h3><table><tr><th></th><th>0</th><th>1</th></tr><tr><td>priors</td><td>0.4</td><td>0.6</td></tr></table></td></tr></table>"
      ],
      "text/plain": [
       "<IPython.core.display.HTML object>"
      ]
     },
     "metadata": {},
     "output_type": "display_data"
    },
    {
     "data": {
      "text/html": [
       "<h2>ITERATION 8</h2>"
      ],
      "text/plain": [
       "<IPython.core.display.HTML object>"
      ]
     },
     "metadata": {},
     "output_type": "display_data"
    },
    {
     "data": {
      "text/html": [
       "<table><tr><td style='vertical-align: top;'><h3>$r_{nk}$</h3><table><tr><th></th><th>0</th><th>1</th></tr><tr><td>0</td><td>0.0</td><td>1.0</td></tr><tr><td>1</td><td>1.0</td><td>0.0</td></tr><tr><td>2</td><td>1.0</td><td>0.0</td></tr><tr><td>3</td><td>0.0</td><td>1.0</td></tr><tr><td>4</td><td>0.0</td><td>1.0</td></tr></table></td><td style='vertical-align: top;'><h3>$q_{mk}$</h3><table><tr><th></th><th>0</th><th>1</th></tr><tr><td>mango</td><td>0.0</td><td>0.667</td></tr><tr><td>apple</td><td>1.0</td><td>1.0</td></tr><tr><td>ios</td><td>0.0</td><td>0.333</td></tr><tr><td>fruit</td><td>0.0</td><td>1.0</td></tr><tr><td>banana</td><td>0.0</td><td>0.333</td></tr><tr><td>mac</td><td>0.5</td><td>0.333</td></tr><tr><td>book</td><td>0.5</td><td>0.333</td></tr><tr><td>oracle</td><td>0.5</td><td>0.0</td></tr><tr><td>microsoft</td><td>0.5</td><td>0.0</td></tr><tr><td>store</td><td>0.5</td><td>0.0</td></tr><tr><td>ibm</td><td>0.5</td><td>0.0</td></tr></table></td><td style='vertical-align: top;'><h3>$a_{k}$</h3><table><tr><th></th><th>0</th><th>1</th></tr><tr><td>priors</td><td>0.4</td><td>0.6</td></tr></table></td></tr></table>"
      ],
      "text/plain": [
       "<IPython.core.display.HTML object>"
      ]
     },
     "metadata": {},
     "output_type": "display_data"
    },
    {
     "data": {
      "text/html": [
       "<h2>ITERATION 9</h2>"
      ],
      "text/plain": [
       "<IPython.core.display.HTML object>"
      ]
     },
     "metadata": {},
     "output_type": "display_data"
    },
    {
     "data": {
      "text/html": [
       "<table><tr><td style='vertical-align: top;'><h3>$r_{nk}$</h3><table><tr><th></th><th>0</th><th>1</th></tr><tr><td>0</td><td>0.0</td><td>1.0</td></tr><tr><td>1</td><td>1.0</td><td>0.0</td></tr><tr><td>2</td><td>1.0</td><td>0.0</td></tr><tr><td>3</td><td>0.0</td><td>1.0</td></tr><tr><td>4</td><td>0.0</td><td>1.0</td></tr></table></td><td style='vertical-align: top;'><h3>$q_{mk}$</h3><table><tr><th></th><th>0</th><th>1</th></tr><tr><td>mango</td><td>0.0</td><td>0.667</td></tr><tr><td>apple</td><td>1.0</td><td>1.0</td></tr><tr><td>ios</td><td>0.0</td><td>0.333</td></tr><tr><td>fruit</td><td>0.0</td><td>1.0</td></tr><tr><td>banana</td><td>0.0</td><td>0.333</td></tr><tr><td>mac</td><td>0.5</td><td>0.333</td></tr><tr><td>book</td><td>0.5</td><td>0.333</td></tr><tr><td>oracle</td><td>0.5</td><td>0.0</td></tr><tr><td>microsoft</td><td>0.5</td><td>0.0</td></tr><tr><td>store</td><td>0.5</td><td>0.0</td></tr><tr><td>ibm</td><td>0.5</td><td>0.0</td></tr></table></td><td style='vertical-align: top;'><h3>$a_{k}$</h3><table><tr><th></th><th>0</th><th>1</th></tr><tr><td>priors</td><td>0.4</td><td>0.6</td></tr></table></td></tr></table>"
      ],
      "text/plain": [
       "<IPython.core.display.HTML object>"
      ]
     },
     "metadata": {},
     "output_type": "display_data"
    },
    {
     "data": {
      "text/html": [
       "<h2>ITERATION 10</h2>"
      ],
      "text/plain": [
       "<IPython.core.display.HTML object>"
      ]
     },
     "metadata": {},
     "output_type": "display_data"
    },
    {
     "data": {
      "text/html": [
       "<table><tr><td style='vertical-align: top;'><h3>$r_{nk}$</h3><table><tr><th></th><th>0</th><th>1</th></tr><tr><td>0</td><td>0.0</td><td>1.0</td></tr><tr><td>1</td><td>1.0</td><td>0.0</td></tr><tr><td>2</td><td>1.0</td><td>0.0</td></tr><tr><td>3</td><td>0.0</td><td>1.0</td></tr><tr><td>4</td><td>0.0</td><td>1.0</td></tr></table></td><td style='vertical-align: top;'><h3>$q_{mk}$</h3><table><tr><th></th><th>0</th><th>1</th></tr><tr><td>mango</td><td>0.0</td><td>0.667</td></tr><tr><td>apple</td><td>1.0</td><td>1.0</td></tr><tr><td>ios</td><td>0.0</td><td>0.333</td></tr><tr><td>fruit</td><td>0.0</td><td>1.0</td></tr><tr><td>banana</td><td>0.0</td><td>0.333</td></tr><tr><td>mac</td><td>0.5</td><td>0.333</td></tr><tr><td>book</td><td>0.5</td><td>0.333</td></tr><tr><td>oracle</td><td>0.5</td><td>0.0</td></tr><tr><td>microsoft</td><td>0.5</td><td>0.0</td></tr><tr><td>store</td><td>0.5</td><td>0.0</td></tr><tr><td>ibm</td><td>0.5</td><td>0.0</td></tr></table></td><td style='vertical-align: top;'><h3>$a_{k}$</h3><table><tr><th></th><th>0</th><th>1</th></tr><tr><td>priors</td><td>0.4</td><td>0.6</td></tr></table></td></tr></table>"
      ],
      "text/plain": [
       "<IPython.core.display.HTML object>"
      ]
     },
     "metadata": {},
     "output_type": "display_data"
    }
   ],
   "source": [
    "for iteration in range(10):\n",
    "    maximization(K, R)\n",
    "    expectation(K, Q, A)\n",
    "    TR = to_table('$r_{nk}$', R, range(K), range(N))\n",
    "    TQ = to_table('$q_{mk}$', Q, range(K), terms)\n",
    "    TA = to_table('$a_{k}$', [A], range(K), ['priors'])\n",
    "    display(HTML(\"<h2>ITERATION {}</h2>\".format(iteration+1)))\n",
    "    show(TR, TQ, TA)"
   ]
  },
  {
   "cell_type": "code",
   "execution_count": null,
   "metadata": {},
   "outputs": [],
   "source": []
  },
  {
   "cell_type": "code",
   "execution_count": null,
   "metadata": {},
   "outputs": [],
   "source": []
  },
  {
   "cell_type": "code",
   "execution_count": null,
   "metadata": {},
   "outputs": [],
   "source": []
  },
  {
   "cell_type": "code",
   "execution_count": null,
   "metadata": {},
   "outputs": [],
   "source": []
  }
 ],
 "metadata": {
  "kernelspec": {
   "display_name": "Python 2",
   "language": "python",
   "name": "python2"
  },
  "language_info": {
   "codemirror_mode": {
    "name": "ipython",
    "version": 2
   },
   "file_extension": ".py",
   "mimetype": "text/x-python",
   "name": "python",
   "nbconvert_exporter": "python",
   "pygments_lexer": "ipython2",
   "version": "2.7.14"
  }
 },
 "nbformat": 4,
 "nbformat_minor": 2
}
