{
 "cells": [
  {
   "cell_type": "code",
   "execution_count": 1,
   "metadata": {},
   "outputs": [],
   "source": [
    "import spacy\n",
    "from nltk.stem.snowball import SnowballStemmer\n",
    "import nltk\n",
    "from nltk.tokenize import sent_tokenize\n",
    "from collections import Counter, defaultdict\n",
    "import numpy as np"
   ]
  },
  {
   "cell_type": "code",
   "execution_count": 2,
   "metadata": {},
   "outputs": [],
   "source": [
    "stemmer = SnowballStemmer('italian')\n",
    "nlp = spacy.load('it')"
   ]
  },
  {
   "cell_type": "code",
   "execution_count": 3,
   "metadata": {},
   "outputs": [],
   "source": [
    "with open('../data/i_promessi_sposi', 'r') as infile:\n",
    "    fel = infile.read()"
   ]
  },
  {
   "cell_type": "code",
   "execution_count": 4,
   "metadata": {},
   "outputs": [],
   "source": [
    "fs = sent_tokenize(fel)"
   ]
  },
  {
   "cell_type": "code",
   "execution_count": 5,
   "metadata": {},
   "outputs": [],
   "source": [
    "I = defaultdict(lambda: 0)\n",
    "B = defaultdict(lambda: defaultdict(lambda: 0))"
   ]
  },
  {
   "cell_type": "code",
   "execution_count": 7,
   "metadata": {},
   "outputs": [],
   "source": [
    "for sentence in fs:\n",
    "    sentence = sentence.replace('\\n\\n', ' ').replace(\"'\", ' ')\n",
    "    tokens = nlp(sentence)\n",
    "    words = ['#i'] + [x.text for x in tokens] + ['#f']\n",
    "    biwords = nltk.ngrams(words, n=2)\n",
    "    for word in words:\n",
    "        I[word] += 1\n",
    "    for a, c in biwords:\n",
    "        B[a][c] += 1"
   ]
  },
  {
   "cell_type": "code",
   "execution_count": 8,
   "metadata": {},
   "outputs": [],
   "source": [
    "def P(a, b):\n",
    "    try:\n",
    "        value = B[a][b] / I[a]\n",
    "    except ZeroDivisionError:\n",
    "        value = 1 / sum(len(v) for v in B.values())\n",
    "    if value == 0:\n",
    "        value = 1 / I[a]\n",
    "    return value"
   ]
  },
  {
   "cell_type": "code",
   "execution_count": 9,
   "metadata": {},
   "outputs": [],
   "source": [
    "def evaluate(text):\n",
    "    tokens = nlp(text)\n",
    "    words = ['#i'] + [x.text for x in tokens] + ['#f']\n",
    "    biwords = nltk.ngrams(words, n=2)\n",
    "    x = 1\n",
    "    for a, b in biwords:\n",
    "        x = x * P(a, b)\n",
    "    return x"
   ]
  },
  {
   "cell_type": "code",
   "execution_count": 11,
   "metadata": {},
   "outputs": [
    {
     "name": "stdout",
     "output_type": "stream",
     "text": [
      "9.490918405922829e-18\n",
      "9.099941403332182e-35\n"
     ]
    }
   ],
   "source": [
    "print(evaluate('La sventurata rispose new york'))\n",
    "print(evaluate('I New York Nicks sono una squadra di basket'))"
   ]
  },
  {
   "cell_type": "code",
   "execution_count": 12,
   "metadata": {},
   "outputs": [],
   "source": [
    "def generate(start):\n",
    "    candidates = list(B[start].keys())\n",
    "    dist = np.array([P(start, x) for x in candidates])\n",
    "    dist /= dist.sum()\n",
    "    chosen = np.random.choice(candidates, p=dist)\n",
    "    return chosen"
   ]
  },
  {
   "cell_type": "code",
   "execution_count": null,
   "metadata": {},
   "outputs": [],
   "source": []
  },
  {
   "cell_type": "code",
   "execution_count": 29,
   "metadata": {},
   "outputs": [],
   "source": [
    "F = ['#i']\n",
    "for i in range(100):\n",
    "    c = generate(F[-1])\n",
    "    if c == '#f':\n",
    "        break\n",
    "    else:\n",
    "        F.append(c)"
   ]
  },
  {
   "cell_type": "code",
   "execution_count": 30,
   "metadata": {},
   "outputs": [
    {
     "name": "stdout",
     "output_type": "stream",
     "text": [
      "E , oltre la sproporzione cioè alla guida e il magnifico dell innominato stette lì il ritrovamento d esser mandato a cercar di fiume , per la gran fortuna .\n"
     ]
    }
   ],
   "source": [
    "print(\" \".join(F[1:]))"
   ]
  },
  {
   "cell_type": "code",
   "execution_count": null,
   "metadata": {},
   "outputs": [],
   "source": []
  }
 ],
 "metadata": {
  "kernelspec": {
   "display_name": "Python 3",
   "language": "python",
   "name": "python3"
  },
  "language_info": {
   "codemirror_mode": {
    "name": "ipython",
    "version": 3
   },
   "file_extension": ".py",
   "mimetype": "text/x-python",
   "name": "python",
   "nbconvert_exporter": "python",
   "pygments_lexer": "ipython3",
   "version": "3.7.1"
  }
 },
 "nbformat": 4,
 "nbformat_minor": 2
}
