{
 "cells": [
  {
   "cell_type": "markdown",
   "metadata": {},
   "source": [
    "## Term weight\n",
    "### Term frequency (TF)\n",
    "The easiest way of weighting the terms in documents is to just count its occurrences as $tf_{d_i, t_j}$, where $d_i$ is the $i$th document and $t_j$ is the $j$th term.\n",
    "\n",
    "However, the weight of a term in a document is depending on the document length and the relative frequency of the term with respect to the other terms in the same document.\n",
    "\n",
    "To better address relative weights of terms, $tf$ is usually normalized according to one of the following strategies."
   ]
  },
  {
   "cell_type": "markdown",
   "metadata": {},
   "source": [
    "<table width=50% style='font-size: 16px;'>\n",
    "<thead>\n",
    "<tr>\n",
    "<th style=\"text-align: right;\">TF Measure</th>\n",
    "<th style=\"text-align: center;\">Formula</th>\n",
    "</tr>\n",
    "</thead>\n",
    "<tbody>\n",
    "<tr>\n",
    "<td style=\"text-align: right;\">natural</td>\n",
    "<td style=\"text-align: center;\">$tf_{d_i,t_j}$</td>\n",
    "</tr>\n",
    "<tr>\n",
    "<td style=\"text-align: right\">augmented</td>\n",
    "<td style=\"text-align: center\">\n",
    "$k + (1-k)\\frac{tf_{d_i,t_j}}{\\max{tf_{d_l,t_m}}}$</td>\n",
    "</tr>\n",
    "<tr>\n",
    "<td style=\"text-align: right\">log normalized</td>\n",
    "<td style=\"text-align: center\">\n",
    "$1 + \\log{tf_{d_i,t_j}}$</td>\n",
    "</tr>\n",
    "<tr>\n",
    "<td style=\"text-align: right\">log avg</td>\n",
    "<td style=\"text-align: center\">\n",
    "$\\frac{1 + \\log{tf_{d_i,t_j}}}{1 + \\log{avg_{t \\in d}{tf_{d,t}}}}$</td>\n",
    "</tr>\n",
    "</tbody>\n",
    "</table>"
   ]
  },
  {
   "cell_type": "markdown",
   "metadata": {},
   "source": [
    "### Inverse Document Frequency (IDF)\n",
    "TF alone is is usually overestimating the weight of very common terms, because those terms appears frequently in almost every document.\n",
    "\n",
    "A natural way of measuring if a term is common in a corpus is to count the **number of documents** in which it appears (this is referred as **document frequency (DF)**.\n",
    "\n",
    "$$\n",
    "df(t_j) = \\mid \\{d_i : t_j \\in d_i\\} \\mid\n",
    "$$"
   ]
  },
  {
   "cell_type": "markdown",
   "metadata": {},
   "source": [
    "Since we are interested is a measure that is proportional to how much a term is **infrequent** in the corpus, we can use a measure of **inverse document frequency (IDF)**, as:\n",
    "\n",
    "$$\n",
    "idf(t_j) = \\log \\frac{N}{df(t_j)}\n",
    "$$\n",
    "\n",
    "where $N$ denotes the number of documents in the corpus."
   ]
  },
  {
   "cell_type": "markdown",
   "metadata": {},
   "source": [
    "There are other solutions for IDF computation:"
   ]
  },
  {
   "cell_type": "markdown",
   "metadata": {},
   "source": [
    "<table width=50% style='font-size: 16px;'>\n",
    "<thead>\n",
    "<tr>\n",
    "<th style=\"text-align: right;\">IDF Measure</th>\n",
    "<th style=\"text-align: center;\">Formula</th>\n",
    "</tr>\n",
    "</thead>\n",
    "<tbody>\n",
    "<tr>\n",
    "<td style=\"text-align: right;\">standard</td>\n",
    "<td style=\"text-align: center;\">$\\log{\\frac{N}{n_{tj}}}$</td>\n",
    "</tr>\n",
    "<tr>\n",
    "<td style=\"text-align: right;\">max</td>\n",
    "<td style=\"text-align: center;\">\n",
    "$\\log{\\frac{\\max_{t'\\in d}n_{t'}}{1 + n_t}}$</td>\n",
    "</tr>\n",
    "<tr>\n",
    "<td style=\"text-align: right;\">probabilistic</td>\n",
    "<td style=\"text-align: center;\">\n",
    "$\\log{\\frac{N - n_t}{n_t}}$</td>\n",
    "</tr>\n",
    "</tbody>\n",
    "</table>"
   ]
  },
  {
   "cell_type": "code",
   "execution_count": 1,
   "metadata": {},
   "outputs": [],
   "source": [
    "import pymongo\n",
    "import nltk\n",
    "from collections import defaultdict"
   ]
  },
  {
   "cell_type": "code",
   "execution_count": 2,
   "metadata": {},
   "outputs": [],
   "source": [
    "cran = pymongo.MongoClient()['inforet']['cran_tokens']"
   ]
  },
  {
   "cell_type": "code",
   "execution_count": 5,
   "metadata": {},
   "outputs": [],
   "source": [
    "def tf(doc, term, field='text'):\n",
    "    m = {'$match': {'document': doc, field: term}}\n",
    "    g = {'$group': {'_id': '$'+field, 'count': {'$sum': 1}}}\n",
    "    cursor = cran.aggregate([m, g])\n",
    "    c = 0\n",
    "    for record in cursor:\n",
    "        c = record['count']\n",
    "    return c"
   ]
  },
  {
   "cell_type": "code",
   "execution_count": 7,
   "metadata": {},
   "outputs": [
    {
     "data": {
      "text/plain": [
       "2"
      ]
     },
     "execution_count": 7,
     "metadata": {},
     "output_type": "execute_result"
    }
   ],
   "source": [
    "tf(1, 'experimental')"
   ]
  },
  {
   "cell_type": "code",
   "execution_count": null,
   "metadata": {},
   "outputs": [],
   "source": []
  }
 ],
 "metadata": {
  "kernelspec": {
   "display_name": "Python 3",
   "language": "python",
   "name": "python3"
  },
  "language_info": {
   "codemirror_mode": {
    "name": "ipython",
    "version": 3
   },
   "file_extension": ".py",
   "mimetype": "text/x-python",
   "name": "python",
   "nbconvert_exporter": "python",
   "pygments_lexer": "ipython3",
   "version": "3.7.1"
  }
 },
 "nbformat": 4,
 "nbformat_minor": 2
}
