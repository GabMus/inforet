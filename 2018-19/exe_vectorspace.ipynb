{
 "cells": [
  {
   "cell_type": "code",
   "execution_count": 1,
   "metadata": {},
   "outputs": [
    {
     "name": "stdout",
     "output_type": "stream",
     "text": [
      "Importing Jupyter notebook from vectorspace.ipynb\n"
     ]
    }
   ],
   "source": [
    "import numpy as np\n",
    "import nbimporter\n",
    "import vectorspace as vec\n",
    "from collections import defaultdict\n",
    "import pymongo"
   ]
  },
  {
   "cell_type": "code",
   "execution_count": 2,
   "metadata": {},
   "outputs": [],
   "source": [
    "vsm = vec.VSM('inforet', 'cran_tokens', field='lemma')"
   ]
  },
  {
   "cell_type": "markdown",
   "metadata": {},
   "source": [
    "# Exercize\n",
    "Given the following data structures:"
   ]
  },
  {
   "cell_type": "markdown",
   "metadata": {},
   "source": [
    "### Term frequency index as <code>{token: {document: count}}</code>"
   ]
  },
  {
   "cell_type": "code",
   "execution_count": 3,
   "metadata": {},
   "outputs": [
    {
     "name": "stdout",
     "output_type": "stream",
     "text": [
      "the [(1362, 11), (1360, 6), (1359, 4), (1358, 2), (1357, 2)]\n",
      "paper [(1330, 1), (1327, 1), (1313, 1), (1303, 2), (1301, 1)]\n"
     ]
    }
   ],
   "source": [
    "print('the', list(vsm.word_tf['the'].items())[:5])\n",
    "print('paper', list(vsm.word_tf['paper'].items())[:5])"
   ]
  },
  {
   "cell_type": "markdown",
   "metadata": {},
   "source": [
    "### Term frequency index as <code>{document: {token: count}}</code>"
   ]
  },
  {
   "cell_type": "code",
   "execution_count": 4,
   "metadata": {},
   "outputs": [
    {
     "name": "stdout",
     "output_type": "stream",
     "text": [
      "1325 [('could', 1), ('due', 1), ('air', 1), ('head', 2), ('loss', 2)]\n",
      "2 [('here', 1), ('can', 2), ('study', 2), ('have', 2), ('situation', 2)]\n"
     ]
    }
   ],
   "source": [
    "print(1325, list(vsm.doc_tf[1325].items())[:5])\n",
    "print(2, list(vsm.doc_tf[2].items())[:5])"
   ]
  },
  {
   "cell_type": "markdown",
   "metadata": {},
   "source": [
    "## TASK\n",
    "Implement a system for query evaluation which avoids to match a query against all the documents in the corpus. Assume that the query is provided as a list of tokens."
   ]
  },
  {
   "cell_type": "code",
   "execution_count": 23,
   "metadata": {},
   "outputs": [],
   "source": [
    "def search(q_tokens):\n",
    "    len_d, dot = {}, defaultdict(lambda: 0)\n",
    "    q = [x for x in q_tokens if x in vsm.word_tf.keys()]\n",
    "    N = len(vsm.doc_tf)\n",
    "    for token in q:\n",
    "        idf_t = np.log(N / len(vsm.word_tf[token]))\n",
    "        for doc, count in vsm.word_tf[token].items():\n",
    "            if doc not in len_d.keys():\n",
    "                mxv = max(vsm.doc_tf[doc].values())\n",
    "                len_d[doc] = sum([(v / mxv) * (np.log(N / len(vsm.word_tf[k]))) \n",
    "                                  for k, v in vsm.doc_tf[doc].items()])\n",
    "            tf_t_d = count / max(vsm.doc_tf[doc].values())\n",
    "            dot[doc] += tf_t_d * idf_t\n",
    "    return sorted([(k, v / len_d[k]) for k, v in dot.items()], key=lambda x: -x[1])"
   ]
  },
  {
   "cell_type": "code",
   "execution_count": 29,
   "metadata": {},
   "outputs": [],
   "source": [
    "q = ['experimental', 'study', 'aerodynamic', 'control', 'algorithm']"
   ]
  },
  {
   "cell_type": "code",
   "execution_count": 30,
   "metadata": {},
   "outputs": [],
   "source": [
    "import matplotlib.pyplot as plt"
   ]
  },
  {
   "cell_type": "code",
   "execution_count": 31,
   "metadata": {},
   "outputs": [],
   "source": [
    "R = search(q)"
   ]
  },
  {
   "cell_type": "code",
   "execution_count": 35,
   "metadata": {},
   "outputs": [
    {
     "data": {
      "image/png": "[encoded data removed]",
      "text/plain": [
       "<Figure size 432x288 with 1 Axes>"
      ]
     },
     "metadata": {
      "needs_background": "light"
     },
     "output_type": "display_data"
    }
   ],
   "source": [
    "scores = np.array([y for x, y in R])\n",
    "plt.boxplot(scores)\n",
    "plt.show()"
   ]
  },
  {
   "cell_type": "code",
   "execution_count": null,
   "metadata": {},
   "outputs": [],
   "source": []
  }
 ],
 "metadata": {
  "kernelspec": {
   "display_name": "Python 3",
   "language": "python",
   "name": "python3"
  },
  "language_info": {
   "codemirror_mode": {
    "name": "ipython",
    "version": 3
   },
   "file_extension": ".py",
   "mimetype": "text/x-python",
   "name": "python",
   "nbconvert_exporter": "python",
   "pygments_lexer": "ipython3",
   "version": "3.7.1"
  }
 },
 "nbformat": 4,
 "nbformat_minor": 2
}
