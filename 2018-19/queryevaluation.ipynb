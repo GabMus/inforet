{
 "cells": [
  {
   "cell_type": "markdown",
   "metadata": {},
   "source": [
    "# Evaluation of ranked information retrieval"
   ]
  },
  {
   "cell_type": "code",
   "execution_count": 1,
   "metadata": {},
   "outputs": [
    {
     "name": "stdout",
     "output_type": "stream",
     "text": [
      "Importing Jupyter notebook from vectorspace.ipynb\n",
      "Importing Jupyter notebook from probabilisticsearch.ipynb\n",
      "Importing Jupyter notebook from utilities.ipynb\n"
     ]
    }
   ],
   "source": [
    "import numpy as np\n",
    "import nbimporter\n",
    "import vectorspace as vec\n",
    "import probabilisticsearch as prs\n",
    "from collections import defaultdict\n",
    "import utilities as utils\n",
    "import pymongo\n",
    "import sklearn.metrics as mtr\n",
    "import matplotlib.pyplot as plt\n",
    "from sklearn.utils.multiclass import unique_labels"
   ]
  },
  {
   "cell_type": "code",
   "execution_count": 2,
   "metadata": {},
   "outputs": [],
   "source": [
    "class QueryEvaluation(object):\n",
    "    \n",
    "    def __init__(self, data_model, vector_model, tokenizer):\n",
    "        self.data = data_model\n",
    "        self.vsm = vector_model\n",
    "        self.tokenizer = tokenizer\n",
    "        self.relevance = self.data.relevance()\n",
    "        self.docs = self.vsm.db.distinct('document')\n",
    "    \n",
    "    def queryset(self):\n",
    "        qs = {}\n",
    "        for query in self.data.readdocs(self.data.queryfile):\n",
    "            qid, qtext = query['id'], query['text']\n",
    "            qs[qid] = [token['lemma'] \n",
    "                       for token in tokenizer.tokenize(qid, qtext)]\n",
    "        return qs\n",
    "    \n",
    "    def top_k_selection(self, q_id, q_tokens, \n",
    "                         min_relevance_judgment=0, percentile=90,\n",
    "                        idf_filtering_percentile=None\n",
    "                       ):\n",
    "        \"\"\"\n",
    "        Calculates boolean Precision and Recall by selecting\n",
    "        a given percentile in the answers set\n",
    "        \"\"\"\n",
    "        if idf_filtering_percentile is not None:\n",
    "            idf_data = dict([(x, np.log(len(self.docs) / len(y))) \n",
    "                             for x, y in self.vsm.idfi.items()])\n",
    "            idf_filter = np.percentile(list(idf_data.values()), \n",
    "                                       idf_filtering_percentile)\n",
    "            q_tokens = [x for x in q_tokens \n",
    "                        if x in idf_data.keys() and idf_data[x] >= idf_filter]\n",
    "        relevant_docs = self.relevance[\n",
    "            (self.relevance['query'] == q_id) & \n",
    "            (self.relevance['relevance'] >= min_relevance_judgment)].doc.values\n",
    "        answers = dict(self.vsm.search(q_tokens))\n",
    "        y_true = np.array([1 if x in relevant_docs else 0 for x in self.docs])\n",
    "        if len(answers) == 0:\n",
    "            return y_true, np.zeros(len(self.docs)), np.zeros(len(self.docs)), {}, q_tokens\n",
    "        threshold = np.percentile(list(answers.values()), percentile)\n",
    "        y_pred = np.array([1 if (x in answers.keys() and answers[x] >= threshold) \n",
    "                           else 0 for x in self.docs])\n",
    "        scores = np.array([answers[x] if x in answers.keys() \n",
    "                           else 0 for x in self.docs])\n",
    "        return y_true, y_pred, scores, answers, q_tokens\n",
    "    \n",
    "    @staticmethod\n",
    "    def plot_cm(y_true, y_pred, cmap=plt.cm.Blues):\n",
    "        cm = mtr.confusion_matrix(y_true, y_pred)\n",
    "        classes = list(unique_labels(y_true, y_pred))\n",
    "        fig, ax = plt.subplots()\n",
    "        im = ax.imshow(cm, interpolation='nearest', cmap=cmap)\n",
    "        ax.figure.colorbar(im, ax=ax)\n",
    "        ax.set(xticks=np.arange(cm.shape[1]),\n",
    "           yticks=np.arange(cm.shape[0]),\n",
    "           xticklabels=classes, yticklabels=classes,\n",
    "           ylabel='True label',\n",
    "           xlabel='Predicted label')\n",
    "        plt.setp(ax.get_xticklabels(), rotation=0, ha=\"right\",\n",
    "             rotation_mode=\"anchor\")\n",
    "        fmt = 'd'\n",
    "        thresh = cm.max() / 2.\n",
    "        for i in range(cm.shape[0]):\n",
    "            for j in range(cm.shape[1]):\n",
    "                ax.text(j, i, format(cm[i, j], fmt),\n",
    "                        ha=\"center\", va=\"center\",\n",
    "                        color=\"white\" if cm[i, j] > thresh else \"black\")\n",
    "        fig.tight_layout()\n",
    "        return ax"
   ]
  },
  {
   "cell_type": "code",
   "execution_count": 3,
   "metadata": {},
   "outputs": [],
   "source": [
    "data = utils.Games('ginfo', 'boardgames', \n",
    "                   ['\"Arkham Horror\"', '\"World War\"', 'political game', \n",
    "                    'Monopoly', '\"Miskatonic University\"',\n",
    "                    'Monopoly Risk legacy game pandemic'\n",
    "                   ])\n",
    "# data = utils.Cranfield('/Users/alfio/Dati/cranfield/cran')"
   ]
  },
  {
   "cell_type": "code",
   "execution_count": 4,
   "metadata": {},
   "outputs": [],
   "source": [
    "D = data.relevance()"
   ]
  },
  {
   "cell_type": "code",
   "execution_count": 18,
   "metadata": {},
   "outputs": [],
   "source": [
    "rel_docs = list(D[D['query'] == 2].doc.values)"
   ]
  },
  {
   "cell_type": "code",
   "execution_count": 19,
   "metadata": {},
   "outputs": [],
   "source": [
    "vsm = vec.VSM('inforet', 'bgg_tokens', field='lemma')\n",
    "bim = prs.BIM('inforet', 'bgg_tokens', true_doc_ids=rel_docs, field='lemma')\n",
    "tokenizer = utils.Tokenizer(language=('en', 'english'))"
   ]
  },
  {
   "cell_type": "code",
   "execution_count": 20,
   "metadata": {},
   "outputs": [],
   "source": [
    "E = QueryEvaluation(data, vsm, tokenizer)\n",
    "Eb = QueryEvaluation(data, bim, tokenizer)\n",
    "q_tokens = E.queryset()"
   ]
  },
  {
   "cell_type": "code",
   "execution_count": 21,
   "metadata": {},
   "outputs": [
    {
     "data": {
      "text/plain": [
       "{0: ['arkham', 'horror'],\n",
       " 1: ['world', 'war'],\n",
       " 2: ['political', 'game'],\n",
       " 3: ['monopoly'],\n",
       " 4: ['miskatonic', 'university'],\n",
       " 5: ['monopoly', 'risk', 'legacy', 'game', 'pandemic']}"
      ]
     },
     "execution_count": 21,
     "metadata": {},
     "output_type": "execute_result"
    }
   ],
   "source": [
    "q_tokens"
   ]
  },
  {
   "cell_type": "code",
   "execution_count": 22,
   "metadata": {},
   "outputs": [],
   "source": [
    "query = 2\n",
    "y_true, y_pred, scores, answers, q = E.top_k_selection(query, q_tokens[query], \n",
    "                                   min_relevance_judgment=0, percentile=20,\n",
    "                                          idf_filtering_percentile=0)\n",
    "y_true_b, y_pred_b, scores_b, answers_b, q_b = Eb.top_k_selection(query, q_tokens[query], \n",
    "                                   min_relevance_judgment=0, percentile=90,\n",
    "                                          idf_filtering_percentile=0)"
   ]
  },
  {
   "cell_type": "code",
   "execution_count": 23,
   "metadata": {},
   "outputs": [
    {
     "name": "stdout",
     "output_type": "stream",
     "text": [
      "[1 1 1 1 1 1 1 1 1 1]\n",
      "[1 1 1 0 1 0 1 1 1 1]\n",
      "[0.01335197 0.01021104 0.00422032 0.00150803 0.01138233 0.00301591\n",
      " 0.02238806 0.01121502 0.00442712 0.01351183]\n",
      "[1 1 1 1 1 1 1 1 1 1]\n",
      "[1 1 1 1 1 1 1 1 1 1]\n",
      "[0.00523834 0.04160797 0.00523834 0.00523834 0.00523834 0.00523834\n",
      " 0.00523834 0.00523834 0.00523834 0.00523834]\n"
     ]
    }
   ],
   "source": [
    "print(y_true[:10])\n",
    "print(y_pred[:10])\n",
    "print(scores[:10])\n",
    "print(y_true_b[:10])\n",
    "print(y_pred_b[:10])\n",
    "print(scores_b[:10])"
   ]
  },
  {
   "cell_type": "markdown",
   "metadata": {},
   "source": [
    "## Results reading"
   ]
  },
  {
   "cell_type": "code",
   "execution_count": 24,
   "metadata": {},
   "outputs": [
    {
     "name": "stdout",
     "output_type": "stream",
     "text": [
      "['political', 'game'] \n",
      "\n",
      "16261300 0.042038622909027254 [1.05]\n",
      "Based on the popular mobile game by GungHo, this is a deck-building game with well-known characters from the mobile game.<br/><br/> \n",
      "\n",
      "3135100 0.0356958243783826 [0.83333333]\n",
      "This is a Monopoly game using Santiago&rsquo;s streets, Chile. The game uses pesos with Chilean money pictures instead of dollars.<br/><br/> \n",
      "\n",
      "6457500 0.03536553302862452 [0.83333333]\n",
      "Monopoly game with Major League Baseball teams as the properties and other baseball related themes for the other board spaces.  The game is branded with 'Bank of America'.<br/><br/> \n",
      "\n",
      "5767600 0.03189607744679781 [0.53571429]\n",
      "The famous Monopoly game. In this version you can buy, sell and trade the property of the Belgium city Antwerpen.<br/><br/> \n",
      "\n",
      "2179500 0.03146040870609141 [1.05226293]\n",
      "An expansion in the Dungeon Twister series of games. As all expansion, it can be played as a stand-alone game (if you know the rules from the basic game, available on the game website and you have a set of card). You can also combine it with the basic game and other expansions in order to have a different set of team and room each time you play.<br/><br/>This particular expansion is focused on giving character with muscles. They move really fast, but they are good at fighting.<br/><br/>Expands<br/><br/>    Dungeon Twister<br/><br/><br/><br/><br/> \n",
      "\n"
     ]
    }
   ],
   "source": [
    "docs = dict([x['id'], x['text']] for x in E.data.readdocs())\n",
    "print(q, '\\n')\n",
    "for doc, relevance in sorted(answers.items(), key=lambda x: -x[1])[:5]:\n",
    "    relevance_class = E.relevance[\n",
    "        (E.relevance['query'] == query) & (E.relevance['doc'] == doc)].relevance.values\n",
    "    print(doc, relevance, relevance_class)\n",
    "    print(docs[doc], '\\n')"
   ]
  },
  {
   "cell_type": "code",
   "execution_count": 25,
   "metadata": {},
   "outputs": [
    {
     "name": "stdout",
     "output_type": "stream",
     "text": [
      "['political', 'game'] \n",
      "\n",
      "15363500 0.041607971545042956 [1.79525862]\n",
      "Politics is played on a board (referred to as the political field) consisting of an outer square, and a series of inner squares of various sizes arranged within the outer square, each of them rotated 45 degrees from each other so that their corners bisect the other squares' sides.  These points (24 of them) are referred to as stations.  The two players have different colored pieces.  There are three sizes of game piece; each player has two statesmen (large,) four politicians (medium,) and six voters (small,) for a total of twelve, referred to as that player's phalanx.<br/><br/>The game begins with players taking turns placing any one of their pieces on any one station.  Like Mill, when a player is able to line up three of his pieces in a row, he is then entitled to remove one of his opponent's pieces, but in the case of this game, only voters may be removed in this fashion.  Unlike Mill, pieces in Politics may jump and capture each other as in Checkers, in any direction, once the initial placement phase is concluded.  A piece may only jump a like-sized or smaller piece.  To win, one must reduce the opponent to only two pieces, or to immobilize his remaining pieces.<br/><br/> \n",
      "\n",
      "14095800 0.041607971545042956 [2.00991544]\n",
      "Politics of India' is a strategy based board game with unique but easy to understand game play. 'Politics of India' simulates the Parliament elections of India and gives you a chance to become the best political party in India and make government.<br/><br/>Either you can fight for election on the issues like 'Development', 'Women safety' etc. or you can play dirty politics and use unethical methods such as 'booth capturing', 'bogus voting' or 'bahubali' and try to win maximum number of seats. But when you are using unethical resources, be aware of 'election commission raid' during voting otherwise your candidate will be disqualified.<br/><br/>Game theme -<br/><br/>The game is for 2 to 4 players. As a player, you are one of the national political party of India and this is the election time. Your goal is to win maximum number of seats in India by using any way, be it money, ethical or unethical way and form the government at the center.<br/><br/>Game Play -<br/><br/>Each player gets 1 party card, 15 candidate cards after shuffling, 3 resource cards after shuffling and 15 crore( 150 million) Rupees to each player and start the game. There are two stages of game. In the first stage, there are 15 rounds. In these rounds player has to manage resources and money is a way that they can utilize it maximum and puts most number of candidates. Once the 1st stage is over, voting starts by opening voting cards and playing the dice for each seat of all states.<br/><br/>Finally, the person who wins maximum number of seats, takes the game and form the government.<br/><br/>The game consists of following cards and material -<br/><br/>1. Candidate Cards &ndash; There are total 60 candidate cards. Each candidate card consists of the name of the candidate and a numerical value. This numerical value decides the worth of the candidate, the higher the better. Each player gets 15 candidate cards at the beginning of the game.<br/><br/>2. Resource Cards &ndash; There are total 50 resources cards. Resources cards contains various issues for which a candidate fight for the election. Each resource card has one of the issue, such as Development, Employment, Free Electricity, Women Safety, River Water issue, Seperate state and more. Along with these issues there are some unethical cards, such as Booth Capturing, Voting list scam, candidate kidnapping and more. These cards, when used, can increase the chances of winning the election, but they can get a candidate withdrawn, if election commission raids on that state or seat.<br/><br/>Along with the issue, each resource card also has a numerical value on it. This numerical value adds up to the candidate value when put together with candidate and increases the chances of winning.<br/><br/>Resource cards are stacked with the candidate with closed face, not visible to any other player. Resource card is opened during the voting, in the second stage.<br/><br/>3. Voting Cards &ndash; There are total 12 voting cards. Each voting card has 6 rules written over it, which corresponds to the number a player gets on the dice during the voting. Player has to perform the task it get on the voting card. Voting cards eventually decides the winner on each seat.<br/><br/>4. 6 face Dice - 1<br/>5. Party Name cards &ndash; 4<br/><br/> \n",
      "\n",
      "10331300 0.041607971545042956 [2.01219223]\n",
      "Politics, a new euro styled card game, from No Mana Games. Politics captures the essence of the political arena in a way that is fun and easy to understand.  In politics it isn&rsquo;t just about strategy, it&rsquo;s about how you can manipulate others into handing you a victory.<br/><br/>Politics support three to five players and plays in under an hour. Players must convince others to back their political agenda while keeping both their allies and enemies in the dark. Politics is based around the principle that nothing in the game can be accomplished without the help of others, but there can be only one winner.<br/><br/> \n",
      "\n",
      "9872900 0.041607971545042956 [1.01]\n",
      "(from the back of the book)<br/><br/>This product includes rules, scenarios, SSDs, background and F&amp;E rules for the LYRAN DEMOCRATIC REPUBLIC, a new race for STAR FLEET BATTLES.<br/><br/>(R14.0) THE LDR: Complete background, including history, revolutions, culture, political figures, and more for the LYRAN DEMOCRATIC REPUBLIC.<br/><br/>EIGHTEEN SSDs, most of them never published anywhere before, detail the powerful gatling phaser-armed ships of the LYRAN DEMOCRATIC REPUBLIC.<br/><br/>(S0.0) SCENARIOS: Four scenarios, two never published anywhere before, describe key events in the history of the LYRAN DEMOCRATIC REPUBLIC.<br/><br/>FEDERATION &amp; EMPIRE: Complete strategic information to incorporate the LYRAN DEMOCRATIC REPUBLIC into your F&amp;E game, including ship factors, conversions, production, special command and movement rules, etc.<br/><br/> \n",
      "\n",
      "7984300 0.041607971545042956 [1.52815519]\n",
      "Civilization: The Expansion Project <br/>is designed for five to eighteen players covering the development of ancient civilizations from the invention of agriculture to the emergence of Rome as the dominant Mediterranean power - a span of almost 8,000 years.<br/><br/>Civilization: The Expansion Project is one of the best games about ancient civilizations. Each player takes on the role of leader of an ancient civilization, such as the Illyrians or Babylonians. Your task is to guide your people through the ages by expanding your empire and using its proceeds to finance new technological advances, such as Literacy, Metalworking, or Law. The advancements help your civilization better cope with its problems as well as help bring new advancements. One of the greatest advantages with Civilization: The Expansion Project is that it has a large map so that each game can be played at different location on the map. This fact alone gives the game more flexibility and depth than it's base game.<br/><br/>Included are even more civilization advancements than in advanced civilization which give the players new options for advancement. Each player leads a nation of peoples over a mapboard much larger than in advanced civilization that stretches from the Mediterranean to India as they attempt to carve a niche for themselves and their culture. Although battles and territorial strategy are important, Civilization: The Expansion Project is not a war game because it is not won by battle or conquest. Instead, the object of play is to gain a level of overall advancement involving cultural, economic, political and religious factors. Conflicts that do arise result from rivalries and shortages of land rather than from attempts to eliminate other players. Nomads, farmers, warriors, merchants, artisans, priests and citizens all have an essential part to play in the development of each nation's civilization. The player who most effectively balances these various outlooks will achieve the best balance and win the game.<br/><br/>New stuff &amp; impact on the base-game:<br/> * Redesigned extended map<br/> * More civilization advancements<br/> * 18 player at most<br/> * New victory point system<br/> * Improved timeline<br/><br/> \n",
      "\n"
     ]
    }
   ],
   "source": [
    "docs = dict([x['id'], x['text']] for x in Eb.data.readdocs())\n",
    "print(q, '\\n')\n",
    "for doc, relevance in sorted(answers_b.items(), key=lambda x: -x[1])[:5]:\n",
    "    relevance_class = Eb.relevance[\n",
    "        (Eb.relevance['query'] == query) & (Eb.relevance['doc'] == doc)].relevance.values\n",
    "    print(doc, relevance, relevance_class)\n",
    "    print(docs[doc], '\\n')"
   ]
  },
  {
   "cell_type": "markdown",
   "metadata": {},
   "source": [
    "## Classification report\n",
    "The reported averages include micro average (averaging the total true positives, false negatives and false positives), macro average (averaging the unweighted mean per label), weighted average (averaging the support-weighted mean per label) and sample average (only for multilabel classification), see <a href=\"https://scikit-learn.org/stable/modules/generated/sklearn.metrics.classification_report.html#sklearn.metrics.classification_report\">sklearn.metrics.classification_report</a>."
   ]
  },
  {
   "cell_type": "code",
   "execution_count": 26,
   "metadata": {},
   "outputs": [
    {
     "name": "stdout",
     "output_type": "stream",
     "text": [
      "              precision    recall  f1-score   support\n",
      "\n",
      "           0       0.59      1.00      0.74       403\n",
      "           1       1.00      0.77      0.87      1218\n",
      "\n",
      "   micro avg       0.82      0.82      0.82      1621\n",
      "   macro avg       0.79      0.88      0.80      1621\n",
      "weighted avg       0.90      0.82      0.84      1621\n",
      "\n"
     ]
    }
   ],
   "source": [
    "print(mtr.classification_report(y_true, y_pred))"
   ]
  },
  {
   "cell_type": "code",
   "execution_count": 27,
   "metadata": {},
   "outputs": [
    {
     "name": "stdout",
     "output_type": "stream",
     "text": [
      "              precision    recall  f1-score   support\n",
      "\n",
      "           0       0.89      1.00      0.94       403\n",
      "           1       1.00      0.96      0.98      1218\n",
      "\n",
      "   micro avg       0.97      0.97      0.97      1621\n",
      "   macro avg       0.94      0.98      0.96      1621\n",
      "weighted avg       0.97      0.97      0.97      1621\n",
      "\n"
     ]
    }
   ],
   "source": [
    "print(mtr.classification_report(y_true_b, y_pred_b))"
   ]
  },
  {
   "cell_type": "markdown",
   "metadata": {},
   "source": [
    "## Confusion matrix\n",
    "Labels is a list of labels to index the matrix. This may be used to reorder or select a subset of labels. If none is given, those that appear at least once in y_true or y_pred are used in sorted order."
   ]
  },
  {
   "cell_type": "code",
   "execution_count": 28,
   "metadata": {},
   "outputs": [],
   "source": [
    "cm = mtr.confusion_matrix(y_true, y_pred)\n",
    "tn, fp, fn, tp = cm.ravel()\n",
    "cm_b = mtr.confusion_matrix(y_true_b, y_pred_b)\n",
    "tn_b, fp_b, fn_b, tp_b = cm_b.ravel()"
   ]
  },
  {
   "cell_type": "code",
   "execution_count": 29,
   "metadata": {},
   "outputs": [
    {
     "data": {
      "image/png": "[encoded data removed]",
      "text/plain": [
       "<Figure size 432x288 with 2 Axes>"
      ]
     },
     "metadata": {
      "needs_background": "light"
     },
     "output_type": "display_data"
    }
   ],
   "source": [
    "QueryEvaluation.plot_cm(y_true, y_pred)\n",
    "plt.show()"
   ]
  },
  {
   "cell_type": "code",
   "execution_count": 30,
   "metadata": {},
   "outputs": [
    {
     "data": {
      "image/png": "[encoded data removed]",
      "text/plain": [
       "<Figure size 432x288 with 2 Axes>"
      ]
     },
     "metadata": {
      "needs_background": "light"
     },
     "output_type": "display_data"
    }
   ],
   "source": [
    "QueryEvaluation.plot_cm(y_true_b, y_pred_b)\n",
    "plt.show()"
   ]
  },
  {
   "cell_type": "markdown",
   "metadata": {},
   "source": [
    "### Precision-Recall curve\n",
    "Gets precision, recall and the thresholds, given the relevance judgments and the system scores."
   ]
  },
  {
   "cell_type": "code",
   "execution_count": null,
   "metadata": {},
   "outputs": [],
   "source": [
    "precision, recall, thresholds = mtr.precision_recall_curve(y_true, scores)\n",
    "precision_b, recall_b, thresholds_b = mtr.precision_recall_curve(y_true_b, scores_b)"
   ]
  },
  {
   "cell_type": "code",
   "execution_count": null,
   "metadata": {},
   "outputs": [],
   "source": [
    "print(precision[-5:])\n",
    "print(recall[-5:])\n",
    "print(thresholds[-5:])\n",
    "print(precision_b[-5:])\n",
    "print(recall_b[-5:])\n",
    "print(thresholds_b[-5:])"
   ]
  },
  {
   "cell_type": "code",
   "execution_count": null,
   "metadata": {},
   "outputs": [],
   "source": [
    "fig, ax = plt.subplots(nrows=2, ncols=3, figsize=(12,8))\n",
    "ax[0,0].plot(precision, label='Precision VSM')\n",
    "ax[0,0].plot(recall, label='Recall VSM')\n",
    "step_th = max([len(thresholds) // 10, 1])\n",
    "ax[0,0].set_xticks(range(0, len(thresholds), step_th))\n",
    "ax[0,0].set_xticklabels([round(thresholds[x], 5) \n",
    "                       for x in range(0, len(thresholds), step_th)], rotation=90)\n",
    "ax[0,0].legend()\n",
    "\n",
    "ax[1,0].plot(precision_b, label='Precision BIM')\n",
    "ax[1,0].plot(recall_b, label='Recall BIM')\n",
    "step_th_b = max([len(thresholds_b) // 10, 1])\n",
    "ax[1,0].set_xticks(range(0, len(thresholds_b), step_th_b))\n",
    "ax[1,0].set_xticklabels([round(thresholds_b[x], 5) \n",
    "                       for x in range(0, len(thresholds_b), step_th_b)], rotation=90)\n",
    "ax[1,0].legend()\n",
    "\n",
    "\n",
    "fp = np.flip(precision)\n",
    "step_r = max([len(recall) // 10, 1])\n",
    "ax[0,1].plot(fp, label='Precision VSM')\n",
    "ax[0,1].set_xticks(range(0, len(recall), step_r))\n",
    "ax[0,1].set_xticklabels([round(recall[0-x-1], 2) \n",
    "                       for x in range(0, len(recall), step_r)], rotation=90)\n",
    "ax[0,1].legend()\n",
    "ax[0,1].set_xlabel('Recall')\n",
    "ax[0,1].set_ylabel('Precision')\n",
    "\n",
    "fp_b = np.flip(precision_b)\n",
    "step_r_b = max([len(recall_b) // 10, 1])\n",
    "ax[1,1].plot(fp_b, label='Precision BIM')\n",
    "ax[1,1].set_xticks(range(0, len(recall_b), step_r_b))\n",
    "ax[1,1].set_xticklabels([round(recall_b[0-x-1], 2) \n",
    "                       for x in range(0, len(recall_b), step_r_b)], rotation=90)\n",
    "ax[1,1].legend()\n",
    "ax[1,1].set_xlabel('Recall')\n",
    "ax[1,1].set_ylabel('Precision')\n",
    "\n",
    "\n",
    "interpolated_p = [max(fp[i:]) for i, x in enumerate(fp)]\n",
    "ax[0,2].plot(interpolated_p, label='Precision VSM')\n",
    "ax[0,2].set_xticks(range(0, len(recall), step_r))\n",
    "ax[0,2].set_xticklabels([round(recall[0-x-1], 2) \n",
    "                       for x in range(0, len(recall), step_r)], rotation=90)\n",
    "ax[0,2].legend()\n",
    "ax[0,2].set_xlabel('Recall')\n",
    "ax[0,2].set_ylabel('Precision')\n",
    "\n",
    "interpolated_p_b = [max(fp_b[i:]) for i, x in enumerate(fp_b)]\n",
    "ax[1,2].plot(interpolated_p_b, label='Precision BIM')\n",
    "ax[1,2].set_xticks(range(0, len(recall_b), step_r_b))\n",
    "ax[1,2].set_xticklabels([round(recall_b[0-x-1], 2) \n",
    "                       for x in range(0, len(recall_b), step_r_b)], rotation=90)\n",
    "ax[1,2].legend()\n",
    "ax[1,2].set_xlabel('Recall')\n",
    "ax[1,2].set_ylabel('Precision')\n",
    "\n",
    "plt.tight_layout()\n",
    "plt.show()"
   ]
  },
  {
   "cell_type": "markdown",
   "metadata": {},
   "source": [
    "### ROC curve\n",
    "Compute Receiver operating characteristic (ROC).\n",
    "We want to study the error of the system by combining:\n",
    "- TPR = TP / (TP + FN)\n",
    "- FPR = FP / (FP + TN)"
   ]
  },
  {
   "cell_type": "code",
   "execution_count": null,
   "metadata": {},
   "outputs": [],
   "source": [
    "fpr, tpr, _ = mtr.roc_curve(y_true, scores)\n",
    "fpr_b, tpr_b, _ = mtr.roc_curve(y_true_b, scores_b)"
   ]
  },
  {
   "cell_type": "code",
   "execution_count": null,
   "metadata": {},
   "outputs": [],
   "source": [
    "plt.figure()\n",
    "plt.plot(fpr, tpr, label='ROC curve VSM')\n",
    "plt.plot(fpr_b, tpr_b, label='ROC curve BIM')\n",
    "plt.xlabel('False Positive Rate')\n",
    "plt.ylabel('True Positive Rate')\n",
    "plt.legend(loc=\"lower right\")\n",
    "plt.show()"
   ]
  },
  {
   "cell_type": "code",
   "execution_count": null,
   "metadata": {},
   "outputs": [],
   "source": []
  },
  {
   "cell_type": "code",
   "execution_count": null,
   "metadata": {},
   "outputs": [],
   "source": []
  }
 ],
 "metadata": {
  "kernelspec": {
   "display_name": "Python 3",
   "language": "python",
   "name": "python3"
  },
  "language_info": {
   "codemirror_mode": {
    "name": "ipython",
    "version": 3
   },
   "file_extension": ".py",
   "mimetype": "text/x-python",
   "name": "python",
   "nbconvert_exporter": "python",
   "pygments_lexer": "ipython3",
   "version": "3.7.1"
  }
 },
 "nbformat": 4,
 "nbformat_minor": 2
}
