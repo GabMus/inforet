{
 "cells": [
  {
   "cell_type": "code",
   "execution_count": 3,
   "metadata": {},
   "outputs": [],
   "source": [
    "import numpy as np\n",
    "import nbimporter\n",
    "import utilities as utils\n",
    "from collections import defaultdict\n",
    "import pymongo"
   ]
  },
  {
   "cell_type": "markdown",
   "metadata": {},
   "source": [
    "# Query\n",
    "Example of a generalized query class which exploits the MongoDB index for different kinds of queries."
   ]
  },
  {
   "cell_type": "code",
   "execution_count": 56,
   "metadata": {},
   "outputs": [],
   "source": [
    "class Query(object):\n",
    "    \n",
    "    def __init__(self, dbname, index, language=('en', 'english'), host='localhost'):\n",
    "        self.db = pymongo.MongoClient(host=host)[dbname]\n",
    "        self.I = self.db[index]\n",
    "        self.tokenizer = utils.Tokenizer(language)\n",
    "        \n",
    "        \n",
    "    def boolean_ranking(self, query, norm='text'):\n",
    "        \"\"\"\n",
    "        For each document, returns the number of query words therein contained\n",
    "        \"\"\"\n",
    "        tokens = self.tokenizer.tokenize(0, query)\n",
    "        g = {'$group': {'_id': {'token': '$' + norm, 'doc': '$document'}, \n",
    "                        'count': {'$sum': 1}}}\n",
    "        m = {'$match': {norm: {'$in': [token[norm] for token in tokens]}}}\n",
    "        k = {'$group': {'_id': '$_id.doc', 'relevance': {'$sum': 1}}}\n",
    "        s = {'$sort': {'relevance': -1}}\n",
    "        return [(r['_id'], r['relevance']) for r in self.I.aggregate([m, g, k, s])]"
   ]
  },
  {
   "cell_type": "code",
   "execution_count": null,
   "metadata": {},
   "outputs": [],
   "source": []
  }
 ],
 "metadata": {
  "kernelspec": {
   "display_name": "Python 3",
   "language": "python",
   "name": "python3"
  },
  "language_info": {
   "codemirror_mode": {
    "name": "ipython",
    "version": 3
   },
   "file_extension": ".py",
   "mimetype": "text/x-python",
   "name": "python",
   "nbconvert_exporter": "python",
   "pygments_lexer": "ipython3",
   "version": "3.7.1"
  }
 },
 "nbformat": 4,
 "nbformat_minor": 2
}
