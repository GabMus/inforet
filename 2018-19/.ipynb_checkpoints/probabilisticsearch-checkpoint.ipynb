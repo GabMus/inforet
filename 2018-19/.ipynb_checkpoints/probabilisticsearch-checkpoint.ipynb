{
 "cells": [
  {
   "cell_type": "markdown",
   "metadata": {},
   "source": [
    "# PROBABILISTIC METHODS FOR SEARCH"
   ]
  },
  {
   "cell_type": "code",
   "execution_count": 1,
   "metadata": {},
   "outputs": [],
   "source": [
    "import pymongo\n",
    "import numpy as np\n",
    "from collections import defaultdict"
   ]
  },
  {
   "cell_type": "code",
   "execution_count": null,
   "metadata": {},
   "outputs": [],
   "source": [
    "class BIM(object):\n",
    "    \n",
    "    def __init__(self, dbname, collection, \n",
    "                 true_doc_ids, field='text'):\n",
    "        self.db = pymongo.MongoClient()[dbname][collection]\n",
    "        self.Td = true_doc_ids\n",
    "        self.N = len(self.db.distinct('document'))\n",
    "        self.field = field\n",
    "        self.P, self.B = {}, {}\n",
    "        self._boolean_indexing()\n",
    "        self.idfi = self.idf()\n",
    "\n",
    "    def idf(self):\n",
    "        g = {'$group': {'_id': '$' + self.field,\n",
    "                       'docs': {'$addToSet': '$document'}\n",
    "                       }}\n",
    "        cursor = self.db.aggregate([g])\n",
    "        result = {}\n",
    "        for record in cursor:\n",
    "            result[record['_id']] = record['docs']\n",
    "        return result\n",
    "    \n",
    "    def _boolean_indexing(self):\n",
    "        g = {'$group': {'_id': '$' + self.field, 'docs': {'$addToSet': '$document'}}}\n",
    "        cursor = self.db.aggregate([g])\n",
    "        for record in cursor:\n",
    "            docs = list(record['docs'])\n",
    "            self.B[record['_id']] = docs\n",
    "            pi = (len([x for x in docs if x in self.Td]) + 1) / self.N\n",
    "            qi = (len(docs) - pi) / self.N\n",
    "            self.P[record['_id']] = (pi, qi)\n",
    "        \n",
    "    def search(self, q_tokens):\n",
    "        q = [token for token in q_tokens if token in self.B.keys()]\n",
    "        Pr = defaultdict(lambda: 0)\n",
    "        for t in q:\n",
    "            pi, qi = self.P[t]\n",
    "            for doc in self.B[t]:\n",
    "                Pr[doc] += np.log((pi * (1 - qi)) / (qi * (1 - pi)))\n",
    "        answer = sorted([(x, y) for x, y in Pr.items()], key=lambda k: -k[1])\n",
    "        return answer"
   ]
  }
 ],
 "metadata": {
  "kernelspec": {
   "display_name": "Python 3",
   "language": "python",
   "name": "python3"
  },
  "language_info": {
   "codemirror_mode": {
    "name": "ipython",
    "version": 3
   },
   "file_extension": ".py",
   "mimetype": "text/x-python",
   "name": "python",
   "nbconvert_exporter": "python",
   "pygments_lexer": "ipython3",
   "version": "3.7.1"
  }
 },
 "nbformat": 4,
 "nbformat_minor": 2
}
