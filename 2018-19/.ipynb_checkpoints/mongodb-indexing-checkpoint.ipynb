{
 "cells": [
  {
   "cell_type": "code",
   "execution_count": 1,
   "metadata": {},
   "outputs": [
    {
     "name": "stdout",
     "output_type": "stream",
     "text": [
      "Importing Jupyter notebook from utilities.ipynb\n"
     ]
    }
   ],
   "source": [
    "import numpy as np\n",
    "import nbimporter\n",
    "import utilities as utils\n",
    "from collections import defaultdict\n",
    "import pymongo"
   ]
  },
  {
   "cell_type": "markdown",
   "metadata": {},
   "source": [
    "## Cranfield"
   ]
  },
  {
   "cell_type": "code",
   "execution_count": 2,
   "metadata": {},
   "outputs": [],
   "source": [
    "folder = '/Users/alfio/Dati/cranfield/cran'\n",
    "tokenizer = utils.Tokenizer(('en', 'english'))\n",
    "C = utils.Cranfield(folder)\n",
    "cran = pymongo.MongoClient()['inforet']['cran_tokens']"
   ]
  },
  {
   "cell_type": "code",
   "execution_count": 3,
   "metadata": {},
   "outputs": [],
   "source": [
    "buffer = []\n",
    "for i, text in C:\n",
    "    tokens = tokenizer.tokenize(i, text)\n",
    "    try:\n",
    "        for record in tokens:\n",
    "            buffer.append(record)\n",
    "        if len(buffer) > 15000:\n",
    "            cran.insert_many(buffer)\n",
    "            buffer = []\n",
    "    except:\n",
    "        print(text)"
   ]
  },
  {
   "cell_type": "markdown",
   "metadata": {},
   "source": [
    "## Boardgames"
   ]
  },
  {
   "cell_type": "code",
   "execution_count": null,
   "metadata": {},
   "outputs": [],
   "source": [
    "G = utils.Games('ginfo', 'boardgames', ['\"Arkham Horror\"', 'Second World War', ''])"
   ]
  }
 ],
 "metadata": {
  "kernelspec": {
   "display_name": "Python 3",
   "language": "python",
   "name": "python3"
  },
  "language_info": {
   "codemirror_mode": {
    "name": "ipython",
    "version": 3
   },
   "file_extension": ".py",
   "mimetype": "text/x-python",
   "name": "python",
   "nbconvert_exporter": "python",
   "pygments_lexer": "ipython3",
   "version": "3.7.1"
  }
 },
 "nbformat": 4,
 "nbformat_minor": 2
}
