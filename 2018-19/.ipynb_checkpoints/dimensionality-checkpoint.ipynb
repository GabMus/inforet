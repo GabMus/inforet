{
 "cells": [
  {
   "cell_type": "markdown",
   "metadata": {},
   "source": [
    "# Dealing with dimensions in classification\n",
    "\n",
    "## Running example\n",
    "\n",
    "<table>\n",
    "    <tr>\n",
    "        <th></th>\n",
    "        <th>DocID</th>\n",
    "        <th>Tokens</th>\n",
    "        <th>E-devices</th>\n",
    "    </tr>\n",
    "    <tr>\n",
    "        <td>Training</td>\n",
    "        <td>0</td>\n",
    "        <td>apple ios mac book fruit</td>\n",
    "        <td>TRUE</td>\n",
    "    </tr>\n",
    "    <tr>\n",
    "        <td>Training</td>\n",
    "        <td>1</td>\n",
    "        <td>apple mac book apple store fruit</td>\n",
    "        <td>TRUE</td>\n",
    "    </tr>\n",
    "    <tr>\n",
    "        <td>Training</td>\n",
    "        <td>2</td>\n",
    "        <td>microsoft ibm apple oracle</td>\n",
    "        <td>TRUE</td>\n",
    "    </tr>\n",
    "    <tr>\n",
    "        <td>Training</td>\n",
    "        <td>3</td>\n",
    "        <td>apple banana mango fruit</td>\n",
    "        <td>FALSE</td>\n",
    "    </tr>\n",
    "    <tr>\n",
    "        <td>Training</td>\n",
    "        <td>4</td>\n",
    "        <td>apple fruit</td>\n",
    "        <td>FALSE</td>\n",
    "    </tr>\n",
    "    <tr style='border-top: double 2px #000000'>\n",
    "        <td style='background-color: #eeee00'>Test</td>\n",
    "        <td style='background-color: #eeee00'>5</td>\n",
    "        <td style='background-color: #eeee00'>apple mac book fruit</td>\n",
    "        <td style='background-color: #eeee00'>?</td>\n",
    "    </tr>\n",
    "    <tr>\n",
    "        <td style='background-color: #eeee00'>Test</td>\n",
    "        <td style='background-color: #eeee00'>6</td>\n",
    "        <td style='background-color: #eeee00'>mac fruit color</td>\n",
    "        <td style='background-color: #eeee00'>?</td>\n",
    "    </tr>\n",
    "</table>\n"
   ]
  },
  {
   "cell_type": "code",
   "execution_count": null,
   "metadata": {},
   "outputs": [],
   "source": [
    "from collections import Counter\n",
    "import numpy as np\n",
    "from IPython.core.display import display, HTML\n",
    "\n",
    "\n",
    "def to_table(tokens, M, rnd=3):\n",
    "    row = \"\".join(['<th>'+x+'</th>' for x in tokens])\n",
    "    table = \"<table><tr>\"+row+\"</tr>\"\n",
    "    for doc in M:\n",
    "        row = \"<tr>\"+\"\".join(['<td>'+str(round(x, rnd))+'</td>' for x in doc])+\"</tr>\"\n",
    "        table += row\n",
    "    table += '</table>'\n",
    "    display(HTML(table)) \n",
    "\n",
    "def model(tokens, docs):\n",
    "    dictionary, tf = {}, {}\n",
    "    for i, d in enumerate(docs):\n",
    "        tf[i] = dict(Counter(d).most_common())\n",
    "        for k in tf[i].keys():\n",
    "            try:\n",
    "                dictionary[k] += 1\n",
    "            except KeyError:\n",
    "                dictionary[k] = 1\n",
    "    M = np.zeros((len(docs), len(tokens)))\n",
    "    for i in range(0, len(docs)):\n",
    "        for j, k in enumerate(tokens):\n",
    "            try:\n",
    "                M[i,j] = float(tf[i][k]) / (np.log((float(len(docs)) / dictionary[k])) + 1)\n",
    "            except KeyError:\n",
    "                pass\n",
    "        M[i] /= np.linalg.norm(M[i])\n",
    "    return M\n"
   ]
  },
  {
   "cell_type": "code",
   "execution_count": null,
   "metadata": {},
   "outputs": [],
   "source": [
    "training = [\n",
    "    ['apple', 'ios', 'mac', 'book', 'fruit'],\n",
    "    ['apple', 'mac', 'book', 'apple', 'store', 'fruit'],\n",
    "    ['microsoft', 'ibm', 'apple', 'oracle'],\n",
    "    ['apple', 'banana', 'mango', 'fruit'],\n",
    "    ['apple', 'fruit']\n",
    "]\n",
    "testing = [\n",
    "    ['apple', 'mac', 'book', 'fruit'],\n",
    "    ['mac', 'fruit', 'color']\n",
    "]\n",
    "tokens = set()\n",
    "for d in training + testing:\n",
    "    for t in d:\n",
    "        tokens.add(t)\n",
    "tokens = sorted(list(tokens))\n",
    "\n",
    "T = model(tokens, training)\n",
    "X = model(tokens, testing)"
   ]
  },
  {
   "cell_type": "code",
   "execution_count": null,
   "metadata": {},
   "outputs": [],
   "source": [
    "to_table(tokens, T)"
   ]
  },
  {
   "cell_type": "code",
   "execution_count": null,
   "metadata": {},
   "outputs": [],
   "source": [
    "to_table(tokens, X)"
   ]
  },
  {
   "cell_type": "markdown",
   "metadata": {},
   "source": [
    "# Rocchio"
   ]
  },
  {
   "cell_type": "code",
   "execution_count": null,
   "metadata": {},
   "outputs": [],
   "source": [
    "from scipy.spatial import distance\n",
    "\n",
    "def rocchio(c, nc, doc, df=None):\n",
    "    c_m, nc_m = np.mean(c, axis=0), np.mean(nc, axis=0)\n",
    "    if df is None:\n",
    "        df = distance.euclidean\n",
    "    s, b = df(doc, c_m), df(doc, nc_m)\n",
    "    if  s < b:\n",
    "        return True, s-b\n",
    "    else:\n",
    "        return False, s-b"
   ]
  },
  {
   "cell_type": "code",
   "execution_count": null,
   "metadata": {},
   "outputs": [],
   "source": [
    "for i in range(0, len(testing)):\n",
    "    R = rocchio(T[:3,:], T[3:,:], X[i], df=distance.euclidean)\n",
    "    print \" \".join(testing[i]), R"
   ]
  },
  {
   "cell_type": "code",
   "execution_count": null,
   "metadata": {},
   "outputs": [],
   "source": [
    "display(HTML('<h2>class</h2>'))\n",
    "to_table(tokens, T[:3,:])\n",
    "display(HTML('<h3>centroid</h3>'))\n",
    "to_table(tokens, np.array([np.mean(T[:3,:], axis=0)]))\n",
    "display(HTML('<h2>no class</h2>'))\n",
    "to_table(tokens, T[3:,:])\n",
    "display(HTML('<h3>centroid</h3>'))\n",
    "to_table(tokens, np.array([np.mean(T[3:,:], axis=0)]))"
   ]
  },
  {
   "cell_type": "markdown",
   "metadata": {},
   "source": [
    "## Understand terminology"
   ]
  },
  {
   "cell_type": "code",
   "execution_count": null,
   "metadata": {},
   "outputs": [],
   "source": [
    "import matplotlib.pyplot as plt\n",
    "\n",
    "\n",
    "def visualize(ax, D, labels, d1=0, d2=1, marker='o', d1l='d1', d2l='d2'):\n",
    "    for d in range(0, D.shape[0]):\n",
    "        ax.scatter(D[d, d1], D[d, d2], label=labels[d], marker=marker)\n",
    "        ax.set_xlabel(d1l)\n",
    "        ax.set_ylabel(d2l)\n",
    "\n",
    "cmean, ncmean = np.mean(T[:3,:], axis=0), np.mean(T[3:,:], axis=0)\n",
    "means = np.vstack((np.array([cmean]), np.array([ncmean])))\n",
    "cols = 6\n",
    "c_tokens = []\n",
    "for ki, kk in enumerate(tokens):\n",
    "    for kj in tokens[ki+1:]:\n",
    "        c_tokens.append((kk, kj))\n",
    "k = len(c_tokens)\n",
    "fig, axes = plt.subplots(nrows=int(np.ceil(float(k)/cols)), ncols=cols, figsize=(14, 20))\n",
    "for cl in range(0, k):\n",
    "    visualize(axes[cl/cols, cl%cols], T, [str(x) for x in range(0, T.shape[0])], \n",
    "              d1=tokens.index(c_tokens[cl][0]), d2=tokens.index(c_tokens[cl][1]), \n",
    "              d1l=c_tokens[cl][0], d2l=c_tokens[cl][1])\n",
    "    visualize(axes[cl/cols, cl%cols], means, ['c', 'nc'], \n",
    "              d1=tokens.index(c_tokens[cl][0]), d2=tokens.index(c_tokens[cl][1]), marker='x',\n",
    "              d1l=c_tokens[cl][0], d2l=c_tokens[cl][1])\n",
    "    visualize(axes[cl/cols, cl%cols], X, [str(x) for x in range(0, X.shape[0])], \n",
    "              d1=tokens.index(c_tokens[cl][0]), d2=tokens.index(c_tokens[cl][1]), marker='^',\n",
    "              d1l=c_tokens[cl][0], d2l=c_tokens[cl][1])\n",
    "plt.tight_layout()\n",
    "axes[cl/cols, cl%cols].legend()\n",
    "plt.show()\n"
   ]
  },
  {
   "cell_type": "markdown",
   "metadata": {},
   "source": [
    "### Measuring utility"
   ]
  },
  {
   "cell_type": "code",
   "execution_count": null,
   "metadata": {},
   "outputs": [],
   "source": [
    "filtered, th = [], 0.01\n",
    "for i, t in enumerate(tokens):\n",
    "    v = np.var(T.T[i])\n",
    "    print t, v\n",
    "    if v >= th:\n",
    "        filtered.append(t)\n",
    "print filtered"
   ]
  },
  {
   "cell_type": "code",
   "execution_count": null,
   "metadata": {},
   "outputs": [],
   "source": [
    "Tf = model(filtered, training)\n",
    "Xf = model(filtered, testing)"
   ]
  },
  {
   "cell_type": "code",
   "execution_count": null,
   "metadata": {},
   "outputs": [],
   "source": [
    "for i in range(0, len(testing)):\n",
    "    R = rocchio(Tf[:3,:], Tf[3:,:], Xf[i], df=distance.euclidean)\n",
    "    print \" \".join(testing[i]), R"
   ]
  },
  {
   "cell_type": "markdown",
   "metadata": {},
   "source": [
    "### Mutual utility"
   ]
  },
  {
   "cell_type": "code",
   "execution_count": null,
   "metadata": {},
   "outputs": [],
   "source": [
    "C = np.cov(T.T, ddof=0)"
   ]
  },
  {
   "cell_type": "code",
   "execution_count": null,
   "metadata": {},
   "outputs": [],
   "source": [
    "test = 'mac'\n",
    "for i, t in enumerate(tokens):\n",
    "    print test, t, C[tokens.index(test), i]"
   ]
  },
  {
   "cell_type": "code",
   "execution_count": null,
   "metadata": {},
   "outputs": [],
   "source": [
    "clusters, th = {}, 0.01\n",
    "for i, t in enumerate(tokens):\n",
    "    clusters[t] = []\n",
    "    for k in tokens[i:]:\n",
    "        cv = C[i, tokens.index(k)]\n",
    "        if cv > th:\n",
    "            clusters[t].append(k)\n",
    "sets = []\n",
    "for o in [x for x in clusters.values() if len(x) > 0]:\n",
    "    sets.append(set(o))\n",
    "sets = sorted(sets, key=lambda x: -len(x))\n",
    "for s in sets:\n",
    "    print s"
   ]
  },
  {
   "cell_type": "code",
   "execution_count": null,
   "metadata": {},
   "outputs": [],
   "source": [
    "refined = []\n",
    "for s in sets:\n",
    "    ins = True\n",
    "    for i, k in enumerate(refined):\n",
    "        if len(s.intersection(k)) > 0:\n",
    "            refined[i] = s.union(k)\n",
    "            ins = False\n",
    "            break\n",
    "    if ins:\n",
    "        refined.append(s)\n",
    "for s in refined:\n",
    "    print s"
   ]
  },
  {
   "cell_type": "markdown",
   "metadata": {},
   "source": [
    "### Use new terminology"
   ]
  },
  {
   "cell_type": "code",
   "execution_count": null,
   "metadata": {},
   "outputs": [],
   "source": [
    "training_r = []\n",
    "testing_r = []\n",
    "for doc in training:\n",
    "    n_doc = []\n",
    "    for token in doc:\n",
    "        for i, s in enumerate(refined):\n",
    "            if token in s:\n",
    "                n_doc.append(str(i))\n",
    "                break\n",
    "    training_r.append(n_doc)\n",
    "for doc in testing:\n",
    "    n_doc = []\n",
    "    for token in doc:\n",
    "        for i, s in enumerate(refined):\n",
    "            if token in s:\n",
    "                n_doc.append(str(i))\n",
    "                break\n",
    "    testing_r.append(n_doc)\n"
   ]
  },
  {
   "cell_type": "code",
   "execution_count": null,
   "metadata": {},
   "outputs": [],
   "source": [
    "tokens_r = set()\n",
    "for d in training_r + testing_r:\n",
    "    for t in d:\n",
    "        tokens_r.add(t)\n",
    "tokens_r = sorted(list(tokens_r))\n",
    "\n",
    "Tr = model(tokens_r, training_r)\n",
    "Xr = model(tokens_r, testing_r)"
   ]
  },
  {
   "cell_type": "code",
   "execution_count": null,
   "metadata": {},
   "outputs": [],
   "source": [
    "to_table(tokens_r, Tr)"
   ]
  },
  {
   "cell_type": "code",
   "execution_count": null,
   "metadata": {},
   "outputs": [],
   "source": [
    "to_table(tokens_r, Xr)"
   ]
  },
  {
   "cell_type": "code",
   "execution_count": null,
   "metadata": {},
   "outputs": [],
   "source": [
    "for i in range(0, len(testing_r)):\n",
    "    R = rocchio(Tr[:3,:], Tr[3:,:], Xr[i], df=distance.euclidean)\n",
    "    print \" \".join(testing_r[i]), R"
   ]
  },
  {
   "cell_type": "code",
   "execution_count": null,
   "metadata": {},
   "outputs": [],
   "source": [
    "means = np.vstack((np.array([np.mean(Tr[:3,:], axis=0)]), np.array([Tr[3,:]])))\n",
    "cols = 3\n",
    "cr_tokens = []\n",
    "for ki, kk in enumerate(tokens_r):\n",
    "    for kj in tokens_r[ki+1:]:\n",
    "        cr_tokens.append((kk, kj))\n",
    "k = len(cr_tokens)\n",
    "fig, axes = plt.subplots(nrows=int(np.ceil(float(k)/cols)), ncols=cols, figsize=(14, 8))\n",
    "for cl in range(0, k):\n",
    "    visualize(axes[cl/cols, cl%cols], Tr, [str(x) for x in range(0, Tr.shape[0])], \n",
    "              d1=tokens_r.index(cr_tokens[cl][0]), d2=tokens_r.index(cr_tokens[cl][1]), \n",
    "              d1l=cr_tokens[cl][0], d2l=cr_tokens[cl][1])\n",
    "    visualize(axes[cl/cols, cl%cols], means, ['c', 'nc'], \n",
    "              d1=tokens_r.index(cr_tokens[cl][0]), d2=tokens_r.index(cr_tokens[cl][1]), \n",
    "              marker='x',\n",
    "              d1l=cr_tokens[cl][0], d2l=cr_tokens[cl][1])\n",
    "    visualize(axes[cl/cols, cl%cols], Xr, [str(x) for x in range(0, Xr.shape[0])], \n",
    "              d1=tokens_r.index(cr_tokens[cl][0]), d2=tokens_r.index(cr_tokens[cl][1]), \n",
    "              marker='^',\n",
    "              d1l=cr_tokens[cl][0], d2l=cr_tokens[cl][1])\n",
    "plt.tight_layout()\n",
    "axes[cl/cols, cl%cols].legend()\n",
    "plt.show()\n",
    "\n"
   ]
  },
  {
   "cell_type": "markdown",
   "metadata": {},
   "source": [
    "## Better dimensionality reduction"
   ]
  },
  {
   "cell_type": "code",
   "execution_count": null,
   "metadata": {},
   "outputs": [],
   "source": [
    "w, v = np.linalg.eig(C)"
   ]
  },
  {
   "cell_type": "markdown",
   "metadata": {},
   "source": [
    "v : (..., M, M) array\n",
    "\n",
    "The normalized (unit “length”) eigenvectors, such that the column v[:,i] is the eigenvector corresponding to the eigenvalue w[i]."
   ]
  },
  {
   "cell_type": "code",
   "execution_count": null,
   "metadata": {},
   "outputs": [],
   "source": [
    "print w[4]\n",
    "print v[:,4]"
   ]
  },
  {
   "cell_type": "markdown",
   "metadata": {},
   "source": [
    "### Sort the eigenvalues"
   ]
  },
  {
   "cell_type": "code",
   "execution_count": null,
   "metadata": {},
   "outputs": [],
   "source": [
    "sw = sorted([(x, i) for i, x in enumerate(w)], key=lambda k: -k[0])\n",
    "dimensions = 4\n",
    "Ct = np.zeros((C.shape[0], dimensions))\n",
    "features = [v[:, x[1]] for x in sw[:dimensions]]  \n",
    "Fm = np.array(features)"
   ]
  },
  {
   "cell_type": "code",
   "execution_count": null,
   "metadata": {},
   "outputs": [],
   "source": [
    "Tt = np.dot(Fm, T.T).T\n",
    "Xt = np.dot(Fm, X.T).T\n",
    "cmean, ncmean = np.mean(Tt[:3,:], axis=0), np.mean(Tt[3:,:], axis=0)\n",
    "means = np.vstack((np.array([cmean]), np.array([ncmean])))"
   ]
  },
  {
   "cell_type": "code",
   "execution_count": null,
   "metadata": {},
   "outputs": [],
   "source": [
    "print Tt.shape\n",
    "print Tt"
   ]
  },
  {
   "cell_type": "code",
   "execution_count": null,
   "metadata": {},
   "outputs": [],
   "source": [
    "for i in range(0, len(testing)):\n",
    "    R = rocchio(Tt[:3,:], Tt[3:,:], Xt[i], df=distance.euclidean)\n",
    "    print \" \".join(testing[i]), R"
   ]
  },
  {
   "cell_type": "code",
   "execution_count": null,
   "metadata": {},
   "outputs": [],
   "source": [
    "for test in Xt:\n",
    "    print distance.euclidean(test, cmean), distance.euclidean(test, ncmean)"
   ]
  },
  {
   "cell_type": "code",
   "execution_count": null,
   "metadata": {},
   "outputs": [],
   "source": [
    "fig, axes = plt.subplots(nrows=1, ncols=1, figsize=(8, 8))\n",
    "visualize(axes, Tt, [str(x) for x in range(0, Tt.shape[0])])\n",
    "visualize(axes, Xt, [str(x) for x in range(0, Xt.shape[0])], marker='^')\n",
    "visualize(axes, means, [str(x) for x in range(0, means.shape[0])], marker='x')\n",
    "plt.tight_layout()\n",
    "axes.legend()\n",
    "plt.show()"
   ]
  },
  {
   "cell_type": "code",
   "execution_count": null,
   "metadata": {},
   "outputs": [],
   "source": []
  }
 ],
 "metadata": {
  "kernelspec": {
   "display_name": "Python 2",
   "language": "python",
   "name": "python2"
  },
  "language_info": {
   "codemirror_mode": {
    "name": "ipython",
    "version": 2
   },
   "file_extension": ".py",
   "mimetype": "text/x-python",
   "name": "python",
   "nbconvert_exporter": "python",
   "pygments_lexer": "ipython2",
   "version": "2.7.14"
  }
 },
 "nbformat": 4,
 "nbformat_minor": 2
}
