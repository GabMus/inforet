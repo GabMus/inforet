{
 "cells": [
  {
   "cell_type": "markdown",
   "metadata": {},
   "source": [
    "# VECTOR SPACE MODEL"
   ]
  },
  {
   "cell_type": "code",
   "execution_count": null,
   "metadata": {},
   "outputs": [],
   "source": [
    "import pymongo\n",
    "import numpy as np\n",
    "from collections import Counter, defaultdict"
   ]
  },
  {
   "cell_type": "code",
   "execution_count": null,
   "metadata": {},
   "outputs": [],
   "source": [
    "class VSM(object):\n",
    "    \n",
    "    def __init__(self, dbname, collection, field='text'):\n",
    "        self.db = pymongo.MongoClient()[dbname][collection]\n",
    "        self.field = field\n",
    "        self.idfi = self.idf()\n",
    "        self.mtf = self.maxtf()\n",
    "        self.ndocs = len(self.db.distinct('document'))\n",
    "        self.word_tf, self.doc_tf = self.tf()\n",
    "    \n",
    "    def tf(self):\n",
    "        g = {'$group': {'_id': \n",
    "                        {'doc': '$document', \n",
    "                         'word': '$' + self.field},\n",
    "                        'count': {'$sum': 1}\n",
    "                       }}\n",
    "        cursor = self.db.aggregate([g])\n",
    "        result_a = defaultdict(lambda: defaultdict(lambda: 0))\n",
    "        result_b = defaultdict(lambda: defaultdict(lambda: 0))\n",
    "        for record in cursor:\n",
    "            result_a[record['_id']['word']][record['_id']['doc']] = record['count']\n",
    "            result_b[record['_id']['doc']][record['_id']['word']] = record['count']\n",
    "        return result_a, result_b\n",
    "        \n",
    "    def maxtf(self):\n",
    "        g = {'$group': {'_id': \n",
    "                        {'doc': '$document', \n",
    "                         'word': '$' + self.field},\n",
    "                        'count': {'$sum': 1}\n",
    "                       }}\n",
    "        g2 = {'$group': {'_id': '$_id.doc', 'mtf': {'$max': '$count'}}}\n",
    "        cursor = self.db.aggregate([g, g2])\n",
    "        result = {}\n",
    "        for record in cursor:\n",
    "            result[record['_id']] = record['mtf']\n",
    "        return result\n",
    "        \n",
    "\n",
    "    def idf(self):\n",
    "        g = {'$group': {'_id': '$' + self.field,\n",
    "                       'docs': {'$addToSet': '$document'}\n",
    "                       }}\n",
    "        cursor = self.db.aggregate([g])\n",
    "        result = {}\n",
    "        for record in cursor:\n",
    "            result[record['_id']] = record['docs']\n",
    "        return result\n",
    "    \n",
    "    def search(self, q_tokens):\n",
    "        v_len, dot = {}, defaultdict(lambda: [])\n",
    "        q = [token for token in q_tokens if token in self.word_tf.keys()]\n",
    "        for t in q:\n",
    "            idf_t = np.log(len(self.doc_tf) / len(self.word_tf[t]))\n",
    "            for doc, tf in self.word_tf[t].items():\n",
    "                max_tf = max(self.doc_tf[doc].values())\n",
    "                if doc not in v_len.keys():\n",
    "                    points = np.array([y * np.log(len(self.doc_tf) / len(self.word_tf[x])) \n",
    "                                       for x, y in self.doc_tf[doc].items()])\n",
    "                    v_len[doc] = np.sum(points / max_tf)\n",
    "                dot[doc].append(self.word_tf[t][doc] / max_tf)\n",
    "        answer = sorted([(x, sum(y) / v_len[x]) for x, y in dot.items()], key=lambda k: -k[1])\n",
    "        return answer"
   ]
  }
 ],
 "metadata": {
  "kernelspec": {
   "display_name": "Python 3",
   "language": "python",
   "name": "python3"
  },
  "language_info": {
   "codemirror_mode": {
    "name": "ipython",
    "version": 3
   },
   "file_extension": ".py",
   "mimetype": "text/x-python",
   "name": "python",
   "nbconvert_exporter": "python",
   "pygments_lexer": "ipython3",
   "version": "3.7.1"
  }
 },
 "nbformat": 4,
 "nbformat_minor": 2
}
