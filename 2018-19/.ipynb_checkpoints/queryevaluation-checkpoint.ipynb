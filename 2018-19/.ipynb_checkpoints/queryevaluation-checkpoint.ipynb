{
 "cells": [
  {
   "cell_type": "markdown",
   "metadata": {},
   "source": [
    "# Evaluation of ranked information retrieval"
   ]
  },
  {
   "cell_type": "code",
   "execution_count": 1,
   "metadata": {},
   "outputs": [
    {
     "name": "stdout",
     "output_type": "stream",
     "text": [
      "Importing Jupyter notebook from vectorspace.ipynb\n",
      "Importing Jupyter notebook from probabilisticsearch.ipynb\n",
      "Importing Jupyter notebook from utilities.ipynb\n"
     ]
    }
   ],
   "source": [
    "import numpy as np\n",
    "import nbimporter\n",
    "import vectorspace as vec\n",
    "import probabilisticsearch as prs\n",
    "from collections import defaultdict\n",
    "import utilities as utils\n",
    "import pymongo\n",
    "import sklearn.metrics as mtr\n",
    "import matplotlib.pyplot as plt\n",
    "from sklearn.utils.multiclass import unique_labels"
   ]
  },
  {
   "cell_type": "code",
   "execution_count": 2,
   "metadata": {},
   "outputs": [],
   "source": [
    "class QueryEvaluation(object):\n",
    "    \n",
    "    def __init__(self, data_model, vector_model, tokenizer):\n",
    "        self.data = data_model\n",
    "        self.vsm = vector_model\n",
    "        self.tokenizer = tokenizer\n",
    "        self.relevance = self.data.relevance()\n",
    "        self.docs = self.vsm.db.distinct('document')\n",
    "    \n",
    "    def queryset(self):\n",
    "        qs = {}\n",
    "        for query in self.data.readdocs(self.data.queryfile):\n",
    "            qid, qtext = query['id'], query['text']\n",
    "            qs[qid] = [token['lemma'] \n",
    "                       for token in tokenizer.tokenize(qid, qtext)]\n",
    "        return qs\n",
    "    \n",
    "    def top_k_selection(self, q_id, q_tokens, \n",
    "                         min_relevance_judgment=0, percentile=90,\n",
    "                        idf_filtering_percentile=None\n",
    "                       ):\n",
    "        \"\"\"\n",
    "        Calculates boolean Precision and Recall by selecting\n",
    "        a given percentile in the answers set\n",
    "        \"\"\"\n",
    "        if idf_filtering_percentile is not None:\n",
    "            idf_data = dict([(x, np.log(len(self.docs) / len(y))) \n",
    "                             for x, y in self.vsm.idfi.items()])\n",
    "            idf_filter = np.percentile(list(idf_data.values()), \n",
    "                                       idf_filtering_percentile)\n",
    "            q_tokens = [x for x in q_tokens \n",
    "                        if x in idf_data.keys() and idf_data[x] >= idf_filter]\n",
    "        relevant_docs = self.relevance[\n",
    "            (self.relevance['query'] == q_id) & \n",
    "            (self.relevance['relevance'] >= min_relevance_judgment)].doc.values\n",
    "        answers = dict(self.vsm.search(q_tokens))\n",
    "        y_true = np.array([1 if x in relevant_docs else 0 for x in self.docs])\n",
    "        if len(answers) == 0:\n",
    "            return y_true, np.zeros(len(self.docs)), np.zeros(len(self.docs)), {}, q_tokens\n",
    "        threshold = np.percentile(list(answers.values()), percentile)\n",
    "        y_pred = np.array([1 if (x in answers.keys() and answers[x] >= threshold) \n",
    "                           else 0 for x in self.docs])\n",
    "        scores = np.array([answers[x] if x in answers.keys() \n",
    "                           else 0 for x in self.docs])\n",
    "        return y_true, y_pred, scores, answers, q_tokens\n",
    "    \n",
    "    @staticmethod\n",
    "    def plot_cm(y_true, y_pred, cmap=plt.cm.Blues):\n",
    "        cm = mtr.confusion_matrix(y_true, y_pred)\n",
    "        classes = list(unique_labels(y_true, y_pred))\n",
    "        fig, ax = plt.subplots()\n",
    "        im = ax.imshow(cm, interpolation='nearest', cmap=cmap)\n",
    "        ax.figure.colorbar(im, ax=ax)\n",
    "        ax.set(xticks=np.arange(cm.shape[1]),\n",
    "           yticks=np.arange(cm.shape[0]),\n",
    "           xticklabels=classes, yticklabels=classes,\n",
    "           ylabel='True label',\n",
    "           xlabel='Predicted label')\n",
    "        plt.setp(ax.get_xticklabels(), rotation=0, ha=\"right\",\n",
    "             rotation_mode=\"anchor\")\n",
    "        fmt = 'd'\n",
    "        thresh = cm.max() / 2.\n",
    "        for i in range(cm.shape[0]):\n",
    "            for j in range(cm.shape[1]):\n",
    "                ax.text(j, i, format(cm[i, j], fmt),\n",
    "                        ha=\"center\", va=\"center\",\n",
    "                        color=\"white\" if cm[i, j] > thresh else \"black\")\n",
    "        fig.tight_layout()\n",
    "        return ax"
   ]
  },
  {
   "cell_type": "code",
   "execution_count": 64,
   "metadata": {},
   "outputs": [],
   "source": [
    "data = utils.Games('ginfo', 'boardgames', \n",
    "                   ['\"Arkham Horror\"', '\"World War\"', 'political game', \n",
    "                    'Monopoly', '\"Miskatonic University\"',\n",
    "                    'Monopoly Risk legacy game pandemic'\n",
    "                   ])\n",
    "# data = utils.Cranfield('/Users/alfio/Dati/cranfield/cran')"
   ]
  },
  {
   "cell_type": "code",
   "execution_count": 65,
   "metadata": {},
   "outputs": [],
   "source": [
    "D = data.relevance()"
   ]
  },
  {
   "cell_type": "code",
   "execution_count": 66,
   "metadata": {},
   "outputs": [],
   "source": [
    "rel_docs = list(D[D['query'] == 5].doc.values)"
   ]
  },
  {
   "cell_type": "code",
   "execution_count": 67,
   "metadata": {},
   "outputs": [],
   "source": [
    "vsm = vec.VSM('inforet', 'bgg_tokens', field='lemma')\n",
    "bim = prs.BIM('inforet', 'bgg_tokens', true_doc_ids=rel_docs, field='lemma')\n",
    "tokenizer = utils.Tokenizer(language=('en', 'english'))"
   ]
  },
  {
   "cell_type": "code",
   "execution_count": 68,
   "metadata": {},
   "outputs": [],
   "source": [
    "E = QueryEvaluation(data, vsm, tokenizer)\n",
    "Eb = QueryEvaluation(data, bim, tokenizer)\n",
    "q_tokens = E.queryset()"
   ]
  },
  {
   "cell_type": "code",
   "execution_count": 89,
   "metadata": {},
   "outputs": [],
   "source": [
    "query = 2\n",
    "y_true, y_pred, scores, answers, q = E.top_k_selection(query, q_tokens[query], \n",
    "                                   min_relevance_judgment=0, percentile=20,\n",
    "                                          idf_filtering_percentile=0)\n",
    "y_true_b, y_pred_b, scores_b, answers_b, q_b = Eb.top_k_selection(query, q_tokens[query], \n",
    "                                   min_relevance_judgment=0, percentile=90,\n",
    "                                          idf_filtering_percentile=0)"
   ]
  },
  {
   "cell_type": "code",
   "execution_count": 90,
   "metadata": {},
   "outputs": [
    {
     "name": "stdout",
     "output_type": "stream",
     "text": [
      "[1 1 1 1 1 1 1 1 1 1]\n",
      "[1 1 1 0 1 0 1 1 1 1]\n",
      "[0.01335197 0.01021104 0.00422032 0.00150803 0.01138233 0.00301591\n",
      " 0.02238806 0.01121502 0.00442712 0.01351183]\n",
      "[1 1 1 1 1 1 1 1 1 1]\n",
      "[1 0 1 1 1 1 1 1 1 1]\n",
      "[ 0.00523834 -0.06954127  0.00523834  0.00523834  0.00523834  0.00523834\n",
      "  0.00523834  0.00523834  0.00523834  0.00523834]\n"
     ]
    }
   ],
   "source": [
    "print(y_true[:10])\n",
    "print(y_pred[:10])\n",
    "print(scores[:10])\n",
    "print(y_true_b[:10])\n",
    "print(y_pred_b[:10])\n",
    "print(scores_b[:10])"
   ]
  },
  {
   "cell_type": "markdown",
   "metadata": {},
   "source": [
    "## Results reading"
   ]
  },
  {
   "cell_type": "code",
   "execution_count": 91,
   "metadata": {},
   "outputs": [
    {
     "name": "stdout",
     "output_type": "stream",
     "text": [
      "['political', 'game'] \n",
      "\n",
      "16261300 0.042038622909027254 [1.05]\n",
      "Based on the popular mobile game by GungHo, this is a deck-building game with well-known characters from the mobile game.<br/><br/> \n",
      "\n",
      "3135100 0.0356958243783826 [0.83333333]\n",
      "This is a Monopoly game using Santiago&rsquo;s streets, Chile. The game uses pesos with Chilean money pictures instead of dollars.<br/><br/> \n",
      "\n",
      "6457500 0.03536553302862452 [0.83333333]\n",
      "Monopoly game with Major League Baseball teams as the properties and other baseball related themes for the other board spaces.  The game is branded with 'Bank of America'.<br/><br/> \n",
      "\n",
      "5767600 0.03189607744679781 [0.53571429]\n",
      "The famous Monopoly game. In this version you can buy, sell and trade the property of the Belgium city Antwerpen.<br/><br/> \n",
      "\n",
      "2179500 0.03146040870609141 [1.05226293]\n",
      "An expansion in the Dungeon Twister series of games. As all expansion, it can be played as a stand-alone game (if you know the rules from the basic game, available on the game website and you have a set of card). You can also combine it with the basic game and other expansions in order to have a different set of team and room each time you play.<br/><br/>This particular expansion is focused on giving character with muscles. They move really fast, but they are good at fighting.<br/><br/>Expands<br/><br/>    Dungeon Twister<br/><br/><br/><br/><br/> \n",
      "\n"
     ]
    }
   ],
   "source": [
    "docs = dict([x['id'], x['text']] for x in E.data.readdocs())\n",
    "print(q, '\\n')\n",
    "for doc, relevance in sorted(answers.items(), key=lambda x: -x[1])[:5]:\n",
    "    relevance_class = E.relevance[\n",
    "        (E.relevance['query'] == query) & (E.relevance['doc'] == doc)].relevance.values\n",
    "    print(doc, relevance, relevance_class)\n",
    "    print(docs[doc], '\\n')"
   ]
  },
  {
   "cell_type": "code",
   "execution_count": 92,
   "metadata": {},
   "outputs": [
    {
     "name": "stdout",
     "output_type": "stream",
     "text": [
      "['political', 'game'] \n",
      "\n",
      "18007800 0.005238338180499842 [0.76785714]\n",
      "A monopoly (from Greek monos &mu;Ď&nu;&omicron;&sigmaf; (alone or single) + polein &pi;&omega;&lambda;&epsilon;áż&nu; (to sell)) exists when a specific person or enterprise is the only supplier of a particular commodity.<br/><br/>Monopoly is a roll-and-move game where players move around the game board buying or trading properties, developing their properties with houses and hotels. When opponents land on players owned property, the owning player collects rent from the landing player. Owning sets of properties increases the rent paid to the player who owns them, by the player who lands on the square. The ultimate goal is to have the most money and drive opponents into bankruptcy.<br/><br/>The classic Monopoly with constructions and other elements from N&ouml;rdlingen, a city in Germany.<br/><br/> \n",
      "\n",
      "18005900 0.005238338180499842 [0.76807229]\n",
      "A monopoly (from Greek monos &mu;Ď&nu;&omicron;&sigmaf; (alone or single) + polein &pi;&omega;&lambda;&epsilon;áż&nu; (to sell)) exists when a specific person or enterprise is the only supplier of a particular commodity.<br/><br/>Monopoly is a roll-and-move game where players move around the game board buying or trading properties, developing their properties with houses and hotels. When opponents land on players owned property, the owning player collects rent from the landing player. Owning sets of properties increases the rent paid to the player who owns them, by the player who lands on the square. The ultimate goal is to have the most money and drive opponents into bankruptcy.<br/><br/>The classic Monopoly with constructions and other elements from London's highest viewing platform.<br/><br/> \n",
      "\n",
      "17995300 0.005238338180499842 [0.76807229]\n",
      "A monopoly (from Greek monos &mu;Ď&nu;&omicron;&sigmaf; (alone or single) + polein &pi;&omega;&lambda;&epsilon;áż&nu; (to sell)) exists when a specific person or enterprise is the only supplier of a particular commodity.<br/><br/>Monopoly is a roll-and-move game where players move around the game board buying or trading properties, developing their properties with houses and hotels. When opponents land on players owned property, the owning player collects rent from the landing player. Owning sets of properties increases the rent paid to the player who owns them, by the player who lands on the square. The ultimate goal is to have the most money and drive opponents into bankruptcy.<br/><br/>The classic Monopoly with constructions and other elements from Rotterdam, the largest port of Europe.<br/><br/> \n",
      "\n",
      "17993900 0.005238338180499842 [0.76829268]\n",
      "A monopoly (from Greek monos &mu;Ď&nu;&omicron;&sigmaf; (alone or single) + polein &pi;&omega;&lambda;&epsilon;áż&nu; (to sell)) exists when a specific person or enterprise is the only supplier of a particular commodity.<br/><br/>Monopoly is a roll-and-move game where players move around the game board buying or trading properties, developing their properties with houses and hotels. When opponents land on players owned property, the owning player collects rent from the landing player. Owning sets of properties increases the rent paid to the player who owns them, by the player who lands on the square. The ultimate goal is to have the most money and drive opponents into bankruptcy.<br/><br/>The classic Monopoly with constructions and other elements from Apeldoorn, a city of the Netherlands.<br/><br/> \n",
      "\n",
      "17968700 0.005238338180499842 [0.76764706]\n",
      "A monopoly (from Greek monos &mu;Ď&nu;&omicron;&sigmaf; (alone or single) + polein &pi;&omega;&lambda;&epsilon;áż&nu; (to sell)) exists when a specific person or enterprise is the only supplier of a particular commodity.<br/><br/>Monopoly is a roll-and-move game where players move around the game board buying or trading properties, developing their properties with houses and hotels. When opponents land on players owned property, the owning player collects rent from the landing player. Owning sets of properties increases the rent paid to the player who owns them, by the player who lands on the square. The ultimate goal is to have the most money and drive opponents into bankruptcy.<br/><br/>The classic Monopoly with constructions and other elements from ABBA, a former Swedish pop music group.<br/><br/> \n",
      "\n"
     ]
    }
   ],
   "source": [
    "docs = dict([x['id'], x['text']] for x in Eb.data.readdocs())\n",
    "print(q, '\\n')\n",
    "for doc, relevance in sorted(answers_b.items(), key=lambda x: -x[1])[:5]:\n",
    "    relevance_class = Eb.relevance[\n",
    "        (Eb.relevance['query'] == query) & (Eb.relevance['doc'] == doc)].relevance.values\n",
    "    print(doc, relevance, relevance_class)\n",
    "    print(docs[doc], '\\n')"
   ]
  },
  {
   "cell_type": "markdown",
   "metadata": {},
   "source": [
    "## Classification report\n",
    "The reported averages include micro average (averaging the total true positives, false negatives and false positives), macro average (averaging the unweighted mean per label), weighted average (averaging the support-weighted mean per label) and sample average (only for multilabel classification), see <a href=\"https://scikit-learn.org/stable/modules/generated/sklearn.metrics.classification_report.html#sklearn.metrics.classification_report\">sklearn.metrics.classification_report</a>."
   ]
  },
  {
   "cell_type": "code",
   "execution_count": 93,
   "metadata": {},
   "outputs": [
    {
     "name": "stdout",
     "output_type": "stream",
     "text": [
      "              precision    recall  f1-score   support\n",
      "\n",
      "           0       0.59      1.00      0.74       403\n",
      "           1       1.00      0.77      0.87      1218\n",
      "\n",
      "   micro avg       0.82      0.82      0.82      1621\n",
      "   macro avg       0.79      0.88      0.80      1621\n",
      "weighted avg       0.90      0.82      0.84      1621\n",
      "\n"
     ]
    }
   ],
   "source": [
    "print(mtr.classification_report(y_true, y_pred))"
   ]
  },
  {
   "cell_type": "code",
   "execution_count": 94,
   "metadata": {},
   "outputs": [
    {
     "name": "stdout",
     "output_type": "stream",
     "text": [
      "              precision    recall  f1-score   support\n",
      "\n",
      "           0       0.84      1.00      0.91       403\n",
      "           1       1.00      0.94      0.97      1218\n",
      "\n",
      "   micro avg       0.95      0.95      0.95      1621\n",
      "   macro avg       0.92      0.97      0.94      1621\n",
      "weighted avg       0.96      0.95      0.95      1621\n",
      "\n"
     ]
    }
   ],
   "source": [
    "print(mtr.classification_report(y_true_b, y_pred_b))"
   ]
  },
  {
   "cell_type": "markdown",
   "metadata": {},
   "source": [
    "## Confusion matrix\n",
    "Labels is a list of labels to index the matrix. This may be used to reorder or select a subset of labels. If none is given, those that appear at least once in y_true or y_pred are used in sorted order."
   ]
  },
  {
   "cell_type": "code",
   "execution_count": 95,
   "metadata": {},
   "outputs": [],
   "source": [
    "cm = mtr.confusion_matrix(y_true, y_pred)\n",
    "tn, fp, fn, tp = cm.ravel()\n",
    "cm_b = mtr.confusion_matrix(y_true_b, y_pred_b)\n",
    "tn_b, fp_b, fn_b, tp_b = cm_b.ravel()"
   ]
  },
  {
   "cell_type": "code",
   "execution_count": 96,
   "metadata": {},
   "outputs": [
    {
     "data": {
      "image/png": "[encoded data removed]",
      "text/plain": [
       "<Figure size 432x288 with 2 Axes>"
      ]
     },
     "metadata": {
      "needs_background": "light"
     },
     "output_type": "display_data"
    }
   ],
   "source": [
    "QueryEvaluation.plot_cm(y_true, y_pred)\n",
    "plt.show()"
   ]
  },
  {
   "cell_type": "code",
   "execution_count": 97,
   "metadata": {},
   "outputs": [
    {
     "data": {
      "image/png": "[encoded data removed]",
      "text/plain": [
       "<Figure size 432x288 with 2 Axes>"
      ]
     },
     "metadata": {
      "needs_background": "light"
     },
     "output_type": "display_data"
    }
   ],
   "source": [
    "QueryEvaluation.plot_cm(y_true_b, y_pred_b)\n",
    "plt.show()"
   ]
  },
  {
   "cell_type": "markdown",
   "metadata": {},
   "source": [
    "### Precision-Recall curve\n",
    "Gets precision, recall and the thresholds, given the relevance judgments and the system scores."
   ]
  },
  {
   "cell_type": "code",
   "execution_count": 98,
   "metadata": {},
   "outputs": [],
   "source": [
    "precision, recall, thresholds = mtr.precision_recall_curve(y_true, scores)\n",
    "precision_b, recall_b, thresholds_b = mtr.precision_recall_curve(y_true_b, scores_b)"
   ]
  },
  {
   "cell_type": "code",
   "execution_count": 99,
   "metadata": {},
   "outputs": [
    {
     "name": "stdout",
     "output_type": "stream",
     "text": [
      "[1. 1. 1. 1. 1.]\n",
      "[0.00328407 0.00246305 0.00164204 0.00082102 0.        ]\n",
      "[0.03146041 0.03189608 0.03536553 0.03569582 0.04203862]\n",
      "[0.75138803 0.75077304 0.7470182  1.         1.        ]\n",
      "[1.         0.99671593 0.97701149 0.93596059 0.        ]\n",
      "[-0.07477961 -0.06954127  0.          0.00523834]\n"
     ]
    }
   ],
   "source": [
    "print(precision[-5:])\n",
    "print(recall[-5:])\n",
    "print(thresholds[-5:])\n",
    "print(precision_b[-5:])\n",
    "print(recall_b[-5:])\n",
    "print(thresholds_b[-5:])"
   ]
  },
  {
   "cell_type": "code",
   "execution_count": 105,
   "metadata": {},
   "outputs": [
    {
     "data": {
      "image/png": "[encoded data removed]",
      "text/plain": [
       "<Figure size 864x576 with 6 Axes>"
      ]
     },
     "metadata": {
      "needs_background": "light"
     },
     "output_type": "display_data"
    }
   ],
   "source": [
    "fig, ax = plt.subplots(nrows=2, ncols=3, figsize=(12,8))\n",
    "ax[0,0].plot(precision, label='Precision VSM')\n",
    "ax[0,0].plot(recall, label='Recall VSM')\n",
    "step_th = max([len(thresholds) // 10, 1])\n",
    "ax[0,0].set_xticks(range(0, len(thresholds), step_th))\n",
    "ax[0,0].set_xticklabels([round(thresholds[x], 5) \n",
    "                       for x in range(0, len(thresholds), step_th)], rotation=90)\n",
    "ax[0,0].legend()\n",
    "\n",
    "ax[1,0].plot(precision_b, label='Precision BIM')\n",
    "ax[1,0].plot(recall_b, label='Recall BIM')\n",
    "step_th_b = max([len(thresholds_b) // 10, 1])\n",
    "ax[1,0].set_xticks(range(0, len(thresholds_b), step_th_b))\n",
    "ax[1,0].set_xticklabels([round(thresholds_b[x], 5) \n",
    "                       for x in range(0, len(thresholds_b), step_th_b)], rotation=90)\n",
    "ax[1,0].legend()\n",
    "\n",
    "\n",
    "fp = np.flip(precision)\n",
    "step_r = max([len(recall) // 10, 1])\n",
    "ax[0,1].plot(fp, label='Precision VSM')\n",
    "ax[0,1].set_xticks(range(0, len(recall), step_r))\n",
    "ax[0,1].set_xticklabels([round(recall[0-x-1], 2) \n",
    "                       for x in range(0, len(recall), step_r)], rotation=90)\n",
    "ax[0,1].legend()\n",
    "ax[0,1].set_xlabel('Recall')\n",
    "ax[0,1].set_ylabel('Precision')\n",
    "\n",
    "fp_b = np.flip(precision_b)\n",
    "step_r_b = max([len(recall_b) // 10, 1])\n",
    "ax[1,1].plot(fp_b, label='Precision BIM')\n",
    "ax[1,1].set_xticks(range(0, len(recall_b), step_r_b))\n",
    "ax[1,1].set_xticklabels([round(recall_b[0-x-1], 2) \n",
    "                       for x in range(0, len(recall_b), step_r_b)], rotation=90)\n",
    "ax[1,1].legend()\n",
    "ax[1,1].set_xlabel('Recall')\n",
    "ax[1,1].set_ylabel('Precision')\n",
    "\n",
    "\n",
    "interpolated_p = [max(fp[i:]) for i, x in enumerate(fp)]\n",
    "ax[0,2].plot(interpolated_p, label='Precision VSM')\n",
    "ax[0,2].set_xticks(range(0, len(recall), step_r))\n",
    "ax[0,2].set_xticklabels([round(recall[0-x-1], 2) \n",
    "                       for x in range(0, len(recall), step_r)], rotation=90)\n",
    "ax[0,2].legend()\n",
    "ax[0,2].set_xlabel('Recall')\n",
    "ax[0,2].set_ylabel('Precision')\n",
    "\n",
    "interpolated_p_b = [max(fp_b[i:]) for i, x in enumerate(fp_b)]\n",
    "ax[1,2].plot(interpolated_p_b, label='Precision BIM')\n",
    "ax[1,2].set_xticks(range(0, len(recall_b), step_r_b))\n",
    "ax[1,2].set_xticklabels([round(recall_b[0-x-1], 2) \n",
    "                       for x in range(0, len(recall_b), step_r_b)], rotation=90)\n",
    "ax[1,2].legend()\n",
    "ax[1,2].set_xlabel('Recall')\n",
    "ax[1,2].set_ylabel('Precision')\n",
    "\n",
    "plt.tight_layout()\n",
    "plt.show()"
   ]
  },
  {
   "cell_type": "markdown",
   "metadata": {},
   "source": [
    "### ROC curve\n",
    "Compute Receiver operating characteristic (ROC).\n",
    "We want to study the error of the system by combining:\n",
    "- TPR = TP / (TP + FN)\n",
    "- FPR = FP / (FP + TN)"
   ]
  },
  {
   "cell_type": "code",
   "execution_count": 106,
   "metadata": {},
   "outputs": [],
   "source": [
    "fpr, tpr, _ = mtr.roc_curve(y_true, scores)\n",
    "fpr_b, tpr_b, _ = mtr.roc_curve(y_true_b, scores_b)"
   ]
  },
  {
   "cell_type": "code",
   "execution_count": 107,
   "metadata": {},
   "outputs": [
    {
     "data": {
      "image/png": "[encoded data removed]",
      "text/plain": [
       "<Figure size 432x288 with 1 Axes>"
      ]
     },
     "metadata": {
      "needs_background": "light"
     },
     "output_type": "display_data"
    }
   ],
   "source": [
    "plt.figure()\n",
    "plt.plot(fpr, tpr, label='ROC curve VSM')\n",
    "plt.plot(fpr_b, tpr_b, label='ROC curve BIM')\n",
    "plt.xlabel('False Positive Rate')\n",
    "plt.ylabel('True Positive Rate')\n",
    "plt.legend(loc=\"lower right\")\n",
    "plt.show()"
   ]
  },
  {
   "cell_type": "code",
   "execution_count": null,
   "metadata": {},
   "outputs": [],
   "source": []
  },
  {
   "cell_type": "code",
   "execution_count": null,
   "metadata": {},
   "outputs": [],
   "source": []
  }
 ],
 "metadata": {
  "kernelspec": {
   "display_name": "Python 3",
   "language": "python",
   "name": "python3"
  },
  "language_info": {
   "codemirror_mode": {
    "name": "ipython",
    "version": 3
   },
   "file_extension": ".py",
   "mimetype": "text/x-python",
   "name": "python",
   "nbconvert_exporter": "python",
   "pygments_lexer": "ipython3",
   "version": "3.7.1"
  }
 },
 "nbformat": 4,
 "nbformat_minor": 2
}
