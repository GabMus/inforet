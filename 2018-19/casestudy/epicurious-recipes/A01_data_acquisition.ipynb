{
 "cells": [
  {
   "cell_type": "markdown",
   "metadata": {},
   "source": [
    "# The Epicurious recipes dataset\n",
    "Data are originally taken from the <a href=\"https://www.epicurious.com/recipes-menus\">Epicurious website</a>. The dataset is provided as <code>csv</code> and <code>json</code> by <a href=\"https://www.kaggle.com/hugodarwood/epirecipes\">Kaggle</a>."
   ]
  },
  {
   "cell_type": "markdown",
   "metadata": {},
   "source": [
    "## Data overview\n",
    "Replace paths with your local download dir."
   ]
  },
  {
   "cell_type": "code",
   "execution_count": 1,
   "metadata": {},
   "outputs": [],
   "source": [
    "import json\n",
    "recipes_file = '/Users/alfio/Dati/epicurious/full_format_recipes.json'"
   ]
  },
  {
   "cell_type": "code",
   "execution_count": 2,
   "metadata": {},
   "outputs": [],
   "source": [
    "with open(recipes_file, 'r') as infile:\n",
    "    data = json.load(infile)"
   ]
  },
  {
   "cell_type": "code",
   "execution_count": 3,
   "metadata": {},
   "outputs": [
    {
     "name": "stdout",
     "output_type": "stream",
     "text": [
      "directions ['Cook potatoes and carrots in large pot of boiling salted water until almost tender, about 7 minutes. Add asparagus and peas; cook until vegetables are just tender, about 3 minutes longer. Drain. Rinse with cold water; drain. Transfer to large bowl. (Can be prepared 1 day ahead. Cover; chill.)', 'Add ham to vegetables. Add Shallot Vinaigrette to salad and toss to coat. Season to taste with salt and pepper.', 'Line bowl with spinach. Top with salad and serve.']\n",
      "fat None\n",
      "date 2004-08-20T04:00:00.000Z\n",
      "categories ['Salad', 'Potato', 'Side', 'Easter', 'Low Fat', 'Quick & Easy', 'Ham', 'Asparagus', 'Spinach', 'Carrot', 'Spring', 'Healthy', 'Sugar Snap Pea', 'Boil', 'Bon Appétit', 'Dairy Free', 'Wheat/Gluten-Free', 'Peanut Free', 'Tree Nut Free', 'Soy Free', 'No Sugar Added']\n",
      "calories None\n",
      "desc Serve this newfangled main-course salad with a crisp flatbread, such as lavash, and white wine or rosé spritzers.\n",
      "protein None\n",
      "rating 4.375\n",
      "title Ham and Spring Vegetable Salad with Shallot Vinaigrette \n",
      "ingredients ['1 1/2 pounds small red-skinned potatoes, each cut into 8 wedges', '1 1/2 pounds baby carrots, peeled, cut lengthwise in half', '1 1/2 pounds asparagus, trimmed, cut into 2-inch pieces', '6 ounces sugar snap peas, trimmed', '18 ounces low-fat (97% fat-free) smoked ham, cut into 1/4-inch-thick slices, then into 2-inch-long by 1/2-inch-wide pieces', 'Shallot Vinaigrette', '1 6-ounce package fresh baby spinach']\n",
      "sodium None\n"
     ]
    }
   ],
   "source": [
    "for k, v in data[6].items():\n",
    "    print(k, v)"
   ]
  },
  {
   "cell_type": "markdown",
   "metadata": {},
   "source": [
    "## MongoDb acquisition"
   ]
  },
  {
   "cell_type": "code",
   "execution_count": 4,
   "metadata": {},
   "outputs": [],
   "source": [
    "import pymongo\n",
    "from datetime import datetime"
   ]
  },
  {
   "cell_type": "code",
   "execution_count": 5,
   "metadata": {},
   "outputs": [],
   "source": [
    "db = pymongo.MongoClient()['inforet']['epicurious']"
   ]
  },
  {
   "cell_type": "code",
   "execution_count": 6,
   "metadata": {},
   "outputs": [],
   "source": [
    "records = []\n",
    "for i, recipe in enumerate(data):\n",
    "    recipe['_id'] = i\n",
    "    try:\n",
    "        recipe['date'] = datetime.strptime(recipe['date'], '%Y-%m-%dT%H:%M:%S.%fZ')\n",
    "    except:\n",
    "        recipe['date'] = None\n",
    "    records.append(recipe)"
   ]
  },
  {
   "cell_type": "code",
   "execution_count": 8,
   "metadata": {},
   "outputs": [
    {
     "data": {
      "text/plain": [
       "<pymongo.results.InsertManyResult at 0x10b4592c8>"
      ]
     },
     "execution_count": 8,
     "metadata": {},
     "output_type": "execute_result"
    }
   ],
   "source": [
    "db.insert_many(records)"
   ]
  },
  {
   "cell_type": "code",
   "execution_count": null,
   "metadata": {},
   "outputs": [],
   "source": []
  }
 ],
 "metadata": {
  "kernelspec": {
   "display_name": "Python 3",
   "language": "python",
   "name": "python3"
  },
  "language_info": {
   "codemirror_mode": {
    "name": "ipython",
    "version": 3
   },
   "file_extension": ".py",
   "mimetype": "text/x-python",
   "name": "python",
   "nbconvert_exporter": "python",
   "pygments_lexer": "ipython3",
   "version": "3.7.1"
  }
 },
 "nbformat": 4,
 "nbformat_minor": 2
}
