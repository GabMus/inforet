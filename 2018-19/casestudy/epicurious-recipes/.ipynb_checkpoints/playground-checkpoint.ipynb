{
 "cells": [
  {
   "cell_type": "code",
   "execution_count": 1,
   "metadata": {},
   "outputs": [],
   "source": [
    "import pymongo"
   ]
  },
  {
   "cell_type": "code",
   "execution_count": 2,
   "metadata": {},
   "outputs": [],
   "source": [
    "db = pymongo.MongoClient()['inforet']['epicurious']"
   ]
  },
  {
   "cell_type": "code",
   "execution_count": 9,
   "metadata": {},
   "outputs": [],
   "source": [
    "protein = []\n",
    "q = {'protein': {'$lte': 40}}\n",
    "for record in db.find(q):\n",
    "    try:\n",
    "        if record['protein'] is not None:\n",
    "            protein.append(record['protein'])\n",
    "    except:\n",
    "        pass"
   ]
  },
  {
   "cell_type": "code",
   "execution_count": 10,
   "metadata": {},
   "outputs": [
    {
     "name": "stdout",
     "output_type": "stream",
     "text": [
      "13480\n"
     ]
    }
   ],
   "source": [
    "import numpy as np\n",
    "\n",
    "c = np.array(protein)\n",
    "print(len(c))"
   ]
  },
  {
   "cell_type": "code",
   "execution_count": 15,
   "metadata": {},
   "outputs": [],
   "source": [
    "h, l = [], []\n",
    "for record in db.find({'protein': {'$lte': 40}}):\n",
    "    try:\n",
    "        if record['protein'] is not None:\n",
    "            if record['protein'] <= 12:\n",
    "                l.append(record['_id'])\n",
    "            else:\n",
    "                h.append(record['_id'])\n",
    "    except:\n",
    "        pass"
   ]
  },
  {
   "cell_type": "code",
   "execution_count": 23,
   "metadata": {},
   "outputs": [
    {
     "name": "stdout",
     "output_type": "stream",
     "text": [
      "2926 7185\n"
     ]
    }
   ],
   "source": [
    "print((int(np.ceil(len(h)*0.75))), (int(np.ceil(len(l)*0.75))))\n",
    "thh, thl = int(np.ceil(len(h)*0.75)), int(np.ceil(len(l)*0.75))"
   ]
  },
  {
   "cell_type": "code",
   "execution_count": 24,
   "metadata": {},
   "outputs": [],
   "source": [
    "th, xh = h[:thh], h[thh:]\n",
    "tl, xl = l[:thl], l[thl:]"
   ]
  },
  {
   "cell_type": "code",
   "execution_count": null,
   "metadata": {},
   "outputs": [],
   "source": []
  },
  {
   "cell_type": "code",
   "execution_count": 6,
   "metadata": {},
   "outputs": [],
   "source": [
    "import matplotlib.pyplot as plt"
   ]
  },
  {
   "cell_type": "code",
   "execution_count": 11,
   "metadata": {},
   "outputs": [],
   "source": [
    "x = sorted(c)"
   ]
  },
  {
   "cell_type": "code",
   "execution_count": 12,
   "metadata": {},
   "outputs": [
    {
     "data": {
      "image/png": "[encoded data removed]",
      "text/plain": [
       "<Figure size 432x288 with 1 Axes>"
      ]
     },
     "metadata": {
      "needs_background": "light"
     },
     "output_type": "display_data"
    }
   ],
   "source": [
    "plt.boxplot(x)\n",
    "plt.show()"
   ]
  },
  {
   "cell_type": "code",
   "execution_count": 14,
   "metadata": {},
   "outputs": [
    {
     "data": {
      "text/plain": [
       "array([ 6., 18., 28.])"
      ]
     },
     "execution_count": 14,
     "metadata": {},
     "output_type": "execute_result"
    }
   ],
   "source": [
    "np.percentile(c, [50, 80, 90])"
   ]
  },
  {
   "cell_type": "code",
   "execution_count": 25,
   "metadata": {},
   "outputs": [
    {
     "name": "stdout",
     "output_type": "stream",
     "text": [
      "Importing Jupyter notebook from A03_indexing.ipynb\n"
     ]
    }
   ],
   "source": [
    "import nbimporter\n",
    "from A03_indexing import Index"
   ]
  },
  {
   "cell_type": "code",
   "execution_count": 26,
   "metadata": {},
   "outputs": [],
   "source": [
    "H = Index('inforet', 'epicurious_tokens', \n",
    "          labels=['ingredients'], docids=th, field='lemma')\n",
    "L = Index('inforet', 'epicurious_tokens', \n",
    "          labels=['ingredients'], docids=tl, field='lemma')"
   ]
  },
  {
   "cell_type": "code",
   "execution_count": 29,
   "metadata": {},
   "outputs": [
    {
     "name": "stdout",
     "output_type": "stream",
     "text": [
      "0.9617224880382775\n",
      "0.9095337508698678\n"
     ]
    }
   ],
   "source": [
    "print(len(H.U['1']) / len(th))\n",
    "print(len(L.U['1']) / len(tl))"
   ]
  },
  {
   "cell_type": "code",
   "execution_count": 30,
   "metadata": {},
   "outputs": [],
   "source": [
    "dbi = pymongo.MongoClient()['inforet']['epicurious_tokens']"
   ]
  },
  {
   "cell_type": "code",
   "execution_count": 31,
   "metadata": {},
   "outputs": [],
   "source": [
    "def takewords(dbi, doc):\n",
    "    c = dbi.find({'document': doc, 'label': 'ingredients'})\n",
    "    terms = set()\n",
    "    for record in c:\n",
    "        terms.add(record['lemma'])\n",
    "    return list(terms)"
   ]
  },
  {
   "cell_type": "code",
   "execution_count": 58,
   "metadata": {},
   "outputs": [],
   "source": [
    "y_true = []\n",
    "y_pred = []\n",
    "prior_h = len(th) / (len(th) + len(tl))\n",
    "prior_l = len(tl) / (len(th) + len(tl))\n",
    "\n",
    "\n",
    "for x in xh:\n",
    "    y_true.append(1)\n",
    "    words = takewords(dbi, x)\n",
    "    dh, dl = 1, 1\n",
    "    for w in words:\n",
    "        ph = (len(H.U[w]) + 0.0001) / (len(th))\n",
    "        pl = (len(L.U[w]) + 0.0001) / (len(tl))\n",
    "        dh *= ph\n",
    "        dl *= pl\n",
    "    dh *= prior_h\n",
    "    dl *= prior_l\n",
    "    if dh > dl:\n",
    "        y_pred.append(1)\n",
    "    else:\n",
    "        y_pred.append(0)\n",
    "        \n",
    "for x in xl:\n",
    "    y_true.append(0)\n",
    "    words = takewords(dbi, x)\n",
    "    dh, dl = 1, 1\n",
    "    for w in words:\n",
    "        ph = (len(H.U[w]) + 0.0001) / (len(th))\n",
    "        pl = (len(L.U[w]) + 0.0001) / (len(tl))\n",
    "        dh *= ph\n",
    "        dl *= pl\n",
    "    dh *= prior_h\n",
    "    dl *= prior_l\n",
    "    if dh > dl:\n",
    "        y_pred.append(1)\n",
    "    else:\n",
    "        y_pred.append(0)"
   ]
  },
  {
   "cell_type": "code",
   "execution_count": 59,
   "metadata": {},
   "outputs": [
    {
     "data": {
      "text/plain": [
       "[1, 0, 1, 1, 1, 1, 1, 1, 1, 1]"
      ]
     },
     "execution_count": 59,
     "metadata": {},
     "output_type": "execute_result"
    }
   ],
   "source": [
    "y_true[:10]\n",
    "y_pred[:10]"
   ]
  },
  {
   "cell_type": "code",
   "execution_count": 60,
   "metadata": {},
   "outputs": [],
   "source": [
    "import sklearn.metrics as met"
   ]
  },
  {
   "cell_type": "code",
   "execution_count": 61,
   "metadata": {},
   "outputs": [],
   "source": [
    "m = met.confusion_matrix(y_true, y_pred)"
   ]
  },
  {
   "cell_type": "code",
   "execution_count": 62,
   "metadata": {},
   "outputs": [
    {
     "data": {
      "text/plain": [
       "array([[638, 941],\n",
       "       [ 57, 844]])"
      ]
     },
     "execution_count": 62,
     "metadata": {},
     "output_type": "execute_result"
    }
   ],
   "source": [
    "m"
   ]
  },
  {
   "cell_type": "code",
   "execution_count": 63,
   "metadata": {},
   "outputs": [
    {
     "name": "stdout",
     "output_type": "stream",
     "text": [
      "recall\n",
      "0.40405319822672575\n",
      "0.9367369589345172\n",
      "precision\n",
      "0.9179856115107914\n",
      "0.47282913165266105\n"
     ]
    }
   ],
   "source": [
    "print('recall')\n",
    "print(m[0,0] / m[0].sum())\n",
    "print(m[1,1] / m[1].sum())\n",
    "print('precision')\n",
    "print(m[0,0] / m[:,0].sum())\n",
    "print(m[1,1] / m[:,1].sum())"
   ]
  },
  {
   "cell_type": "code",
   "execution_count": 54,
   "metadata": {},
   "outputs": [
    {
     "data": {
      "text/plain": [
       "889"
      ]
     },
     "execution_count": 54,
     "metadata": {},
     "output_type": "execute_result"
    }
   ],
   "source": []
  },
  {
   "cell_type": "code",
   "execution_count": null,
   "metadata": {},
   "outputs": [],
   "source": []
  }
 ],
 "metadata": {
  "kernelspec": {
   "display_name": "Python 3",
   "language": "python",
   "name": "python3"
  },
  "language_info": {
   "codemirror_mode": {
    "name": "ipython",
    "version": 3
   },
   "file_extension": ".py",
   "mimetype": "text/x-python",
   "name": "python",
   "nbconvert_exporter": "python",
   "pygments_lexer": "ipython3",
   "version": "3.7.1"
  }
 },
 "nbformat": 4,
 "nbformat_minor": 2
}
