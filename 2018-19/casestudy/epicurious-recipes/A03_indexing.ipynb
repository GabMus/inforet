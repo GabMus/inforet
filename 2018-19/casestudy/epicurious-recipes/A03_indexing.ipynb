{
 "cells": [
  {
   "cell_type": "markdown",
   "metadata": {},
   "source": [
    "# In-memory indexes for recepies\n",
    "Classes for indexing recepies in memory providing unigram, 2-gram, and 3-gram indexing."
   ]
  },
  {
   "cell_type": "code",
   "execution_count": 1,
   "metadata": {},
   "outputs": [],
   "source": [
    "import pymongo\n",
    "import nltk\n",
    "from collections import defaultdict"
   ]
  },
  {
   "cell_type": "code",
   "execution_count": 4,
   "metadata": {},
   "outputs": [],
   "source": [
    "class Index(object):\n",
    "    \n",
    "    def __init__(self, dbname, collection, docids=None, \n",
    "                 labels=None, field='text', ngrams=False):\n",
    "        self.tokens = pymongo.MongoClient()[dbname][collection]\n",
    "        self.docids = docids\n",
    "        self.field = field\n",
    "        self.labels = labels\n",
    "        self.docs = set()\n",
    "        self.U = defaultdict(lambda: defaultdict(lambda: 0))\n",
    "        self.B = defaultdict(lambda: defaultdict(lambda: 0))\n",
    "        self.T = defaultdict(lambda: defaultdict(lambda: defaultdict(lambda: 0)))\n",
    "        self._unigram()\n",
    "        if ngrams:\n",
    "            self._ngram()\n",
    "        \n",
    "    def _filtering(self):\n",
    "        pipeline = []\n",
    "        q = {}\n",
    "        if self.docids is not None:\n",
    "            q['document'] = {'$in': self.docids}\n",
    "        if self.labels is not None:\n",
    "            q['label'] = {'$in': self.labels}\n",
    "        if len(q) > 0:\n",
    "            m = {'$match': q}\n",
    "            pipeline.append(m)\n",
    "        return pipeline\n",
    "        \n",
    "    def _unigram(self):\n",
    "        pipeline = self._filtering()\n",
    "        g = {'$group': {'_id': {\n",
    "            'doc': '$document', 'token': '$' + self.field},\n",
    "                       'count': {'$sum': 1}}}\n",
    "        pipeline.append(g)\n",
    "        for record in self.tokens.aggregate(pipeline, allowDiskUse=True):\n",
    "            r, d = record['_id']['token'], record['_id']['doc']\n",
    "            self.docs.add(d)\n",
    "            self.U[r][d] = record['count']\n",
    "            \n",
    "    def _ngram(self):\n",
    "        pipeline = self._filtering()\n",
    "        s = {'$sort': {'document': 1, 'label': 1, 'sentence': 1}}\n",
    "        g = {'$group': {'_id': {'doc': '$document', 'sent': '$sentence'}, \n",
    "                        'tokens': {'$push': '$' + self.field}}}\n",
    "        pipeline.append(g)\n",
    "        for record in self.tokens.aggregate(pipeline, allowDiskUse=True):\n",
    "            for k, v in nltk.ngrams(record['tokens'], n=2):\n",
    "                self.B[k][v] += 1\n",
    "            for k, v, z in nltk.ngrams(record['tokens'], n=3):\n",
    "                self.T[k][v][z] += 1\n"
   ]
  },
  {
   "cell_type": "code",
   "execution_count": 5,
   "metadata": {},
   "outputs": [],
   "source": []
  },
  {
   "cell_type": "code",
   "execution_count": null,
   "metadata": {},
   "outputs": [],
   "source": []
  },
  {
   "cell_type": "code",
   "execution_count": null,
   "metadata": {},
   "outputs": [],
   "source": []
  },
  {
   "cell_type": "code",
   "execution_count": null,
   "metadata": {},
   "outputs": [],
   "source": []
  }
 ],
 "metadata": {
  "kernelspec": {
   "display_name": "Python 3",
   "language": "python",
   "name": "python3"
  },
  "language_info": {
   "codemirror_mode": {
    "name": "ipython",
    "version": 3
   },
   "file_extension": ".py",
   "mimetype": "text/x-python",
   "name": "python",
   "nbconvert_exporter": "python",
   "pygments_lexer": "ipython3",
   "version": "3.7.1"
  }
 },
 "nbformat": 4,
 "nbformat_minor": 2
}
