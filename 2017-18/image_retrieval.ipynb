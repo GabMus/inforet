{
 "cells": [
  {
   "cell_type": "markdown",
   "metadata": {},
   "source": [
    "# Evaluation for retrieval of images by tags"
   ]
  },
  {
   "cell_type": "markdown",
   "metadata": {},
   "source": [
    "Based on several collections of images harvested from google images and tagged by clarifi."
   ]
  },
  {
   "cell_type": "code",
   "execution_count": 1,
   "metadata": {},
   "outputs": [
    {
     "name": "stdout",
     "output_type": "stream",
     "text": [
      "importing Jupyter notebook from benchmark.ipynb\n"
     ]
    }
   ],
   "source": [
    "import nbimporter\n",
    "from benchmark import ImageTags\n",
    "import numpy as np\n",
    "from IPython.core.display import display, HTML, Image\n",
    "import scipy.spatial.distance as dis"
   ]
  },
  {
   "cell_type": "code",
   "execution_count": 6,
   "metadata": {},
   "outputs": [],
   "source": [
    "I = ImageTags('inforet', 'googleimages', url='image_thumbnail_url', \n",
    "              selection=None)"
   ]
  },
  {
   "cell_type": "code",
   "execution_count": 7,
   "metadata": {},
   "outputs": [
    {
     "name": "stdout",
     "output_type": "stream",
     "text": [
      "(2225, 1694)\n"
     ]
    }
   ],
   "source": [
    "print I.M.shape"
   ]
  },
  {
   "cell_type": "code",
   "execution_count": 8,
   "metadata": {},
   "outputs": [],
   "source": [
    "def view(doc_id):\n",
    "    display(HTML(I.html(doc_id)))"
   ]
  },
  {
   "cell_type": "markdown",
   "metadata": {},
   "source": [
    "## Preview"
   ]
  },
  {
   "cell_type": "code",
   "execution_count": 9,
   "metadata": {},
   "outputs": [
    {
     "data": {
      "text/html": [
       "<img src=\"https://encrypted-tbn0.gstatic.com/images?q=tbn:ANd9GcS4QiQV2PBQq2K6J8JUEzL57_kuyueuZuji7Zz9MYgvK2SMG5NW\" style=\"width: 200px;\">"
      ],
      "text/plain": [
       "<IPython.core.display.HTML object>"
      ]
     },
     "metadata": {},
     "output_type": "display_data"
    },
    {
     "name": "stdout",
     "output_type": "stream",
     "text": [
      "illustration 0.056\n",
      "vector 0.056\n",
      "set 0.054\n",
      "people 0.053\n",
      "collection 0.053\n",
      "chalk out 0.052\n",
      "monochrome 0.051\n",
      "desktop 0.051\n",
      "sketch 0.05\n",
      "symbol 0.05\n",
      "design 0.049\n",
      "adult 0.049\n",
      "paper 0.049\n",
      "calendar 0.048\n",
      "scribble 0.047\n",
      "art 0.047\n",
      "man 0.047\n",
      "business 0.047\n",
      "graphic 0.046\n",
      "cute 0.045\n"
     ]
    }
   ],
   "source": [
    "k = np.random.randint(0, I.M.shape[0])\n",
    "view(k)\n",
    "for t, p in sorted([(I.tags[x], round(I.probs[k][x], 3)) for x in np.where(I.probs[k] > 0)[0]],\n",
    "                  key=lambda x: -x[1]):\n",
    "    print t, p"
   ]
  },
  {
   "cell_type": "markdown",
   "metadata": {},
   "source": [
    "## Retrieval"
   ]
  },
  {
   "cell_type": "code",
   "execution_count": 11,
   "metadata": {},
   "outputs": [],
   "source": [
    "query = ['outdoor', 'sport', 'outdoor', 'tennis', 'tennis']"
   ]
  },
  {
   "cell_type": "markdown",
   "metadata": {},
   "source": [
    "### Vector space without weigth"
   ]
  },
  {
   "cell_type": "code",
   "execution_count": 12,
   "metadata": {},
   "outputs": [],
   "source": [
    "q1 = I.query_vector(query)\n",
    "R1 = I.vector_search(q1, dis.cosine, use_tfidf=False)"
   ]
  },
  {
   "cell_type": "code",
   "execution_count": 13,
   "metadata": {},
   "outputs": [
    {
     "data": {
      "text/html": [
       "<img src=\"https://encrypted-tbn0.gstatic.com/images?q=tbn:ANd9GcQULXi-NrFj2AloYpbnjdEpGuooZltO9jemBW7e-XoFuU3mQVf1\" style=\"width: 200px;\">"
      ],
      "text/plain": [
       "<IPython.core.display.HTML object>"
      ]
     },
     "metadata": {},
     "output_type": "display_data"
    },
    {
     "name": "stdout",
     "output_type": "stream",
     "text": [
      "0.677647990911\n"
     ]
    },
    {
     "data": {
      "text/html": [
       "<img src=\"https://encrypted-tbn0.gstatic.com/images?q=tbn:ANd9GcQumEUOPKcTKcQUjaj8B5Vl9n58x8whDrFZqLdPLGWWxn4yY7zsjg\" style=\"width: 200px;\">"
      ],
      "text/plain": [
       "<IPython.core.display.HTML object>"
      ]
     },
     "metadata": {},
     "output_type": "display_data"
    },
    {
     "name": "stdout",
     "output_type": "stream",
     "text": [
      "0.679691997465\n"
     ]
    },
    {
     "data": {
      "text/html": [
       "<img src=\"https://encrypted-tbn0.gstatic.com/images?q=tbn:ANd9GcTQm7kKZMpS5GaM4RU9PNmq14JTYEXxiIjESPfSMr44gickDijs\" style=\"width: 200px;\">"
      ],
      "text/plain": [
       "<IPython.core.display.HTML object>"
      ]
     },
     "metadata": {},
     "output_type": "display_data"
    },
    {
     "name": "stdout",
     "output_type": "stream",
     "text": [
      "0.680676603289\n"
     ]
    },
    {
     "data": {
      "text/html": [
       "<img src=\"https://encrypted-tbn0.gstatic.com/images?q=tbn:ANd9GcSVsR1Y8U0X8Xeej-Fxze3IsVsu-a1aHiG44HTgajODXsMKuLfY\" style=\"width: 200px;\">"
      ],
      "text/plain": [
       "<IPython.core.display.HTML object>"
      ]
     },
     "metadata": {},
     "output_type": "display_data"
    },
    {
     "name": "stdout",
     "output_type": "stream",
     "text": [
      "0.686556149157\n"
     ]
    },
    {
     "data": {
      "text/html": [
       "<img src=\"https://encrypted-tbn0.gstatic.com/images?q=tbn:ANd9GcRLDtP2tk1wfuZzbUgYl18FGl4nMCGLKNOGR56pdDgoRnfCi6lJtg\" style=\"width: 200px;\">"
      ],
      "text/plain": [
       "<IPython.core.display.HTML object>"
      ]
     },
     "metadata": {},
     "output_type": "display_data"
    },
    {
     "name": "stdout",
     "output_type": "stream",
     "text": [
      "0.688506273288\n"
     ]
    },
    {
     "data": {
      "text/html": [
       "<img src=\"https://encrypted-tbn0.gstatic.com/images?q=tbn:ANd9GcToveH18G8JgyHpoOu1yQ3YxvUkzESUShiPwxywkmVjcxkOH-eWnQ\" style=\"width: 200px;\">"
      ],
      "text/plain": [
       "<IPython.core.display.HTML object>"
      ]
     },
     "metadata": {},
     "output_type": "display_data"
    },
    {
     "name": "stdout",
     "output_type": "stream",
     "text": [
      "0.688799783223\n"
     ]
    },
    {
     "data": {
      "text/html": [
       "<img src=\"https://encrypted-tbn0.gstatic.com/images?q=tbn:ANd9GcTzEnKfy1BOOXqSYLU3cZzmslc6ya58J8-tfPTsn2vNk2-ePIdx\" style=\"width: 200px;\">"
      ],
      "text/plain": [
       "<IPython.core.display.HTML object>"
      ]
     },
     "metadata": {},
     "output_type": "display_data"
    },
    {
     "name": "stdout",
     "output_type": "stream",
     "text": [
      "0.689417875957\n"
     ]
    },
    {
     "data": {
      "text/html": [
       "<img src=\"https://encrypted-tbn0.gstatic.com/images?q=tbn:ANd9GcSmT4oTlx6OLr9WVToAzogimCsgGG-wFQ35iLhL9j-C6DtzLG2RGQ\" style=\"width: 200px;\">"
      ],
      "text/plain": [
       "<IPython.core.display.HTML object>"
      ]
     },
     "metadata": {},
     "output_type": "display_data"
    },
    {
     "name": "stdout",
     "output_type": "stream",
     "text": [
      "0.689473451192\n"
     ]
    },
    {
     "data": {
      "text/html": [
       "<img src=\"https://encrypted-tbn0.gstatic.com/images?q=tbn:ANd9GcT0gbLnrkqguRVZOSNtUk76LTHmP02Jk1xgF0iSr-zixyXckIiR\" style=\"width: 200px;\">"
      ],
      "text/plain": [
       "<IPython.core.display.HTML object>"
      ]
     },
     "metadata": {},
     "output_type": "display_data"
    },
    {
     "name": "stdout",
     "output_type": "stream",
     "text": [
      "0.689506340612\n"
     ]
    },
    {
     "data": {
      "text/html": [
       "<img src=\"https://encrypted-tbn0.gstatic.com/images?q=tbn:ANd9GcTQIrZPrZVFz9SSGp2amJas8_d8uccRAGNmX_Ieoe2yqYnpPRbK\" style=\"width: 200px;\">"
      ],
      "text/plain": [
       "<IPython.core.display.HTML object>"
      ]
     },
     "metadata": {},
     "output_type": "display_data"
    },
    {
     "name": "stdout",
     "output_type": "stream",
     "text": [
      "0.689507783559\n"
     ]
    }
   ],
   "source": [
    "for img, sigma in R1[:10]:\n",
    "    try:\n",
    "        view(img)\n",
    "        print sigma\n",
    "    except ValueError:\n",
    "        pass"
   ]
  },
  {
   "cell_type": "markdown",
   "metadata": {},
   "source": [
    "### Vector space with weight"
   ]
  },
  {
   "cell_type": "code",
   "execution_count": 14,
   "metadata": {},
   "outputs": [],
   "source": [
    "q2 = I.query_vector(query, use_tfidf=True)\n",
    "R2 = I.vector_search(q2, dis.cosine, use_tfidf=True)"
   ]
  },
  {
   "cell_type": "code",
   "execution_count": 15,
   "metadata": {},
   "outputs": [
    {
     "data": {
      "text/html": [
       "<img src=\"https://encrypted-tbn0.gstatic.com/images?q=tbn:ANd9GcQULXi-NrFj2AloYpbnjdEpGuooZltO9jemBW7e-XoFuU3mQVf1\" style=\"width: 200px;\">"
      ],
      "text/plain": [
       "<IPython.core.display.HTML object>"
      ]
     },
     "metadata": {},
     "output_type": "display_data"
    },
    {
     "name": "stdout",
     "output_type": "stream",
     "text": [
      "0.698062113409\n"
     ]
    },
    {
     "data": {
      "text/html": [
       "<img src=\"https://encrypted-tbn0.gstatic.com/images?q=tbn:ANd9GcTQm7kKZMpS5GaM4RU9PNmq14JTYEXxiIjESPfSMr44gickDijs\" style=\"width: 200px;\">"
      ],
      "text/plain": [
       "<IPython.core.display.HTML object>"
      ]
     },
     "metadata": {},
     "output_type": "display_data"
    },
    {
     "name": "stdout",
     "output_type": "stream",
     "text": [
      "0.713645385837\n"
     ]
    },
    {
     "data": {
      "text/html": [
       "<img src=\"https://encrypted-tbn0.gstatic.com/images?q=tbn:ANd9GcRLDtP2tk1wfuZzbUgYl18FGl4nMCGLKNOGR56pdDgoRnfCi6lJtg\" style=\"width: 200px;\">"
      ],
      "text/plain": [
       "<IPython.core.display.HTML object>"
      ]
     },
     "metadata": {},
     "output_type": "display_data"
    },
    {
     "name": "stdout",
     "output_type": "stream",
     "text": [
      "0.719927462429\n"
     ]
    },
    {
     "data": {
      "text/html": [
       "<img src=\"https://encrypted-tbn0.gstatic.com/images?q=tbn:ANd9GcToveH18G8JgyHpoOu1yQ3YxvUkzESUShiPwxywkmVjcxkOH-eWnQ\" style=\"width: 200px;\">"
      ],
      "text/plain": [
       "<IPython.core.display.HTML object>"
      ]
     },
     "metadata": {},
     "output_type": "display_data"
    },
    {
     "name": "stdout",
     "output_type": "stream",
     "text": [
      "0.725668135247\n"
     ]
    },
    {
     "data": {
      "text/html": [
       "<img src=\"https://encrypted-tbn0.gstatic.com/images?q=tbn:ANd9GcQ3P1-dNtH-g5w14w6uGQfUl5LeDpAbqCJSeDQdtUZxK-WxbEAf\" style=\"width: 200px;\">"
      ],
      "text/plain": [
       "<IPython.core.display.HTML object>"
      ]
     },
     "metadata": {},
     "output_type": "display_data"
    },
    {
     "name": "stdout",
     "output_type": "stream",
     "text": [
      "0.727889598852\n"
     ]
    },
    {
     "data": {
      "text/html": [
       "<img src=\"https://encrypted-tbn0.gstatic.com/images?q=tbn:ANd9GcTKFgrW8aZ3md3s8nA5HafmRtv2hoExzBxWW1a_cxDlOIbcpVtJ\" style=\"width: 200px;\">"
      ],
      "text/plain": [
       "<IPython.core.display.HTML object>"
      ]
     },
     "metadata": {},
     "output_type": "display_data"
    },
    {
     "name": "stdout",
     "output_type": "stream",
     "text": [
      "0.728078740887\n"
     ]
    },
    {
     "data": {
      "text/html": [
       "<img src=\"https://encrypted-tbn0.gstatic.com/images?q=tbn:ANd9GcS7hXLu283SAm0a2tGN_9nL6Ztg_WrQdRUgEWTpjJk1PtKT_3Bu4Q\" style=\"width: 200px;\">"
      ],
      "text/plain": [
       "<IPython.core.display.HTML object>"
      ]
     },
     "metadata": {},
     "output_type": "display_data"
    },
    {
     "name": "stdout",
     "output_type": "stream",
     "text": [
      "0.737551382041\n"
     ]
    },
    {
     "data": {
      "text/html": [
       "<img src=\"https://encrypted-tbn0.gstatic.com/images?q=tbn:ANd9GcTzEnKfy1BOOXqSYLU3cZzmslc6ya58J8-tfPTsn2vNk2-ePIdx\" style=\"width: 200px;\">"
      ],
      "text/plain": [
       "<IPython.core.display.HTML object>"
      ]
     },
     "metadata": {},
     "output_type": "display_data"
    },
    {
     "name": "stdout",
     "output_type": "stream",
     "text": [
      "0.738394016944\n"
     ]
    },
    {
     "data": {
      "text/html": [
       "<img src=\"https://encrypted-tbn0.gstatic.com/images?q=tbn:ANd9GcQumEUOPKcTKcQUjaj8B5Vl9n58x8whDrFZqLdPLGWWxn4yY7zsjg\" style=\"width: 200px;\">"
      ],
      "text/plain": [
       "<IPython.core.display.HTML object>"
      ]
     },
     "metadata": {},
     "output_type": "display_data"
    },
    {
     "name": "stdout",
     "output_type": "stream",
     "text": [
      "0.745794896254\n"
     ]
    },
    {
     "data": {
      "text/html": [
       "<img src=\"https://encrypted-tbn0.gstatic.com/images?q=tbn:ANd9GcTQIrZPrZVFz9SSGp2amJas8_d8uccRAGNmX_Ieoe2yqYnpPRbK\" style=\"width: 200px;\">"
      ],
      "text/plain": [
       "<IPython.core.display.HTML object>"
      ]
     },
     "metadata": {},
     "output_type": "display_data"
    },
    {
     "name": "stdout",
     "output_type": "stream",
     "text": [
      "0.750239165485\n"
     ]
    }
   ],
   "source": [
    "for img, sigma in R2[:10]:\n",
    "    try:\n",
    "        view(img)\n",
    "        print sigma\n",
    "    except ValueError:\n",
    "        pass"
   ]
  },
  {
   "cell_type": "markdown",
   "metadata": {},
   "source": [
    "### Multinomial search"
   ]
  },
  {
   "cell_type": "code",
   "execution_count": 16,
   "metadata": {},
   "outputs": [],
   "source": [
    "q3 = I.query_vector(query, use_tfidf=False)\n",
    "R3 = I.multinomial_search(q3)"
   ]
  },
  {
   "cell_type": "code",
   "execution_count": 17,
   "metadata": {},
   "outputs": [
    {
     "data": {
      "text/html": [
       "<img src=\"https://encrypted-tbn0.gstatic.com/images?q=tbn:ANd9GcQumEUOPKcTKcQUjaj8B5Vl9n58x8whDrFZqLdPLGWWxn4yY7zsjg\" style=\"width: 200px;\">"
      ],
      "text/plain": [
       "<IPython.core.display.HTML object>"
      ]
     },
     "metadata": {},
     "output_type": "display_data"
    },
    {
     "name": "stdout",
     "output_type": "stream",
     "text": [
      "0.055188050484\n"
     ]
    },
    {
     "data": {
      "text/html": [
       "<img src=\"https://encrypted-tbn0.gstatic.com/images?q=tbn:ANd9GcSVsR1Y8U0X8Xeej-Fxze3IsVsu-a1aHiG44HTgajODXsMKuLfY\" style=\"width: 200px;\">"
      ],
      "text/plain": [
       "<IPython.core.display.HTML object>"
      ]
     },
     "metadata": {},
     "output_type": "display_data"
    },
    {
     "name": "stdout",
     "output_type": "stream",
     "text": [
      "0.0536919839421\n"
     ]
    },
    {
     "data": {
      "text/html": [
       "<img src=\"https://encrypted-tbn0.gstatic.com/images?q=tbn:ANd9GcSbnYB4LTylxb12A-W4ybYm39VqdGg67KouTrsT03UsmVbKhnFL\" style=\"width: 200px;\">"
      ],
      "text/plain": [
       "<IPython.core.display.HTML object>"
      ]
     },
     "metadata": {},
     "output_type": "display_data"
    },
    {
     "name": "stdout",
     "output_type": "stream",
     "text": [
      "0.0534468252342\n"
     ]
    },
    {
     "data": {
      "text/html": [
       "<img src=\"https://encrypted-tbn0.gstatic.com/images?q=tbn:ANd9GcToveH18G8JgyHpoOu1yQ3YxvUkzESUShiPwxywkmVjcxkOH-eWnQ\" style=\"width: 200px;\">"
      ],
      "text/plain": [
       "<IPython.core.display.HTML object>"
      ]
     },
     "metadata": {},
     "output_type": "display_data"
    },
    {
     "name": "stdout",
     "output_type": "stream",
     "text": [
      "0.0531718736891\n"
     ]
    },
    {
     "data": {
      "text/html": [
       "<img src=\"https://encrypted-tbn0.gstatic.com/images?q=tbn:ANd9GcQULXi-NrFj2AloYpbnjdEpGuooZltO9jemBW7e-XoFuU3mQVf1\" style=\"width: 200px;\">"
      ],
      "text/plain": [
       "<IPython.core.display.HTML object>"
      ]
     },
     "metadata": {},
     "output_type": "display_data"
    },
    {
     "name": "stdout",
     "output_type": "stream",
     "text": [
      "0.0531682032471\n"
     ]
    },
    {
     "data": {
      "text/html": [
       "<img src=\"https://encrypted-tbn0.gstatic.com/images?q=tbn:ANd9GcRLDtP2tk1wfuZzbUgYl18FGl4nMCGLKNOGR56pdDgoRnfCi6lJtg\" style=\"width: 200px;\">"
      ],
      "text/plain": [
       "<IPython.core.display.HTML object>"
      ]
     },
     "metadata": {},
     "output_type": "display_data"
    },
    {
     "name": "stdout",
     "output_type": "stream",
     "text": [
      "0.053116261619\n"
     ]
    },
    {
     "data": {
      "text/html": [
       "<img src=\"https://encrypted-tbn0.gstatic.com/images?q=tbn:ANd9GcTAYFULZvOjFs27w25-BSWx-PgVaLz3pnGGsjMvzAhrEGX4AdDx6w\" style=\"width: 200px;\">"
      ],
      "text/plain": [
       "<IPython.core.display.HTML object>"
      ]
     },
     "metadata": {},
     "output_type": "display_data"
    },
    {
     "name": "stdout",
     "output_type": "stream",
     "text": [
      "0.0530283967752\n"
     ]
    },
    {
     "data": {
      "text/html": [
       "<img src=\"https://encrypted-tbn0.gstatic.com/images?q=tbn:ANd9GcQZMWX5GroRfae073dxNvGbmv9PVNBK6jf63vQhf3gePK_Ak0Jl\" style=\"width: 200px;\">"
      ],
      "text/plain": [
       "<IPython.core.display.HTML object>"
      ]
     },
     "metadata": {},
     "output_type": "display_data"
    },
    {
     "name": "stdout",
     "output_type": "stream",
     "text": [
      "0.0529708957251\n"
     ]
    },
    {
     "data": {
      "text/html": [
       "<img src=\"https://encrypted-tbn0.gstatic.com/images?q=tbn:ANd9GcTQIrZPrZVFz9SSGp2amJas8_d8uccRAGNmX_Ieoe2yqYnpPRbK\" style=\"width: 200px;\">"
      ],
      "text/plain": [
       "<IPython.core.display.HTML object>"
      ]
     },
     "metadata": {},
     "output_type": "display_data"
    },
    {
     "name": "stdout",
     "output_type": "stream",
     "text": [
      "0.0526381081708\n"
     ]
    },
    {
     "data": {
      "text/html": [
       "<img src=\"https://encrypted-tbn0.gstatic.com/images?q=tbn:ANd9GcSmT4oTlx6OLr9WVToAzogimCsgGG-wFQ35iLhL9j-C6DtzLG2RGQ\" style=\"width: 200px;\">"
      ],
      "text/plain": [
       "<IPython.core.display.HTML object>"
      ]
     },
     "metadata": {},
     "output_type": "display_data"
    },
    {
     "name": "stdout",
     "output_type": "stream",
     "text": [
      "0.0525516631102\n"
     ]
    }
   ],
   "source": [
    "for img, sigma in R3[:10]:\n",
    "    try:\n",
    "        view(img)\n",
    "        print sigma\n",
    "    except ValueError:\n",
    "        pass"
   ]
  },
  {
   "cell_type": "markdown",
   "metadata": {},
   "source": [
    "### Okapi BM25"
   ]
  },
  {
   "cell_type": "code",
   "execution_count": 18,
   "metadata": {},
   "outputs": [],
   "source": [
    "q4 = I.query_vector(query, use_tfidf=False)\n",
    "R4 = I.bm25(q4)"
   ]
  },
  {
   "cell_type": "code",
   "execution_count": 19,
   "metadata": {},
   "outputs": [
    {
     "data": {
      "text/html": [
       "<img src=\"https://encrypted-tbn0.gstatic.com/images?q=tbn:ANd9GcRZeb8eCyqawJQSyfEf4kT7F-DrSYVebILc8f9gaM5hvak42XKpBA\" style=\"width: 200px;\">"
      ],
      "text/plain": [
       "<IPython.core.display.HTML object>"
      ]
     },
     "metadata": {},
     "output_type": "display_data"
    },
    {
     "name": "stdout",
     "output_type": "stream",
     "text": [
      "4.22517796634\n"
     ]
    },
    {
     "data": {
      "text/html": [
       "<img src=\"https://encrypted-tbn0.gstatic.com/images?q=tbn:ANd9GcQHfo7Q9_O1yIcZMrNknhuE4kKD9MqCEc8LX2aw_tgf6DjistN5MA\" style=\"width: 200px;\">"
      ],
      "text/plain": [
       "<IPython.core.display.HTML object>"
      ]
     },
     "metadata": {},
     "output_type": "display_data"
    },
    {
     "name": "stdout",
     "output_type": "stream",
     "text": [
      "4.22476607411\n"
     ]
    },
    {
     "data": {
      "text/html": [
       "<img src=\"https://encrypted-tbn0.gstatic.com/images?q=tbn:ANd9GcToveH18G8JgyHpoOu1yQ3YxvUkzESUShiPwxywkmVjcxkOH-eWnQ\" style=\"width: 200px;\">"
      ],
      "text/plain": [
       "<IPython.core.display.HTML object>"
      ]
     },
     "metadata": {},
     "output_type": "display_data"
    },
    {
     "name": "stdout",
     "output_type": "stream",
     "text": [
      "4.22331453267\n"
     ]
    },
    {
     "data": {
      "text/html": [
       "<img src=\"https://encrypted-tbn0.gstatic.com/images?q=tbn:ANd9GcQEb0tGXPsyXPijYng-noplwKhK4UAyu3KTsAfW0nn4AT8x9jqZGQ\" style=\"width: 200px;\">"
      ],
      "text/plain": [
       "<IPython.core.display.HTML object>"
      ]
     },
     "metadata": {},
     "output_type": "display_data"
    },
    {
     "name": "stdout",
     "output_type": "stream",
     "text": [
      "4.22324766436\n"
     ]
    },
    {
     "data": {
      "text/html": [
       "<img src=\"https://encrypted-tbn0.gstatic.com/images?q=tbn:ANd9GcSKFzFr9EbGA7KqTOdDhfSL6la44mv0MSjG49KWJKSTISRxbtne\" style=\"width: 200px;\">"
      ],
      "text/plain": [
       "<IPython.core.display.HTML object>"
      ]
     },
     "metadata": {},
     "output_type": "display_data"
    },
    {
     "name": "stdout",
     "output_type": "stream",
     "text": [
      "4.22322159191\n"
     ]
    },
    {
     "data": {
      "text/html": [
       "<img src=\"https://encrypted-tbn0.gstatic.com/images?q=tbn:ANd9GcR-At5YSZtgWDduHUUl8KoCW1dVJ-gh-FpRF5Vxf4OSyk_xRCguIA\" style=\"width: 200px;\">"
      ],
      "text/plain": [
       "<IPython.core.display.HTML object>"
      ]
     },
     "metadata": {},
     "output_type": "display_data"
    },
    {
     "name": "stdout",
     "output_type": "stream",
     "text": [
      "4.22042805016\n"
     ]
    },
    {
     "data": {
      "text/html": [
       "<img src=\"https://encrypted-tbn0.gstatic.com/images?q=tbn:ANd9GcRLDtP2tk1wfuZzbUgYl18FGl4nMCGLKNOGR56pdDgoRnfCi6lJtg\" style=\"width: 200px;\">"
      ],
      "text/plain": [
       "<IPython.core.display.HTML object>"
      ]
     },
     "metadata": {},
     "output_type": "display_data"
    },
    {
     "name": "stdout",
     "output_type": "stream",
     "text": [
      "4.21899106633\n"
     ]
    },
    {
     "data": {
      "text/html": [
       "<img src=\"https://encrypted-tbn0.gstatic.com/images?q=tbn:ANd9GcTvjxXbn_VjagpCS7aUwcSBLZAuB7jN5pfKRhR3VtCu5xIaLXBC\" style=\"width: 200px;\">"
      ],
      "text/plain": [
       "<IPython.core.display.HTML object>"
      ]
     },
     "metadata": {},
     "output_type": "display_data"
    },
    {
     "name": "stdout",
     "output_type": "stream",
     "text": [
      "4.21825114131\n"
     ]
    },
    {
     "data": {
      "text/html": [
       "<img src=\"https://encrypted-tbn0.gstatic.com/images?q=tbn:ANd9GcSXbMeWfr2YzW0bo3rg4xsMWdXsi3e9thcCncDSkkPMitn31E4R\" style=\"width: 200px;\">"
      ],
      "text/plain": [
       "<IPython.core.display.HTML object>"
      ]
     },
     "metadata": {},
     "output_type": "display_data"
    },
    {
     "name": "stdout",
     "output_type": "stream",
     "text": [
      "4.21736520105\n"
     ]
    },
    {
     "data": {
      "text/html": [
       "<img src=\"https://encrypted-tbn0.gstatic.com/images?q=tbn:ANd9GcSVsR1Y8U0X8Xeej-Fxze3IsVsu-a1aHiG44HTgajODXsMKuLfY\" style=\"width: 200px;\">"
      ],
      "text/plain": [
       "<IPython.core.display.HTML object>"
      ]
     },
     "metadata": {},
     "output_type": "display_data"
    },
    {
     "name": "stdout",
     "output_type": "stream",
     "text": [
      "4.21710739109\n"
     ]
    }
   ],
   "source": [
    "for img, sigma in R4[:10]:\n",
    "    try:\n",
    "        view(img)\n",
    "        print sigma\n",
    "    except ValueError:\n",
    "        pass"
   ]
  },
  {
   "cell_type": "markdown",
   "metadata": {},
   "source": [
    "## Generate queries for testing"
   ]
  },
  {
   "cell_type": "code",
   "execution_count": null,
   "metadata": {},
   "outputs": [],
   "source": [
    "Q, D, T = I.generate_queries(n_queries=20, threshold=(5,0.85))"
   ]
  },
  {
   "cell_type": "code",
   "execution_count": null,
   "metadata": {},
   "outputs": [],
   "source": [
    "for i, qdata in enumerate(Q):\n",
    "    print 'topic', i\n",
    "    print [x[0] for x in qdata[0]]\n",
    "    for y in qdata[1]:\n",
    "        try:\n",
    "            view(I.docs.index(y[0]))\n",
    "            print y[1]\n",
    "        except ValueError:\n",
    "            pass\n",
    "    print \"\"\n",
    "    break"
   ]
  },
  {
   "cell_type": "markdown",
   "metadata": {},
   "source": [
    "# System evaluation"
   ]
  },
  {
   "cell_type": "code",
   "execution_count": 28,
   "metadata": {},
   "outputs": [],
   "source": [
    "from sklearn import metrics"
   ]
  },
  {
   "cell_type": "code",
   "execution_count": 27,
   "metadata": {},
   "outputs": [],
   "source": [
    "def norm(results, reverse=False):\n",
    "    mn = min([x[1] for x in results])\n",
    "    r_docs, r_weights = [], []\n",
    "    for doc, rank in results:\n",
    "        if mn < 0:\n",
    "            rank += np.abs(mn)\n",
    "        r_docs.append(doc)\n",
    "        if reverse:\n",
    "            r_weights.append(1-rank)\n",
    "        else:\n",
    "            r_weights.append(rank)\n",
    "    r_weights = np.array(r_weights) / max(r_weights)\n",
    "    return zip(r_docs, r_weights)\n",
    "\n",
    "def prediction(results, threshold=0):\n",
    "    r = norm(results)\n",
    "    y_pred = np.zeros(len(I.docs))\n",
    "    for doc, w in r:\n",
    "        if w >= threshold:\n",
    "            y_pred[doc] = 1\n",
    "    return y_pred"
   ]
  },
  {
   "cell_type": "code",
   "execution_count": null,
   "metadata": {},
   "outputs": [],
   "source": [
    "Q, D, T = I.generate_queries(n_queries=20, threshold=(5,0.85))"
   ]
  },
  {
   "cell_type": "code",
   "execution_count": 31,
   "metadata": {},
   "outputs": [],
   "source": [
    "query, thr = 12, 0.8"
   ]
  },
  {
   "cell_type": "code",
   "execution_count": null,
   "metadata": {},
   "outputs": [],
   "source": [
    "query_tags = [x[0] for x in Q[query][0]]\n",
    "query_docs = [(I.docs.index(x), y) for x, y in Q[query][1]]"
   ]
  },
  {
   "cell_type": "code",
   "execution_count": null,
   "metadata": {},
   "outputs": [],
   "source": [
    "E = prediction(query_docs)"
   ]
  },
  {
   "cell_type": "code",
   "execution_count": null,
   "metadata": {},
   "outputs": [],
   "source": [
    "q1 = I.query_vector(query_tags)\n",
    "R1 = norm(I.vector_search(q1, dis.cosine, use_tfidf=False), reverse=True)\n",
    "q2 = I.query_vector(query_tags, use_tfidf=True)\n",
    "R2 = norm(I.vector_search(q2, dis.cosine, use_tfidf=True), reverse=True)\n",
    "q3 = I.query_vector(query_tags, use_tfidf=False)\n",
    "R3 = norm(I.multinomial_search(q3))\n",
    "q4 = I.query_vector(query_tags, use_tfidf=False)\n",
    "R4 = norm(I.bm25(q4))"
   ]
  },
  {
   "cell_type": "code",
   "execution_count": null,
   "metadata": {},
   "outputs": [],
   "source": [
    "R1p = prediction(R1, threshold=thr)\n",
    "R2p = prediction(R2, threshold=thr)\n",
    "R3p = prediction(R3, threshold=thr)\n",
    "R4p = prediction(R4, threshold=thr)"
   ]
  },
  {
   "cell_type": "code",
   "execution_count": null,
   "metadata": {},
   "outputs": [],
   "source": [
    "systems = [('Cosine', R1p), ('Cosine Weights', R2p), ('Multinomial', R3p), \n",
    "           ('BM25', R4p)]"
   ]
  },
  {
   "cell_type": "code",
   "execution_count": null,
   "metadata": {},
   "outputs": [],
   "source": [
    "rows = []\n",
    "for s_name, r_res in systems:\n",
    "    precision = metrics.precision_score(E, r_res)\n",
    "    recall = metrics.recall_score(E, r_res)\n",
    "    f1 = metrics.f1_score(E, r_res)\n",
    "    rows.append(\"<tr><td>{}</td><td>{}</td><td>{}</td><td>{}</td></tr>\".format(s_name,\n",
    "                                                                              round(precision, 2),\n",
    "                                                                              round(recall, 2),\n",
    "                                                                              round(f1, 2)))\n",
    "table = \"<table><tr><th>System</th><th>Precision</th><th>Recall</th><th>F1</th></tr>\"\n",
    "table += \"{}</table>\".format(\"\\n\".join(rows))\n",
    "display(HTML(table))"
   ]
  },
  {
   "cell_type": "markdown",
   "metadata": {},
   "source": [
    "## Precision-recall curve"
   ]
  },
  {
   "cell_type": "code",
   "execution_count": 47,
   "metadata": {},
   "outputs": [],
   "source": [
    "import matplotlib.pyplot as plt\n",
    "from mpl_toolkits.axes_grid1 import make_axes_locatable\n",
    "import itertools"
   ]
  },
  {
   "cell_type": "code",
   "execution_count": 44,
   "metadata": {},
   "outputs": [],
   "source": [
    "def score(results):\n",
    "    scr = np.zeros(len(I.docs))\n",
    "    for d, s in results:\n",
    "        scr[d] = s\n",
    "    return scr"
   ]
  },
  {
   "cell_type": "code",
   "execution_count": null,
   "metadata": {},
   "outputs": [],
   "source": [
    "scores = [('Cosine', score(R1)), ('Cosine Weights', score(R2)), \n",
    "          ('Multinomial', score(R3)), ('BM25', score(R4))]"
   ]
  },
  {
   "cell_type": "code",
   "execution_count": null,
   "metadata": {},
   "outputs": [],
   "source": [
    "fig, axes = plt.subplots(nrows=1, ncols=1, figsize=(10, 6))\n",
    "for sy, sc in scores:\n",
    "    prec, rec, _ = metrics.precision_recall_curve(E, sc)\n",
    "    i_prec = []\n",
    "    for i, w in enumerate(prec):\n",
    "        i_prec.append(max(prec[:i+1]))\n",
    "    axes.plot(rec, i_prec, label=sy)\n",
    "axes.set_xlabel('Recall')\n",
    "axes.set_ylabel('Precision')\n",
    "plt.legend()\n",
    "plt.tight_layout()\n",
    "plt.show()"
   ]
  },
  {
   "cell_type": "markdown",
   "metadata": {},
   "source": [
    "## ROC curve"
   ]
  },
  {
   "cell_type": "code",
   "execution_count": null,
   "metadata": {},
   "outputs": [],
   "source": [
    "fig, axes = plt.subplots(nrows=1, ncols=1, figsize=(10, 6))\n",
    "for sy, sc in scores:\n",
    "    fpr, tpr, _ = metrics.roc_curve(E, sc)\n",
    "    axes.plot(fpr, tpr, label=sy)\n",
    "axes.set_xlabel('False positive rate')\n",
    "axes.set_ylabel('True positive rate')\n",
    "plt.legend()\n",
    "plt.tight_layout()\n",
    "plt.show()"
   ]
  },
  {
   "cell_type": "markdown",
   "metadata": {},
   "source": [
    "## Confusion matrix"
   ]
  },
  {
   "cell_type": "code",
   "execution_count": 51,
   "metadata": {},
   "outputs": [],
   "source": [
    "def cm_plot(ax, classes, CM, title, figure):\n",
    "    im = ax.imshow(CM, interpolation='nearest', cmap=plt.cm.Blues)\n",
    "    divider = make_axes_locatable(ax)\n",
    "    cax = divider.append_axes('right', size='5%', pad=0.05)\n",
    "    figure.colorbar(im, cax=cax, orientation='vertical')\n",
    "    tick_marks = np.arange(len(classes))\n",
    "    ax.set_xticks(tick_marks)\n",
    "    ax.set_xticklabels(classes, rotation=90, fontsize=16)\n",
    "    ax.set_yticks(tick_marks)\n",
    "    ax.set_yticklabels(classes, rotation=0, fontsize=16)\n",
    "    ax.set_title(title, fontsize=16)\n",
    "    thresh = CM.max() / 2.\n",
    "    for i, j in itertools.product(range(CM.shape[0]), range(CM.shape[1])):\n",
    "        ax.text(j, i, CM[i, j], horizontalalignment=\"center\",\n",
    "                 color=\"white\" if CM[i, j] > thresh else \"black\", fontsize=16)\n",
    "    ax.set_ylabel('True label', fontsize=16)\n",
    "    ax.set_xlabel('Predicted label', fontsize=16)"
   ]
  },
  {
   "cell_type": "code",
   "execution_count": null,
   "metadata": {},
   "outputs": [],
   "source": [
    "R1p = prediction(R1, threshold=thr)\n",
    "R2p = prediction(R2, threshold=thr)\n",
    "R3p = prediction(R3, threshold=thr)\n",
    "R4p = prediction(R4, threshold=thr)\n",
    "cm1 = metrics.confusion_matrix(E, R1p, labels=[1,0])\n",
    "cm2 = metrics.confusion_matrix(E, R2p, labels=[1,0])\n",
    "cm3 = metrics.confusion_matrix(E, R3p, labels=[1,0])\n",
    "cm4 = metrics.confusion_matrix(E, R4p, labels=[1,0])"
   ]
  },
  {
   "cell_type": "code",
   "execution_count": null,
   "metadata": {},
   "outputs": [],
   "source": [
    "fig, axes = plt.subplots(nrows=2, ncols=2, figsize=(14, 14))\n",
    "cm_plot(axes[0,0], [1,0], cm1, 'Cosine', fig)\n",
    "cm_plot(axes[0,1], [1,0], cm2, 'Cosine Weights', fig)\n",
    "cm_plot(axes[1,0], [1,0], cm3, 'Multinomial', fig)\n",
    "cm_plot(axes[1,1], [1,0], cm4, 'BM25', fig)\n",
    "plt.tight_layout()\n",
    "plt.show()"
   ]
  },
  {
   "cell_type": "markdown",
   "metadata": {},
   "source": [
    "# Queries by category\n",
    "Use the spec function to build queries"
   ]
  },
  {
   "cell_type": "code",
   "execution_count": 20,
   "metadata": {},
   "outputs": [],
   "source": [
    "C = ImageTags('inforet', 'googleimages', url='image_thumbnail_url', \n",
    "              selection={'category': 'sports'})\n",
    "G = ImageTags('inforet', 'googleimages', url='image_thumbnail_url', \n",
    "              selection=None)"
   ]
  },
  {
   "cell_type": "code",
   "execution_count": 21,
   "metadata": {},
   "outputs": [],
   "source": [
    "specs, sC, sG = {}, C.M.sum(), G.M.sum()"
   ]
  },
  {
   "cell_type": "code",
   "execution_count": 22,
   "metadata": {},
   "outputs": [],
   "source": [
    "for i, tag in enumerate(C.tags):\n",
    "    f, f_star = C.M[:,i].sum() / sC, G.M[:,G.tags.index(tag)].sum() / sG\n",
    "    spec = (f - f_star)\n",
    "    specs[tag] = spec"
   ]
  },
  {
   "cell_type": "code",
   "execution_count": 23,
   "metadata": {},
   "outputs": [
    {
     "name": "stdout",
     "output_type": "stream",
     "text": [
      "SPECIFIC\n",
      "competition 0.0285651343351\n",
      "ball 0.0269845210914\n",
      "game 0.0222166164861\n",
      "athlete 0.0207220971388\n",
      "stadium 0.0178258435931\n",
      "sports equipment 0.0168413384148\n",
      "soccer 0.0162963422466\n",
      "football 0.016180350578\n",
      "match 0.0154736608168\n",
      "sport 0.0129815451864\n",
      "UNSPECIFIC\n",
      "portrait -0.00501754190311\n",
      "water -0.00606383343655\n",
      "tourism -0.00619016585099\n",
      "business -0.00636052264439\n",
      "sky -0.00695911536952\n",
      "architecture -0.00861002297178\n",
      "city -0.00861940841145\n",
      "fashion -0.00971505369582\n",
      "woman -0.00974880471379\n",
      "travel -0.0104346378581\n"
     ]
    }
   ],
   "source": [
    "S = sorted(specs.items(), key=lambda x: -x[1])\n",
    "print 'SPECIFIC'\n",
    "for tag, tag_spec in S[:10]:\n",
    "    print tag, tag_spec\n",
    "print 'UNSPECIFIC'\n",
    "for tag, tag_spec in S[-10:]:\n",
    "    print tag, tag_spec"
   ]
  },
  {
   "cell_type": "code",
   "execution_count": 24,
   "metadata": {},
   "outputs": [],
   "source": [
    "query_tags = [x[0] for x in S if x[1] > 0.005]"
   ]
  },
  {
   "cell_type": "code",
   "execution_count": 25,
   "metadata": {},
   "outputs": [
    {
     "name": "stdout",
     "output_type": "stream",
     "text": [
      "[u'competition', u'ball', u'game', u'athlete', u'stadium', u'sports equipment', u'soccer', u'football', u'match', u'sport', u'web', u'championship', u'tournament', u'action', u'tennis', u'racket', u'tennis ball', u'goal', u'tennis match', u'tennis player', u'recreation', u'court', u'basketball', u'tennis racket', u'gameplan (sports)', u'field', u'basket', u'soccer ball', u'squad', u'leisure']\n"
     ]
    }
   ],
   "source": [
    "print query_tags"
   ]
  },
  {
   "cell_type": "code",
   "execution_count": 29,
   "metadata": {},
   "outputs": [],
   "source": [
    "E = prediction([(G.docs.index(x), 1.0) for x in C.docs])"
   ]
  },
  {
   "cell_type": "code",
   "execution_count": 30,
   "metadata": {},
   "outputs": [],
   "source": [
    "q1 = G.query_vector(query_tags)\n",
    "R1 = norm(G.vector_search(q1, dis.cosine, use_tfidf=False), reverse=True)\n",
    "q2 = G.query_vector(query_tags, use_tfidf=True)\n",
    "R2 = norm(G.vector_search(q2, dis.cosine, use_tfidf=True), reverse=True)\n",
    "q3 = G.query_vector(query_tags, use_tfidf=False)\n",
    "R3 = norm(G.multinomial_search(q3))\n",
    "q4 = G.query_vector(query_tags, use_tfidf=False)\n",
    "R4 = norm(I.bm25(q4))"
   ]
  },
  {
   "cell_type": "code",
   "execution_count": 39,
   "metadata": {},
   "outputs": [],
   "source": [
    "thr = 0.2"
   ]
  },
  {
   "cell_type": "code",
   "execution_count": 40,
   "metadata": {},
   "outputs": [],
   "source": [
    "R1p = prediction(R1, threshold=thr)\n",
    "R2p = prediction(R2, threshold=thr)\n",
    "R3p = prediction(R3, threshold=thr)\n",
    "R4p = prediction(R4, threshold=thr)"
   ]
  },
  {
   "cell_type": "code",
   "execution_count": 41,
   "metadata": {},
   "outputs": [],
   "source": [
    "systems = [('Cosine', R1p), ('Cosine Weights', R2p), ('Multinomial', R3p), \n",
    "           ('BM25', R4p)]"
   ]
  },
  {
   "cell_type": "code",
   "execution_count": 42,
   "metadata": {},
   "outputs": [
    {
     "data": {
      "text/html": [
       "<table><tr><th>System</th><th>Precision</th><th>Recall</th><th>F1</th></tr><tr><td>Cosine</td><td>0.92</td><td>0.69</td><td>0.79</td></tr>\n",
       "<tr><td>Cosine Weights</td><td>0.98</td><td>0.6</td><td>0.74</td></tr>\n",
       "<tr><td>Multinomial</td><td>0.92</td><td>0.69</td><td>0.79</td></tr>\n",
       "<tr><td>BM25</td><td>0.87</td><td>0.69</td><td>0.77</td></tr></table>"
      ],
      "text/plain": [
       "<IPython.core.display.HTML object>"
      ]
     },
     "metadata": {},
     "output_type": "display_data"
    }
   ],
   "source": [
    "rows = []\n",
    "for s_name, r_res in systems:\n",
    "    precision = metrics.precision_score(E, r_res)\n",
    "    recall = metrics.recall_score(E, r_res)\n",
    "    f1 = metrics.f1_score(E, r_res)\n",
    "    rows.append(\"<tr><td>{}</td><td>{}</td><td>{}</td><td>{}</td></tr>\".format(s_name,\n",
    "                                                                              round(precision, 2),\n",
    "                                                                              round(recall, 2),\n",
    "                                                                              round(f1, 2)))\n",
    "table = \"<table><tr><th>System</th><th>Precision</th><th>Recall</th><th>F1</th></tr>\"\n",
    "table += \"{}</table>\".format(\"\\n\".join(rows))\n",
    "display(HTML(table))"
   ]
  },
  {
   "cell_type": "code",
   "execution_count": 45,
   "metadata": {},
   "outputs": [],
   "source": [
    "scores = [('Cosine', score(R1)), ('Cosine Weights', score(R2)), \n",
    "          ('Multinomial', score(R3)), ('BM25', score(R4))]"
   ]
  },
  {
   "cell_type": "code",
   "execution_count": 48,
   "metadata": {},
   "outputs": [
    {
     "data": {
      "image/png": "[encoded data removed]",
      "text/plain": [
       "<matplotlib.figure.Figure at 0x10845d950>"
      ]
     },
     "metadata": {},
     "output_type": "display_data"
    }
   ],
   "source": [
    "fig, axes = plt.subplots(nrows=1, ncols=2, figsize=(10, 5))\n",
    "for sy, sc in scores:\n",
    "    prec, rec, _ = metrics.precision_recall_curve(E, sc)\n",
    "    i_prec = []\n",
    "    for i, w in enumerate(prec):\n",
    "        i_prec.append(max(prec[:i+1]))\n",
    "    axes[0].plot(rec, i_prec, label=sy)\n",
    "    fpr, tpr, _ = metrics.roc_curve(E, sc)\n",
    "    axes[1].plot(fpr, tpr, label=sy)\n",
    "axes[1].set_xlabel('False positive rate')\n",
    "axes[1].set_ylabel('True positive rate')\n",
    "axes[0].set_xlabel('Recall')\n",
    "axes[0].set_ylabel('Precision')\n",
    "axes[0].legend()\n",
    "axes[1].legend()\n",
    "plt.tight_layout()\n",
    "plt.show()"
   ]
  },
  {
   "cell_type": "code",
   "execution_count": 54,
   "metadata": {},
   "outputs": [],
   "source": [
    "thr = 0.8"
   ]
  },
  {
   "cell_type": "code",
   "execution_count": 55,
   "metadata": {},
   "outputs": [],
   "source": [
    "R1p = prediction(R1, threshold=thr)\n",
    "R2p = prediction(R2, threshold=thr)\n",
    "R3p = prediction(R3, threshold=thr)\n",
    "R4p = prediction(R4, threshold=thr)\n",
    "cm1 = metrics.confusion_matrix(E, R1p, labels=[1,0])\n",
    "cm2 = metrics.confusion_matrix(E, R2p, labels=[1,0])\n",
    "cm3 = metrics.confusion_matrix(E, R3p, labels=[1,0])\n",
    "cm4 = metrics.confusion_matrix(E, R4p, labels=[1,0])"
   ]
  },
  {
   "cell_type": "code",
   "execution_count": 56,
   "metadata": {},
   "outputs": [
    {
     "data": {
      "image/png": "[encoded data removed]",
      "text/plain": [
       "<matplotlib.figure.Figure at 0x10a4d56d0>"
      ]
     },
     "metadata": {},
     "output_type": "display_data"
    }
   ],
   "source": [
    "fig, axes = plt.subplots(nrows=2, ncols=2, figsize=(14, 14))\n",
    "cm_plot(axes[0,0], [1,0], cm1, 'Cosine', fig)\n",
    "cm_plot(axes[0,1], [1,0], cm2, 'Cosine Weights', fig)\n",
    "cm_plot(axes[1,0], [1,0], cm3, 'Multinomial', fig)\n",
    "cm_plot(axes[1,1], [1,0], cm4, 'BM25', fig)\n",
    "plt.tight_layout()\n",
    "plt.show()"
   ]
  },
  {
   "cell_type": "code",
   "execution_count": null,
   "metadata": {},
   "outputs": [],
   "source": []
  }
 ],
 "metadata": {
  "kernelspec": {
   "display_name": "Python 2",
   "language": "python",
   "name": "python2"
  },
  "language_info": {
   "codemirror_mode": {
    "name": "ipython",
    "version": 2
   },
   "file_extension": ".py",
   "mimetype": "text/x-python",
   "name": "python",
   "nbconvert_exporter": "python",
   "pygments_lexer": "ipython2",
   "version": "2.7.14"
  }
 },
 "nbformat": 4,
 "nbformat_minor": 2
}
