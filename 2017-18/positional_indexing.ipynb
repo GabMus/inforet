{
 "cells": [
  {
   "cell_type": "code",
   "execution_count": 1,
   "metadata": {},
   "outputs": [
    {
     "name": "stdout",
     "output_type": "stream",
     "text": [
      "importing Jupyter notebook from corpora.ipynb\n",
      "importing Jupyter notebook from indexing.ipynb\n"
     ]
    }
   ],
   "source": [
    "import nbimporter\n",
    "from corpora import FileStream\n",
    "from indexing import Tokenizer, DBIndex\n",
    "import numpy as np\n",
    "from IPython.display import clear_output"
   ]
  },
  {
   "cell_type": "markdown",
   "metadata": {},
   "source": [
    "# Positional indexing on MongoDB"
   ]
  },
  {
   "cell_type": "code",
   "execution_count": 2,
   "metadata": {},
   "outputs": [],
   "source": [
    "folder = 'data/wikisearch/brat_20'\n",
    "corpus = FileStream(folder, file_ext='txt')\n",
    "tokenizer = Tokenizer(preserve_case=False)\n",
    "I = DBIndex('inforet')\n",
    "c = 'wikisearch'"
   ]
  },
  {
   "cell_type": "code",
   "execution_count": null,
   "metadata": {},
   "outputs": [],
   "source": [
    "for i, doc_id in enumerate(corpus.docs):\n",
    "    doc = corpus.doc(doc_id)\n",
    "    words, lemmata = tokenizer.pattern_processing(doc, lemmata=True)\n",
    "    words = tokenizer.remove_punctuation(words)\n",
    "    tokens = tokenizer.remove_punctuation(lemmata)\n",
    "    I.index(c, doc_id, words, tokens)\n",
    "    print i+1, 'of', len(corpus.docs), 'indexed'\n",
    "    clear_output(wait=True)"
   ]
  },
  {
   "cell_type": "code",
   "execution_count": 7,
   "metadata": {},
   "outputs": [],
   "source": [
    "idf = I.idf_to_vec(c)"
   ]
  },
  {
   "cell_type": "code",
   "execution_count": 3,
   "metadata": {},
   "outputs": [],
   "source": [
    "tf = I.tf_to_matrix(c)"
   ]
  },
  {
   "cell_type": "code",
   "execution_count": 8,
   "metadata": {},
   "outputs": [],
   "source": [
    "tfidf = tf * idf"
   ]
  },
  {
   "cell_type": "code",
   "execution_count": 9,
   "metadata": {},
   "outputs": [
    {
     "name": "stdout",
     "output_type": "stream",
     "text": [
      "[[ 25.85330254   2.0459934    8.78167044 ...,   0.           0.           0.        ]\n",
      " [  0.           0.           0.         ...,   0.           0.           0.        ]\n",
      " [  0.           0.           0.         ...,   0.           0.           0.        ]\n",
      " ..., \n",
      " [  0.           0.           0.         ...,   0.           0.           0.        ]\n",
      " [  0.           0.           0.         ...,   0.           0.           0.        ]\n",
      " [  0.           0.           0.         ...,   3.48025226   3.48025226\n",
      "    3.48025226]]\n"
     ]
    }
   ],
   "source": [
    "print tfidf"
   ]
  },
  {
   "cell_type": "code",
   "execution_count": 10,
   "metadata": {},
   "outputs": [],
   "source": [
    "docs, tokens = I.docs(c), I.tokens(c)"
   ]
  },
  {
   "cell_type": "code",
   "execution_count": 20,
   "metadata": {},
   "outputs": [
    {
     "name": "stdout",
     "output_type": "stream",
     "text": [
      "0.0271323264379\n",
      "0.0\n",
      "0.0503886062419\n",
      "8.78167044484\n"
     ]
    }
   ],
   "source": [
    "print tfidf[docs.index('37968451.txt'), tokens.index('be')]\n",
    "print tfidf[docs.index('37968451.txt'), tokens.index('country')]\n",
    "print tfidf[0, tokens.index('be')]\n",
    "print tfidf[0, tokens.index('country')]"
   ]
  },
  {
   "cell_type": "code",
   "execution_count": 16,
   "metadata": {},
   "outputs": [
    {
     "name": "stdout",
     "output_type": "stream",
     "text": [
      "Defensive gun use (DGU) is the use or presentation of a firearm for self-defense, defense of others or in some cases, protecting property. The frequency of incidents involving DGU, and their effectiveness in providing safety and reducing crime is a controversial issue in gun politics and criminology. Different authors and studies employ different criteria for what constitutes a defensive gun use which leads to controversy in comparing statistical results. Perceptions of defensive gun use are recurring themes in discussions over gun rights, gun control, armed police, open and concealed carry of firearms.\n"
     ]
    }
   ],
   "source": [
    "print corpus.doc('37968451.txt')"
   ]
  },
  {
   "cell_type": "code",
   "execution_count": 18,
   "metadata": {},
   "outputs": [
    {
     "name": "stdout",
     "output_type": "stream",
     "text": [
      "Landlocked developing countries (LLDC) are developing countries that are landlocked. The economic and other disadvantages experienced by such countries makes the majority of landlocked countries least developed countries (LDC), with inhabitants of these countries occupying the bottom billion tier of the world's population in terms of poverty. Apart from Europe, there is not a single successful highly developed landlocked country as measured by the Human Development Index (HDI), and nine of the twelve countries with the lowest HDI scores are landlocked. Landlocked European countries are exceptions in terms of development outcomes due to their close integration with the regional European market. Landlocked countries that rely on transoceanic trade usually suffer a cost of trade that is double that of their maritime neighbours. Landlocked countries experience economic growth 6% less than their non-landlocked countries, holding other variables constant.\n",
      "About 468 million people live in current LLDCs.\n"
     ]
    }
   ],
   "source": [
    "print corpus.doc(docs[0])"
   ]
  },
  {
   "cell_type": "code",
   "execution_count": null,
   "metadata": {},
   "outputs": [],
   "source": []
  }
 ],
 "metadata": {
  "kernelspec": {
   "display_name": "Python 2",
   "language": "python",
   "name": "python2"
  },
  "language_info": {
   "codemirror_mode": {
    "name": "ipython",
    "version": 2
   },
   "file_extension": ".py",
   "mimetype": "text/x-python",
   "name": "python",
   "nbconvert_exporter": "python",
   "pygments_lexer": "ipython2",
   "version": "2.7.14"
  }
 },
 "nbformat": 4,
 "nbformat_minor": 2
}
