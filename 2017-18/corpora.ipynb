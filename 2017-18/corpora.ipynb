{
 "cells": [
  {
   "cell_type": "markdown",
   "metadata": {},
   "source": [
    "# Python classes for managing textual corpora"
   ]
  },
  {
   "cell_type": "code",
   "execution_count": 8,
   "metadata": {},
   "outputs": [],
   "source": [
    "import codecs\n",
    "import os"
   ]
  },
  {
   "cell_type": "code",
   "execution_count": 9,
   "metadata": {},
   "outputs": [],
   "source": [
    "class FileStream(object):\n",
    "    \n",
    "    def __init__(self, folder, file_ext=None, encoding='utf-8'):\n",
    "        self.folder = folder\n",
    "        self.ext = file_ext\n",
    "        self.encoding = encoding\n",
    "        if self.ext is None:\n",
    "            self.docs = [f for f in os.listdir(self.folder)]\n",
    "        else:\n",
    "            self.docs = [f for f in os.listdir(self.folder) if f.endswith(self.ext)]\n",
    "        \n",
    "    def __iter__(self):\n",
    "        for f in self.docs:\n",
    "            yield self.doc(f)\n",
    "    \n",
    "    def doc(self, doc_id):\n",
    "        with codecs.open(os.sep.join([self.folder, doc_id]), 'rU', encoding=self.encoding) as fs:\n",
    "            data = fs.read()\n",
    "        return data \n",
    "    \n",
    "    def first_line(self, doc_id):\n",
    "        with codecs.open(os.sep.join([self.folder, doc_id]), 'rU', encoding=self.encoding) as fs:\n",
    "            data = fs.readlines()\n",
    "        return data[0]\n"
   ]
  }
 ],
 "metadata": {
  "kernelspec": {
   "display_name": "Python 2",
   "language": "python",
   "name": "python2"
  },
  "language_info": {
   "codemirror_mode": {
    "name": "ipython",
    "version": 2
   },
   "file_extension": ".py",
   "mimetype": "text/x-python",
   "name": "python",
   "nbconvert_exporter": "python",
   "pygments_lexer": "ipython2",
   "version": "2.7.14"
  }
 },
 "nbformat": 4,
 "nbformat_minor": 2
}
