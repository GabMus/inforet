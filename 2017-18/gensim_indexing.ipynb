{
 "cells": [
  {
   "cell_type": "code",
   "execution_count": 1,
   "metadata": {},
   "outputs": [
    {
     "name": "stdout",
     "output_type": "stream",
     "text": [
      "importing Jupyter notebook from corpora.ipynb\n",
      "importing Jupyter notebook from indexing.ipynb\n"
     ]
    }
   ],
   "source": [
    "import nbimporter\n",
    "from corpora import FileStream\n",
    "from indexing import Tokenizer, DBIndex\n",
    "import numpy as np\n",
    "from IPython.display import clear_output"
   ]
  },
  {
   "cell_type": "markdown",
   "metadata": {},
   "source": [
    "# Example of using gensim for indexing"
   ]
  },
  {
   "cell_type": "code",
   "execution_count": 2,
   "metadata": {},
   "outputs": [],
   "source": [
    "folder = 'data/wikisearch/brat_20'\n",
    "corpus = FileStream(folder, file_ext='txt')\n",
    "tokenizer = Tokenizer(preserve_case=False)\n",
    "I = DBIndex('inforet')\n",
    "c = 'wikisearch'"
   ]
  },
  {
   "cell_type": "markdown",
   "metadata": {},
   "source": [
    "## Use of gensim\n",
    "\n",
    "### Create dictionary"
   ]
  },
  {
   "cell_type": "code",
   "execution_count": 5,
   "metadata": {},
   "outputs": [],
   "source": [
    "from gensim import corpora\n",
    "from gensim import matutils"
   ]
  },
  {
   "cell_type": "code",
   "execution_count": 6,
   "metadata": {},
   "outputs": [],
   "source": [
    "dictionary = corpora.Dictionary(tokens for tokens in I.stream(c))"
   ]
  },
  {
   "cell_type": "code",
   "execution_count": 7,
   "metadata": {},
   "outputs": [
    {
     "name": "stdout",
     "output_type": "stream",
     "text": [
      "Dictionary(9327 unique tokens: [u'halligan', u'constan\\u021ba', u'addictiveness', u'1,775', u'galactica']...)\n"
     ]
    }
   ],
   "source": [
    "print dictionary"
   ]
  },
  {
   "cell_type": "code",
   "execution_count": 8,
   "metadata": {},
   "outputs": [
    {
     "name": "stdout",
     "output_type": "stream",
     "text": [
      "[(u'halligan', 9243), (u'constan\\u021ba', 5151), (u'addictiveness', 4756), (u'1,775', 5158), (u'galactica', 2038), (u'yellow', 5480)]\n"
     ]
    }
   ],
   "source": [
    "print dictionary.token2id.items()[:6]"
   ]
  },
  {
   "cell_type": "code",
   "execution_count": 9,
   "metadata": {},
   "outputs": [
    {
     "name": "stdout",
     "output_type": "stream",
     "text": [
      "environment\n"
     ]
    }
   ],
   "source": [
    "print dictionary[22]"
   ]
  },
  {
   "cell_type": "code",
   "execution_count": 11,
   "metadata": {},
   "outputs": [
    {
     "name": "stdout",
     "output_type": "stream",
     "text": [
      "[(129, 2), (156, 1), (181, 1), (2536, 1)]\n"
     ]
    }
   ],
   "source": [
    "print dictionary.doc2bow(['man', 'work', 'business', 'to', 'business'])"
   ]
  },
  {
   "cell_type": "markdown",
   "metadata": {},
   "source": [
    "### Corpus streaming"
   ]
  },
  {
   "cell_type": "code",
   "execution_count": 12,
   "metadata": {},
   "outputs": [],
   "source": [
    "class Wiki(object):\n",
    "    \n",
    "    def __init__(self, collection, _index, dictionary):\n",
    "        self.collection = collection\n",
    "        self.i = _index\n",
    "        self.dict = dictionary\n",
    "        \n",
    "    def __iter__(self):\n",
    "        for tokens in self.i.stream(self.collection):\n",
    "            yield self.dict.doc2bow(tokens)"
   ]
  },
  {
   "cell_type": "code",
   "execution_count": 13,
   "metadata": {},
   "outputs": [],
   "source": [
    "corpus = Wiki(c, I, dictionary)"
   ]
  },
  {
   "cell_type": "code",
   "execution_count": 14,
   "metadata": {},
   "outputs": [],
   "source": [
    "corpora.MmCorpus.serialize('/tmp/corpus.mm', corpus)"
   ]
  },
  {
   "cell_type": "code",
   "execution_count": 15,
   "metadata": {},
   "outputs": [],
   "source": [
    "mm = corpora.MmCorpus('/tmp/corpus.mm')"
   ]
  },
  {
   "cell_type": "code",
   "execution_count": 16,
   "metadata": {},
   "outputs": [
    {
     "name": "stdout",
     "output_type": "stream",
     "text": [
      "MmCorpus(390 documents, 9327 features, 42747 non-zero entries)\n"
     ]
    }
   ],
   "source": [
    "print mm"
   ]
  },
  {
   "cell_type": "markdown",
   "metadata": {},
   "source": [
    "### Compatibility with NumPy"
   ]
  },
  {
   "cell_type": "code",
   "execution_count": 18,
   "metadata": {},
   "outputs": [],
   "source": [
    "matrix = matutils.corpus2dense(mm, num_terms=9327)"
   ]
  },
  {
   "cell_type": "code",
   "execution_count": 19,
   "metadata": {},
   "outputs": [
    {
     "name": "stdout",
     "output_type": "stream",
     "text": [
      "[[  2.  10.   7. ...,   4.  10.   3.]\n",
      " [  1.   0.   0. ...,   0.   0.   0.]\n",
      " [  1.   1.   0. ...,   0.   0.   0.]\n",
      " ..., \n",
      " [  0.   0.   0. ...,   0.   0.   5.]\n",
      " [  0.   0.   0. ...,   0.   0.   1.]\n",
      " [  0.   0.   0. ...,   0.   0.   1.]]\n"
     ]
    }
   ],
   "source": [
    "print matrix"
   ]
  },
  {
   "cell_type": "code",
   "execution_count": null,
   "metadata": {},
   "outputs": [],
   "source": []
  }
 ],
 "metadata": {
  "kernelspec": {
   "display_name": "Python 2",
   "language": "python",
   "name": "python2"
  },
  "language_info": {
   "codemirror_mode": {
    "name": "ipython",
    "version": 2
   },
   "file_extension": ".py",
   "mimetype": "text/x-python",
   "name": "python",
   "nbconvert_exporter": "python",
   "pygments_lexer": "ipython2",
   "version": "2.7.14"
  }
 },
 "nbformat": 4,
 "nbformat_minor": 2
}
