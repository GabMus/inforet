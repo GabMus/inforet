{
 "cells": [
  {
   "cell_type": "markdown",
   "metadata": {},
   "source": [
    "# Benchmark for retrieval based on wikisearch\n",
    "Starting from a set of queries exploits the search engine fo Wikipedia to end out with page summaries."
   ]
  },
  {
   "cell_type": "code",
   "execution_count": 1,
   "metadata": {},
   "outputs": [
    {
     "name": "stdout",
     "output_type": "stream",
     "text": [
      "importing Jupyter notebook from corpora.ipynb\n",
      "importing Jupyter notebook from benchmark.ipynb\n"
     ]
    }
   ],
   "source": [
    "import nbimporter\n",
    "from corpora import FileStream\n",
    "from benchmark import Wikisearch\n",
    "import wikipedia"
   ]
  },
  {
   "cell_type": "code",
   "execution_count": 2,
   "metadata": {},
   "outputs": [],
   "source": [
    "outfolder = '/Users/alfio/Dati/wikisearch/brat_20'\n",
    "infolder = '/Users/alfio/Research/NCSR/argumentmining/corpora/brat/brat-project/brat-project'"
   ]
  },
  {
   "cell_type": "code",
   "execution_count": 3,
   "metadata": {},
   "outputs": [],
   "source": [
    "W = Wikisearch(outfolder)\n",
    "corpus = FileStream(infolder, file_ext='txt')"
   ]
  },
  {
   "cell_type": "code",
   "execution_count": 4,
   "metadata": {},
   "outputs": [
    {
     "name": "stdout",
     "output_type": "stream",
     "text": [
      "searching for young people should go to university or not\n",
      "20 documents retrieved\n",
      "searching for gun control \n",
      "40 documents retrieved\n",
      "searching for international sporting occasions help to ease international tensions\n",
      "60 documents retrieved\n",
      "searching for effects of mobile phones\n",
      "80 documents retrieved\n",
      "searching for the truth about cannabis\n",
      "100 documents retrieved\n",
      "searching for high sales reflect power of advertising and not the real need\n",
      "120 documents retrieved\n",
      "searching for advertisements affects on consumer goods\n",
      "140 documents retrieved\n",
      "searching for air pollution\n",
      "160 documents retrieved\n",
      "searching for study at school or get a job?\n",
      "177 page error\n",
      "searching for technology cannot solve all the world's problems!\n",
      "197 documents retrieved\n",
      "searching for government and education\n",
      "217 documents retrieved\n",
      "searching for computer has negative effects to children\n",
      "237 documents retrieved\n",
      "searching for gender equality at university admission\n",
      "257 documents retrieved\n",
      "searching for museums as a form of entertainment or education?\n",
      "277 documents retrieved\n",
      "searching for influence of large factory\n",
      "297 documents retrieved\n",
      "searching for alternative forms of transport to alleviate traffic congestion\n",
      "317 documents retrieved\n",
      "searching for financial aid to developing countries\n",
      "337 documents retrieved\n",
      "searching for effects of globalization (decrease in global tension)\n",
      "357 documents retrieved\n",
      "searching for giving aid to poorer countries has more negative effects than positive effect\n",
      "377 documents retrieved\n",
      "searching for prepared food\n",
      "397 documents retrieved\n"
     ]
    }
   ],
   "source": [
    "for i, doc in enumerate(corpus.docs[:20]):\n",
    "    q = corpus.first_line(doc)\n",
    "    q = q.rstrip('\\n').lower()\n",
    "    print 'searching for', q\n",
    "    try:\n",
    "        W.search(q)\n",
    "        print sum([len(y) for x, y in W.mapping.items()]), 'documents retrieved'\n",
    "    except wikipedia.exceptions.PageError:\n",
    "        print sum([len(y) for x, y in W.mapping.items()]), 'page error'\n",
    "    except wikipedia.exceptions.DisambiguationError:\n",
    "        print sum([len(y) for x, y in W.mapping.items()]), 'page error'"
   ]
  },
  {
   "cell_type": "code",
   "execution_count": 5,
   "metadata": {},
   "outputs": [],
   "source": [
    "W.save(content=False)"
   ]
  },
  {
   "cell_type": "code",
   "execution_count": null,
   "metadata": {},
   "outputs": [],
   "source": []
  }
 ],
 "metadata": {
  "kernelspec": {
   "display_name": "Python 2",
   "language": "python",
   "name": "python2"
  },
  "language_info": {
   "codemirror_mode": {
    "name": "ipython",
    "version": 2
   },
   "file_extension": ".py",
   "mimetype": "text/x-python",
   "name": "python",
   "nbconvert_exporter": "python",
   "pygments_lexer": "ipython2",
   "version": "2.7.14"
  }
 },
 "nbformat": 4,
 "nbformat_minor": 2
}
