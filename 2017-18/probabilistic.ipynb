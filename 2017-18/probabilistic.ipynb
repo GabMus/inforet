{
 "cells": [
  {
   "cell_type": "code",
   "execution_count": 1,
   "metadata": {},
   "outputs": [
    {
     "name": "stdout",
     "output_type": "stream",
     "text": [
      "importing Jupyter notebook from languagemodels.ipynb\n"
     ]
    }
   ],
   "source": [
    "import nbimporter\n",
    "from languagemodels import BiGram, HMM, ProbabilisticRetrieval\n",
    "import os\n",
    "import codecs\n",
    "import numpy as np"
   ]
  },
  {
   "cell_type": "code",
   "execution_count": 2,
   "metadata": {},
   "outputs": [],
   "source": [
    "def documents(folder):\n",
    "    for f in os.listdir(folder):\n",
    "        if f.endswith('.txt'):\n",
    "            with codecs.open(os.sep.join([brat, f]), \n",
    "                           'rb', encoding='utf-8') as df:\n",
    "                text = df.read()\n",
    "                yield text"
   ]
  },
  {
   "cell_type": "markdown",
   "metadata": {},
   "source": [
    "# Probabilistic query and generation of text"
   ]
  },
  {
   "cell_type": "markdown",
   "metadata": {},
   "source": [
    "## Bi-gram modeling"
   ]
  },
  {
   "cell_type": "code",
   "execution_count": 9,
   "metadata": {},
   "outputs": [],
   "source": [
    "bg = BiGram(BiGram._get_string)"
   ]
  },
  {
   "cell_type": "code",
   "execution_count": 10,
   "metadata": {},
   "outputs": [],
   "source": [
    "brat = 'data/brat/'"
   ]
  },
  {
   "cell_type": "code",
   "execution_count": 11,
   "metadata": {},
   "outputs": [],
   "source": [
    "for text in documents(brat):\n",
    "    bg.add(text)"
   ]
  },
  {
   "cell_type": "code",
   "execution_count": 12,
   "metadata": {},
   "outputs": [],
   "source": [
    "H = HMM(bg)"
   ]
  },
  {
   "cell_type": "markdown",
   "metadata": {},
   "source": [
    "### Text generation"
   ]
  },
  {
   "cell_type": "code",
   "execution_count": 17,
   "metadata": {},
   "outputs": [
    {
     "name": "stdout",
     "output_type": "stream",
     "text": [
      "i love , through cooperation , the day by top-of-the-range universities as they should be then , gain most violent\n"
     ]
    }
   ],
   "source": [
    "print H.generate(length=20)"
   ]
  },
  {
   "cell_type": "code",
   "execution_count": 22,
   "metadata": {},
   "outputs": [],
   "source": [
    "H2 = HMM(bg, min_occurrences=5)"
   ]
  },
  {
   "cell_type": "code",
   "execution_count": 23,
   "metadata": {},
   "outputs": [
    {
     "name": "stdout",
     "output_type": "stream",
     "text": [
      "there is the society on other activities for night .\n"
     ]
    }
   ],
   "source": [
    "print H.generate(length=20)"
   ]
  },
  {
   "cell_type": "markdown",
   "metadata": {},
   "source": [
    "### Text evaluation"
   ]
  },
  {
   "cell_type": "code",
   "execution_count": 24,
   "metadata": {},
   "outputs": [],
   "source": [
    "test = '''this test text is about usage of \n",
    "probabilistic techniques in information retrieval'''"
   ]
  },
  {
   "cell_type": "code",
   "execution_count": 28,
   "metadata": {},
   "outputs": [
    {
     "name": "stdout",
     "output_type": "stream",
     "text": [
      "5.64253007969e-07\n"
     ]
    }
   ],
   "source": [
    "print H.evaluate(test, alpha=1.0)"
   ]
  },
  {
   "cell_type": "code",
   "execution_count": 29,
   "metadata": {},
   "outputs": [],
   "source": [
    "test2 = '''this second text is about schools'''"
   ]
  },
  {
   "cell_type": "code",
   "execution_count": 30,
   "metadata": {},
   "outputs": [
    {
     "name": "stdout",
     "output_type": "stream",
     "text": [
      "4.23189755976e-07\n"
     ]
    }
   ],
   "source": [
    "print H.evaluate(test2, alpha=1.0)"
   ]
  },
  {
   "cell_type": "markdown",
   "metadata": {},
   "source": [
    "### Document retrieval"
   ]
  },
  {
   "cell_type": "code",
   "execution_count": 31,
   "metadata": {},
   "outputs": [],
   "source": [
    "P = ProbabilisticRetrieval()"
   ]
  },
  {
   "cell_type": "code",
   "execution_count": 32,
   "metadata": {},
   "outputs": [],
   "source": [
    "brat = 'data/brat/'"
   ]
  },
  {
   "cell_type": "code",
   "execution_count": 33,
   "metadata": {},
   "outputs": [],
   "source": [
    "P.indexing(documents(brat))"
   ]
  },
  {
   "cell_type": "code",
   "execution_count": 38,
   "metadata": {},
   "outputs": [],
   "source": [
    "Qs = [x for x in documents(brat)]"
   ]
  },
  {
   "cell_type": "code",
   "execution_count": 39,
   "metadata": {},
   "outputs": [
    {
     "name": "stdout",
     "output_type": "stream",
     "text": [
      "Young people should go to university or not\n",
      "\n",
      "Persistent deliberation is happening as to whether it is desirable for the youth to go to university. In regard to the development of the country, some people believe that it is essential for young students to get high quality of education in universities, while others think that it is only one of causes to increase the rate of unemployment. In this essay, I will analyze both views first in order to come up with a fool-proof decision.\n",
      "To begin with, those who advocate the impracticability of university have several reasons. From their point of view, the fact is that there are numerous job opportunities for those who do not have the certification of university graduation, such as mechanics, sales persons, or engineers, and, furthermore, labors for graduates are in short supply. What is worse, the labor market for highly educated students is now too competitive to get a job after finishing their studying. In this regard it is a loss of national productivity that young people spend much time on searching for high salary jobs, even can be a sheer time-consuming.\n",
      "However, on the other side of the coin are voices in the opposition, saying that universities provide not only skills for careers, but also academic knowledge for the human race, such as bio science, politics, and medicine. These academic values are necessary to the progress of the world. More importantly, many researches in the ivory-tower have created ingenious discoveries and achievements for the development of modern society. Another significant factor of universities is that diverse experiences in the campus life can make the young generation more competently because there are a number of chances through internships, deeper discussion, independent life, and exchange scholarships.\n",
      "To sum up both contentions about the necessity of universities' education have reasonable justifications; however, I agree with the latter view. Although higher education does not guarantee young students' success, the benefits of learning in universities are the vital factor in creating more possibilities for the development of society through advancing academic fulfillment and the young generation who have experiences and challenges.\n",
      "\n"
     ]
    }
   ],
   "source": [
    "print Qs[0]"
   ]
  },
  {
   "cell_type": "code",
   "execution_count": 40,
   "metadata": {},
   "outputs": [],
   "source": [
    "results = P.search(Qs[0])"
   ]
  },
  {
   "cell_type": "code",
   "execution_count": 41,
   "metadata": {},
   "outputs": [
    {
     "name": "stdout",
     "output_type": "stream",
     "text": [
      "0 -352.154495407\n",
      "Young people should go to university or not \n",
      "\n",
      "1 -inf\n",
      "Gun control  \n",
      "\n",
      "2 -inf\n",
      "International sporting occasions help to ease international tensions \n",
      "\n",
      "3 -inf\n",
      "Effects of mobile phones \n",
      "\n",
      "4 -inf\n",
      "The Truth About Cannabis \n",
      "\n",
      "5 -inf\n",
      "High sales reflect Power of Advertising and not the Real Need \n",
      "\n",
      "6 -inf\n",
      "Advertisements affects on consumer goods \n",
      "\n",
      "7 -inf\n",
      "Air pollution \n",
      "\n",
      "8 -inf\n",
      "Study at school or get a job? \n",
      "\n",
      "9 -inf\n",
      "Technology cannot solve all the world's problems! \n",
      "\n",
      "10 -inf\n",
      "GOVERNMENT AND EDUCATION \n",
      "\n",
      "11 -inf\n",
      "computer has negative effects to children \n",
      "\n",
      "12 -inf\n",
      "Gender Equality at university admission \n",
      "\n",
      "13 -inf\n",
      "Museums as a form of entertainment or education? \n",
      "\n",
      "14 -inf\n",
      "INFLUENCE OF LARGE FACTORY \n",
      "\n",
      "15 -inf\n",
      "Alternative forms of transport to alleviate traffic congestion \n",
      "\n",
      "16 -inf\n",
      "FINANCIAL AID TO DEVELOPING COUNTRIES \n",
      "\n",
      "17 -inf\n",
      "effects of globalization (decrease in global tension) \n",
      "\n",
      "18 -inf\n",
      "Giving aid to poorer countries has more negative effects than positive effect \n",
      "\n",
      "19 -inf\n",
      "PREPARED FOOD \n",
      "\n",
      "20 -inf\n",
      "Nowadays there are more opportunities for women than there were in the past \n",
      "\n",
      "21 -inf\n",
      "Benefits of students' unpaid work \n",
      "\n",
      "22 -inf\n",
      "should teenagers learn all school subjects/focus on one subject \n",
      "\n",
      "23 -inf\n",
      "Advertising - positive or negative part of our lives \n",
      "\n",
      "24 -inf\n",
      "The nuclear power provide clean and cheap energy \n",
      "\n",
      "25 -inf\n",
      "museums and art galleries will disappear soon? \n",
      "\n",
      "26 -inf\n",
      "Benefits of students doing extra jobs \n",
      "\n",
      "27 -inf\n",
      "should goverment control media crime \n",
      "\n",
      "28 -inf\n",
      "Influence of English - advantages outweigh the disadvantages \n",
      "\n",
      "29 -inf\n",
      "Paying more money is the only motivation to make employees work harder \n",
      "\n",
      "30 -inf\n",
      "Artists' freedom to express ideas \n",
      "\n",
      "31 -inf\n",
      "Keeping animals in zoos \n",
      "\n",
      "32 -inf\n",
      "Sporting events easing international tensions, releasing patriotic feelings \n",
      "\n",
      "33 -inf\n",
      "creativity-should it be given freedom or restrictions \n",
      "\n",
      "34 -inf\n",
      "humans should be able to use animals for their own benefit? \n",
      "\n",
      "35 -inf\n",
      "zoos should be built to protect rural animals \n",
      "\n",
      "36 -inf\n",
      "Solve traffic and housing problems by moving companies to the rural areas? \n",
      "\n",
      "37 -inf\n",
      "Giving mobile phones to the unemployed \n",
      "\n",
      "38 -inf\n",
      "Use of CCTV cameras \n",
      "\n",
      "39 -inf\n",
      "True Function of A University \n",
      "\n",
      "40 -inf\n",
      "advantages and disadvantages of the prevalent of English \n",
      "\n",
      "41 -inf\n",
      "Government should make more effort to promote alternative sources of energy \n",
      "\n",
      "42 -inf\n",
      "Should high school make music lessons compulsory \n",
      "\n",
      "43 -inf\n",
      "economic development vs environment \n",
      "\n",
      "44 -inf\n",
      "Can petrol price increase impact on reducing traffic and pollution? \n",
      "\n",
      "45 -inf\n",
      "teaching and researching working together lead to the success \n",
      "\n",
      "46 -inf\n",
      "Government should spend money on ARTs, not only on public services \n",
      "\n",
      "47 -inf\n",
      "pros and cons of developments in agriculture \n",
      "\n",
      "48 -inf\n",
      "should governments be responsible to help the unemployed and homeless \n",
      "\n",
      "49 -inf\n",
      "distance-learning vs. attending school in person \n",
      "\n",
      "50 -inf\n",
      "is a break good or bad after high school for students \n",
      "\n",
      "51 -inf\n",
      "Several languages are in danger of extinction \n",
      "\n",
      "52 -inf\n",
      "Do arts and music improve the quality of life? \n",
      "\n",
      "53 -inf\n",
      "computers..use,future prospects and over-dependence \n",
      "\n",
      "54 -inf\n",
      "Do modern communication technologies benefit all people \n",
      "\n",
      "55 -inf\n",
      "zoos should be banned \n",
      "\n",
      "56 -inf\n",
      "people will spend less time on cooking food \n",
      "\n",
      "57 -inf\n",
      "Prefer to live in a small town rather than a city \n",
      "\n",
      "58 -inf\n",
      "Knowledge from experience is more important than that from books \n",
      "\n",
      "59 -inf\n",
      "should universities accept equal number of males/females or not \n",
      "\n",
      "60 -inf\n",
      "Government should be responsible for education and health care or not? \n",
      "\n",
      "61 -inf\n",
      "Those who use drugs should be automatically sentenced to time in prison \n",
      "\n",
      "62 -inf\n",
      "Technology keeps traditional skills and ways of life alive or not? \n",
      "\n",
      "63 -inf\n",
      "Creative Artists \n",
      "\n",
      "64 -inf\n",
      "Is image more powerful than the written word? \n",
      "\n",
      "65 -inf\n",
      "government shouldn't put money on building theaters or sports stadiums \n",
      "\n",
      "66 -inf\n",
      "should all the advertisements be banned? \n",
      "\n",
      "67 -inf\n",
      "capital punishment..necessary or not \n",
      "\n",
      "68 -inf\n",
      "competition or co-operation-which is better \n",
      "\n",
      "69 -inf\n",
      "Growing traffic & pollution can be controlled by increasing petrol prices \n",
      "\n",
      "70 -inf\n",
      "Traditional games or modern games in developing children's skills \n",
      "\n",
      "71 -inf\n",
      "International tourism is now more common than ever before \n",
      "\n",
      "72 -inf\n",
      "Should rich countries help poor countries? \n",
      "\n",
      "73 -inf\n",
      "Using animals for the benefit of the human beings \n",
      "\n",
      "74 -inf\n",
      "More people are migrating to other countries than ever before \n",
      "\n",
      "75 -inf\n",
      "Society should ban all forms of the advertising \n",
      "\n",
      "76 -inf\n",
      "Lessons with teachers versus others sources \n",
      "\n",
      "77 -inf\n",
      "Should students be taught to compete or to cooperate? \n",
      "\n",
      "78 -inf\n",
      "Email and text messaging threats written language \n",
      "\n",
      "79 -inf\n",
      "Do married women usually work? Why and why not? \n",
      "\n",
      "80 -inf\n",
      "Everyone Should Go Camping \n",
      "\n",
      "81 -inf\n",
      "Living and studying overseas \n",
      "\n",
      "82 -inf\n",
      "Why should human beings travel to outer space? \n",
      "\n",
      "83 -inf\n",
      "technology that widen the gap between rich and poor? \n",
      "\n",
      "84 -inf\n",
      "International tourism is now more common than ever before \n",
      "\n",
      "85 -inf\n",
      "The Non-Issue of Same Sex Marriage \n",
      "\n",
      "86 -inf\n",
      "Why you should Exercise \n",
      "\n",
      "87 -inf\n",
      "Locker Checks \n",
      "\n",
      "88 -inf\n",
      "Computer replace  man power in jobs \n",
      "\n",
      "89 -inf\n",
      "Will newspapers become a thing of the past? \n",
      "\n"
     ]
    },
    {
     "name": "stderr",
     "output_type": "stream",
     "text": [
      "/usr/local/lib/python2.7/site-packages/ipykernel_launcher.py:2: RuntimeWarning: divide by zero encountered in log\n",
      "  \n"
     ]
    }
   ],
   "source": [
    "for doc, p in results:\n",
    "    print doc, np.log(p)\n",
    "    print P.exerpt(doc), '\\n'"
   ]
  },
  {
   "cell_type": "code",
   "execution_count": null,
   "metadata": {},
   "outputs": [],
   "source": []
  }
 ],
 "metadata": {
  "kernelspec": {
   "display_name": "Python 2",
   "language": "python",
   "name": "python2"
  },
  "language_info": {
   "codemirror_mode": {
    "name": "ipython",
    "version": 2
   },
   "file_extension": ".py",
   "mimetype": "text/x-python",
   "name": "python",
   "nbconvert_exporter": "python",
   "pygments_lexer": "ipython2",
   "version": "2.7.14"
  }
 },
 "nbformat": 4,
 "nbformat_minor": 2
}
